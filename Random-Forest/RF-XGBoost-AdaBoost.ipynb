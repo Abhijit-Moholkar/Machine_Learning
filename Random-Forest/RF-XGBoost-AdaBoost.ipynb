{
 "cells": [
  {
   "cell_type": "code",
   "execution_count": 1,
   "metadata": {
    "id": "LOb7YFH7iwAC"
   },
   "outputs": [
    {
     "ename": "ModuleNotFoundError",
     "evalue": "No module named 'xgboost'",
     "output_type": "error",
     "traceback": [
      "\u001b[1;31m---------------------------------------------------------------------------\u001b[0m",
      "\u001b[1;31mModuleNotFoundError\u001b[0m                       Traceback (most recent call last)",
      "\u001b[1;32m<ipython-input-1-42ffd83d86f6>\u001b[0m in \u001b[0;36m<module>\u001b[1;34m\u001b[0m\n\u001b[0;32m      7\u001b[0m \u001b[1;32mfrom\u001b[0m \u001b[0msklearn\u001b[0m\u001b[1;33m.\u001b[0m\u001b[0mpreprocessing\u001b[0m \u001b[1;32mimport\u001b[0m \u001b[0mOneHotEncoder\u001b[0m\u001b[1;33m,\u001b[0m\u001b[0mLabelEncoder\u001b[0m\u001b[1;33m\u001b[0m\u001b[1;33m\u001b[0m\u001b[0m\n\u001b[0;32m      8\u001b[0m \u001b[1;32mfrom\u001b[0m \u001b[0msklearn\u001b[0m\u001b[1;33m.\u001b[0m\u001b[0mmetrics\u001b[0m \u001b[1;32mimport\u001b[0m \u001b[0mconfusion_matrix\u001b[0m\u001b[1;33m,\u001b[0m\u001b[0mclassification_report\u001b[0m\u001b[1;33m\u001b[0m\u001b[1;33m\u001b[0m\u001b[0m\n\u001b[1;32m----> 9\u001b[1;33m \u001b[1;32mfrom\u001b[0m \u001b[0mxgboost\u001b[0m \u001b[1;32mimport\u001b[0m \u001b[0mXGBClassifier\u001b[0m\u001b[1;33m\u001b[0m\u001b[1;33m\u001b[0m\u001b[0m\n\u001b[0m",
      "\u001b[1;31mModuleNotFoundError\u001b[0m: No module named 'xgboost'"
     ]
    }
   ],
   "source": [
    "import numpy as np\n",
    "import pandas as pd\n",
    "from matplotlib import pyplot as plt\n",
    "import seaborn as sns\n",
    "from sklearn.model_selection import StratifiedKFold, GridSearchCV,cross_val_score\n",
    "from sklearn.ensemble import RandomForestClassifier, AdaBoostClassifier\n",
    "from sklearn.preprocessing import OneHotEncoder,LabelEncoder\n",
    "from sklearn.metrics import confusion_matrix,classification_report\n",
    "from xgboost import XGBClassifier"
   ]
  },
  {
   "cell_type": "code",
   "execution_count": null,
   "metadata": {
    "colab": {
     "base_uri": "https://localhost:8080/"
    },
    "id": "RpWicImQjxS2",
    "outputId": "70245adf-80ae-45e8-d1e7-b3847c323be6"
   },
   "outputs": [],
   "source": [
    "print(sns.get_dataset_names())"
   ]
  },
  {
   "cell_type": "code",
   "execution_count": null,
   "metadata": {
    "colab": {
     "base_uri": "https://localhost:8080/",
     "height": 206
    },
    "id": "KkPaXGYnkQsR",
    "outputId": "c52c870a-5fa8-4ae0-ac4d-c7f394178b63"
   },
   "outputs": [],
   "source": [
    "df = sns.load_dataset('iris')\n",
    "df.head()"
   ]
  },
  {
   "cell_type": "code",
   "execution_count": null,
   "metadata": {
    "colab": {
     "base_uri": "https://localhost:8080/"
    },
    "id": "7_c6TN5Nk-KS",
    "outputId": "b55abf2e-19b1-49c8-f745-9a8979aa4ff1"
   },
   "outputs": [],
   "source": [
    "df.species.value_counts()"
   ]
  },
  {
   "cell_type": "code",
   "execution_count": null,
   "metadata": {
    "id": "7QEP9F4vkaI4"
   },
   "outputs": [],
   "source": [
    "df['species'] = LabelEncoder().fit_transform(df['species'])\n"
   ]
  },
  {
   "cell_type": "code",
   "execution_count": null,
   "metadata": {
    "colab": {
     "base_uri": "https://localhost:8080/",
     "height": 424
    },
    "id": "Jd11PkuBlPGh",
    "outputId": "e9906f56-604f-4628-9d53-589bf84516d4"
   },
   "outputs": [],
   "source": [
    "df"
   ]
  },
  {
   "cell_type": "code",
   "execution_count": null,
   "metadata": {
    "colab": {
     "base_uri": "https://localhost:8080/",
     "height": 206
    },
    "id": "ssGRf891qldF",
    "outputId": "9488f8e9-7d2a-4fe5-ba74-7d35491a5125"
   },
   "outputs": [],
   "source": [
    "X = df.drop(columns = ['species'],axis = 1)\n",
    "X.head()"
   ]
  },
  {
   "cell_type": "code",
   "execution_count": null,
   "metadata": {
    "colab": {
     "base_uri": "https://localhost:8080/"
    },
    "id": "Mp2lTdSuqwMz",
    "outputId": "62ba56fd-14a8-4284-c412-5be3241d9428"
   },
   "outputs": [],
   "source": [
    "y = df['species']\n",
    "y.head()"
   ]
  },
  {
   "cell_type": "code",
   "execution_count": null,
   "metadata": {
    "id": "obX7m_J4pJqe"
   },
   "outputs": [],
   "source": [
    "sk = StratifiedKFold(n_splits = 5)"
   ]
  },
  {
   "cell_type": "code",
   "execution_count": null,
   "metadata": {
    "id": "QtD-gnxOl1gn"
   },
   "outputs": [],
   "source": [
    "rf = RandomForestClassifier()"
   ]
  },
  {
   "cell_type": "code",
   "execution_count": null,
   "metadata": {
    "id": "mHGtx1N-pRBn"
   },
   "outputs": [],
   "source": [
    "score = []\n",
    "for train_index,test_index in sk.split(X,y):\n",
    "  X_train,X_test = X.loc[train_index],X.loc[test_index]\n",
    "  y_train,y_test = y.loc[train_index],y.loc[test_index]\n",
    "  rf.fit(X_train,y_train)\n",
    "  score.append(rf.score(X_test,y_test))\n"
   ]
  },
  {
   "cell_type": "code",
   "execution_count": null,
   "metadata": {
    "colab": {
     "base_uri": "https://localhost:8080/"
    },
    "id": "e6Zsv1C0pREb",
    "outputId": "fad58d58-e4b2-47a4-a0f9-5f4e6ea6b9ed"
   },
   "outputs": [],
   "source": [
    "np.mean(score) * 100"
   ]
  },
  {
   "cell_type": "code",
   "execution_count": null,
   "metadata": {
    "id": "6aLncIHUpRHR"
   },
   "outputs": [],
   "source": [
    "params = {'n_estimators':[50,100,150,200], 'criterion':['gini','entropy'], 'max_depth':[5,10,15], 'min_samples_split':[2,5,8], 'max_features':['auto',None,'sqrt','log2'], 'min_impurity_decrease':[0,10,20], 'bootstrap':[True,False], 'oob_score':[False,True], 'n_jobs':[5,10,15], 'random_state':[1,2,40,80], 'warm_start':[False,True], 'ccp_alpha':[0,1,2,5], 'max_samples':[5,10,15]}"
   ]
  },
  {
   "cell_type": "code",
   "execution_count": null,
   "metadata": {
    "id": "WVsjAUOTpHV1"
   },
   "outputs": [],
   "source": [
    "search = GridSearchCV(rf,params,cv = 5)"
   ]
  },
  {
   "cell_type": "code",
   "execution_count": null,
   "metadata": {
    "colab": {
     "base_uri": "https://localhost:8080/",
     "height": 1000
    },
    "id": "uFHnFYkbuE5O",
    "outputId": "67e7670c-af5f-4cbf-aa29-4b80ccff4ed9"
   },
   "outputs": [],
   "source": [
    "result = search.fit(X_train,y_train)"
   ]
  },
  {
   "cell_type": "code",
   "execution_count": null,
   "metadata": {
    "id": "gJNiwo2SuSmz"
   },
   "outputs": [],
   "source": [
    "y_pred = result.predict(X_test)"
   ]
  },
  {
   "cell_type": "code",
   "execution_count": null,
   "metadata": {
    "id": "8ZWKgJ7JuLQ_"
   },
   "outputs": [],
   "source": [
    "cross_val_score(search,X,y,cv = 3)"
   ]
  },
  {
   "cell_type": "code",
   "execution_count": null,
   "metadata": {
    "id": "q6j1hUPA1b7Y"
   },
   "outputs": [],
   "source": [
    "ad = AdaBoostClassifier()"
   ]
  },
  {
   "cell_type": "code",
   "execution_count": null,
   "metadata": {
    "colab": {
     "base_uri": "https://localhost:8080/"
    },
    "id": "RSD-MKQv1gjd",
    "outputId": "c90761a4-b600-4b65-c574-6f1d723f187d"
   },
   "outputs": [],
   "source": [
    "ad.fit(X_train,y_train)"
   ]
  },
  {
   "cell_type": "code",
   "execution_count": null,
   "metadata": {
    "colab": {
     "base_uri": "https://localhost:8080/"
    },
    "id": "rPI67Ks_1kRd",
    "outputId": "3c3b28ec-7e61-465b-9bd6-d9ad5242b2ab"
   },
   "outputs": [],
   "source": [
    "ad.score(X_test,y_test)*100"
   ]
  },
  {
   "cell_type": "code",
   "execution_count": null,
   "metadata": {
    "id": "m4kApCbW1oz1"
   },
   "outputs": [],
   "source": [
    "xg = XGBClassifier()"
   ]
  },
  {
   "cell_type": "code",
   "execution_count": null,
   "metadata": {
    "colab": {
     "base_uri": "https://localhost:8080/"
    },
    "id": "VlRy7iAD14rG",
    "outputId": "b71f6c5f-14ea-4428-93e7-851fbb27129e"
   },
   "outputs": [],
   "source": [
    "xg.fit(X_train,y_train)"
   ]
  },
  {
   "cell_type": "code",
   "execution_count": null,
   "metadata": {
    "colab": {
     "base_uri": "https://localhost:8080/"
    },
    "id": "FqduHO_I18GV",
    "outputId": "1e3005b6-a23b-4659-e9a2-fa8cdee22036"
   },
   "outputs": [],
   "source": [
    "xg.score(X_test,y_test)*100"
   ]
  },
  {
   "cell_type": "code",
   "execution_count": null,
   "metadata": {
    "colab": {
     "base_uri": "https://localhost:8080/"
    },
    "id": "txG9oDwi2Aud",
    "outputId": "6b5c990e-d9d4-43c6-ef20-8d53671b79a1"
   },
   "outputs": [],
   "source": [
    "rf.fit(X_train,y_train)"
   ]
  },
  {
   "cell_type": "code",
   "execution_count": null,
   "metadata": {
    "colab": {
     "base_uri": "https://localhost:8080/"
    },
    "id": "CFZSHnqD2KBu",
    "outputId": "da55fc34-527a-4dd5-d7c6-fabd17073bb5"
   },
   "outputs": [],
   "source": [
    "rf.score(X_test,y_test) * 100"
   ]
  },
  {
   "cell_type": "code",
   "execution_count": null,
   "metadata": {
    "id": "e9GdyYjs2NT2"
   },
   "outputs": [],
   "source": []
  }
 ],
 "metadata": {
  "colab": {
   "collapsed_sections": [],
   "name": "RF.ipynb",
   "provenance": []
  },
  "kernelspec": {
   "display_name": "Python 3",
   "language": "python",
   "name": "python3"
  },
  "language_info": {
   "codemirror_mode": {
    "name": "ipython",
    "version": 3
   },
   "file_extension": ".py",
   "mimetype": "text/x-python",
   "name": "python",
   "nbconvert_exporter": "python",
   "pygments_lexer": "ipython3",
   "version": "3.8.8"
  }
 },
 "nbformat": 4,
 "nbformat_minor": 1
}
