{
 "cells": [
  {
   "cell_type": "markdown",
   "id": "844feb02",
   "metadata": {},
   "source": [
    "# Decision Tree\n",
    "\n",
    "Decision Tree is a Supervised learning technique that can be applicable for both classification and Regression problems, but generally it is preferred for solving Classification problems. It is a tree-structured classifier, where internal nodes represent the features of a dataset, edges represent the decision rules and each leaf node represents the outcome.\n",
    "It is a graphical representation for all the possible solutions to a problem based on given conditions.\n",
    "In tree construction, we use the Classification and Regression Tree (CART) algorithm.\n",
    "\n",
    "Steps of Algorithm:\n",
    "\n",
    "Step-1: Begin the tree with the root node, says S, which contains the dataset as a whole.      \n",
    "Step-2: Find the best attribute in the dataset using Attribute Selection Measure (ASM).     \n",
    "Step-3: Divide the S into subsets that contains possible values for the best attributes.    \n",
    "Step-4: Generate the decision tree node, which havings the best attribute.    \n",
    "Step-5: Recursively make new decision trees using the subsets of the dataset created in step -3. Continue this process until a stage is reached where you cannot further split the nodes and called the final node as a leaf node."
   ]
  },
  {
   "cell_type": "markdown",
   "id": "c329e036",
   "metadata": {},
   "source": [
    "## Decision tree on titanic dataset"
   ]
  },
  {
   "cell_type": "markdown",
   "id": "3f528aac",
   "metadata": {},
   "source": [
    "##### Import required libraries "
   ]
  },
  {
   "cell_type": "code",
   "execution_count": 1,
   "id": "da6fc384",
   "metadata": {},
   "outputs": [],
   "source": [
    "import numpy as np\n",
    "import pandas as pd\n",
    "from matplotlib import pyplot as plt\n",
    "import seaborn as sns\n",
    "from sklearn.preprocessing import LabelBinarizer,OneHotEncoder\n",
    "from sklearn.impute import SimpleImputer\n",
    "from sklearn.model_selection import StratifiedKFold, GridSearchCV\n",
    "from sklearn.tree import DecisionTreeClassifier\n",
    "from sklearn.metrics import confusion_matrix\n",
    "from sklearn.metrics import classification_report,roc_curve,auc\n",
    "from sklearn import tree\n",
    "from sklearn.feature_selection import SelectKBest,chi2\n",
    "from warnings import filterwarnings\n",
    "filterwarnings('ignore')"
   ]
  },
  {
   "cell_type": "markdown",
   "id": "91e96802",
   "metadata": {},
   "source": [
    "##### Load dataset"
   ]
  },
  {
   "cell_type": "code",
   "execution_count": 2,
   "id": "1add3568",
   "metadata": {},
   "outputs": [],
   "source": [
    "# Check existing datasets of seaborn\n",
    "\n",
    "#print(sns.get_dataset_names())"
   ]
  },
  {
   "cell_type": "code",
   "execution_count": 3,
   "id": "6d3b8c5a",
   "metadata": {},
   "outputs": [
    {
     "data": {
      "text/html": [
       "<div>\n",
       "<style scoped>\n",
       "    .dataframe tbody tr th:only-of-type {\n",
       "        vertical-align: middle;\n",
       "    }\n",
       "\n",
       "    .dataframe tbody tr th {\n",
       "        vertical-align: top;\n",
       "    }\n",
       "\n",
       "    .dataframe thead th {\n",
       "        text-align: right;\n",
       "    }\n",
       "</style>\n",
       "<table border=\"1\" class=\"dataframe\">\n",
       "  <thead>\n",
       "    <tr style=\"text-align: right;\">\n",
       "      <th></th>\n",
       "      <th>survived</th>\n",
       "      <th>pclass</th>\n",
       "      <th>sex</th>\n",
       "      <th>age</th>\n",
       "      <th>sibsp</th>\n",
       "      <th>parch</th>\n",
       "      <th>fare</th>\n",
       "      <th>embarked</th>\n",
       "      <th>class</th>\n",
       "      <th>who</th>\n",
       "      <th>adult_male</th>\n",
       "      <th>deck</th>\n",
       "      <th>embark_town</th>\n",
       "      <th>alive</th>\n",
       "      <th>alone</th>\n",
       "    </tr>\n",
       "  </thead>\n",
       "  <tbody>\n",
       "    <tr>\n",
       "      <th>0</th>\n",
       "      <td>0</td>\n",
       "      <td>3</td>\n",
       "      <td>male</td>\n",
       "      <td>22.0</td>\n",
       "      <td>1</td>\n",
       "      <td>0</td>\n",
       "      <td>7.2500</td>\n",
       "      <td>S</td>\n",
       "      <td>Third</td>\n",
       "      <td>man</td>\n",
       "      <td>True</td>\n",
       "      <td>NaN</td>\n",
       "      <td>Southampton</td>\n",
       "      <td>no</td>\n",
       "      <td>False</td>\n",
       "    </tr>\n",
       "    <tr>\n",
       "      <th>1</th>\n",
       "      <td>1</td>\n",
       "      <td>1</td>\n",
       "      <td>female</td>\n",
       "      <td>38.0</td>\n",
       "      <td>1</td>\n",
       "      <td>0</td>\n",
       "      <td>71.2833</td>\n",
       "      <td>C</td>\n",
       "      <td>First</td>\n",
       "      <td>woman</td>\n",
       "      <td>False</td>\n",
       "      <td>C</td>\n",
       "      <td>Cherbourg</td>\n",
       "      <td>yes</td>\n",
       "      <td>False</td>\n",
       "    </tr>\n",
       "    <tr>\n",
       "      <th>2</th>\n",
       "      <td>1</td>\n",
       "      <td>3</td>\n",
       "      <td>female</td>\n",
       "      <td>26.0</td>\n",
       "      <td>0</td>\n",
       "      <td>0</td>\n",
       "      <td>7.9250</td>\n",
       "      <td>S</td>\n",
       "      <td>Third</td>\n",
       "      <td>woman</td>\n",
       "      <td>False</td>\n",
       "      <td>NaN</td>\n",
       "      <td>Southampton</td>\n",
       "      <td>yes</td>\n",
       "      <td>True</td>\n",
       "    </tr>\n",
       "    <tr>\n",
       "      <th>3</th>\n",
       "      <td>1</td>\n",
       "      <td>1</td>\n",
       "      <td>female</td>\n",
       "      <td>35.0</td>\n",
       "      <td>1</td>\n",
       "      <td>0</td>\n",
       "      <td>53.1000</td>\n",
       "      <td>S</td>\n",
       "      <td>First</td>\n",
       "      <td>woman</td>\n",
       "      <td>False</td>\n",
       "      <td>C</td>\n",
       "      <td>Southampton</td>\n",
       "      <td>yes</td>\n",
       "      <td>False</td>\n",
       "    </tr>\n",
       "    <tr>\n",
       "      <th>4</th>\n",
       "      <td>0</td>\n",
       "      <td>3</td>\n",
       "      <td>male</td>\n",
       "      <td>35.0</td>\n",
       "      <td>0</td>\n",
       "      <td>0</td>\n",
       "      <td>8.0500</td>\n",
       "      <td>S</td>\n",
       "      <td>Third</td>\n",
       "      <td>man</td>\n",
       "      <td>True</td>\n",
       "      <td>NaN</td>\n",
       "      <td>Southampton</td>\n",
       "      <td>no</td>\n",
       "      <td>True</td>\n",
       "    </tr>\n",
       "  </tbody>\n",
       "</table>\n",
       "</div>"
      ],
      "text/plain": [
       "   survived  pclass     sex   age  sibsp  parch     fare embarked  class  \\\n",
       "0         0       3    male  22.0      1      0   7.2500        S  Third   \n",
       "1         1       1  female  38.0      1      0  71.2833        C  First   \n",
       "2         1       3  female  26.0      0      0   7.9250        S  Third   \n",
       "3         1       1  female  35.0      1      0  53.1000        S  First   \n",
       "4         0       3    male  35.0      0      0   8.0500        S  Third   \n",
       "\n",
       "     who  adult_male deck  embark_town alive  alone  \n",
       "0    man        True  NaN  Southampton    no  False  \n",
       "1  woman       False    C    Cherbourg   yes  False  \n",
       "2  woman       False  NaN  Southampton   yes   True  \n",
       "3  woman       False    C  Southampton   yes  False  \n",
       "4    man        True  NaN  Southampton    no   True  "
      ]
     },
     "execution_count": 3,
     "metadata": {},
     "output_type": "execute_result"
    }
   ],
   "source": [
    "# Load dataset and check first five records\n",
    "\n",
    "df = sns.load_dataset('titanic')\n",
    "df.head()"
   ]
  },
  {
   "cell_type": "code",
   "execution_count": 4,
   "id": "52d6bda4",
   "metadata": {},
   "outputs": [
    {
     "name": "stdout",
     "output_type": "stream",
     "text": [
      "<class 'pandas.core.frame.DataFrame'>\n",
      "RangeIndex: 891 entries, 0 to 890\n",
      "Data columns (total 15 columns):\n",
      " #   Column       Non-Null Count  Dtype   \n",
      "---  ------       --------------  -----   \n",
      " 0   survived     891 non-null    int64   \n",
      " 1   pclass       891 non-null    int64   \n",
      " 2   sex          891 non-null    object  \n",
      " 3   age          714 non-null    float64 \n",
      " 4   sibsp        891 non-null    int64   \n",
      " 5   parch        891 non-null    int64   \n",
      " 6   fare         891 non-null    float64 \n",
      " 7   embarked     889 non-null    object  \n",
      " 8   class        891 non-null    category\n",
      " 9   who          891 non-null    object  \n",
      " 10  adult_male   891 non-null    bool    \n",
      " 11  deck         203 non-null    category\n",
      " 12  embark_town  889 non-null    object  \n",
      " 13  alive        891 non-null    object  \n",
      " 14  alone        891 non-null    bool    \n",
      "dtypes: bool(2), category(2), float64(2), int64(4), object(5)\n",
      "memory usage: 80.7+ KB\n"
     ]
    }
   ],
   "source": [
    "# Check descriptive analysis to see number of records and columns, number of non null records and their datatypes\n",
    "\n",
    "df.info()"
   ]
  },
  {
   "cell_type": "code",
   "execution_count": 5,
   "id": "2c995c5f",
   "metadata": {},
   "outputs": [
    {
     "data": {
      "text/plain": [
       "survived         0\n",
       "pclass           0\n",
       "sex              0\n",
       "age            177\n",
       "sibsp            0\n",
       "parch            0\n",
       "fare             0\n",
       "embarked         2\n",
       "class            0\n",
       "who              0\n",
       "adult_male       0\n",
       "deck           688\n",
       "embark_town      2\n",
       "alive            0\n",
       "alone            0\n",
       "dtype: int64"
      ]
     },
     "execution_count": 5,
     "metadata": {},
     "output_type": "execute_result"
    }
   ],
   "source": [
    "df.isna().sum()"
   ]
  },
  {
   "cell_type": "markdown",
   "id": "503b737d",
   "metadata": {},
   "source": [
    "##### Deal with missing values"
   ]
  },
  {
   "cell_type": "code",
   "execution_count": 6,
   "id": "b286980c",
   "metadata": {},
   "outputs": [
    {
     "data": {
      "text/html": [
       "<div>\n",
       "<style scoped>\n",
       "    .dataframe tbody tr th:only-of-type {\n",
       "        vertical-align: middle;\n",
       "    }\n",
       "\n",
       "    .dataframe tbody tr th {\n",
       "        vertical-align: top;\n",
       "    }\n",
       "\n",
       "    .dataframe thead th {\n",
       "        text-align: right;\n",
       "    }\n",
       "</style>\n",
       "<table border=\"1\" class=\"dataframe\">\n",
       "  <thead>\n",
       "    <tr style=\"text-align: right;\">\n",
       "      <th></th>\n",
       "      <th>survived</th>\n",
       "      <th>pclass</th>\n",
       "      <th>sex</th>\n",
       "      <th>age</th>\n",
       "      <th>sibsp</th>\n",
       "      <th>parch</th>\n",
       "      <th>fare</th>\n",
       "      <th>embarked</th>\n",
       "      <th>class</th>\n",
       "      <th>who</th>\n",
       "      <th>adult_male</th>\n",
       "      <th>deck</th>\n",
       "      <th>embark_town</th>\n",
       "      <th>alive</th>\n",
       "      <th>alone</th>\n",
       "    </tr>\n",
       "  </thead>\n",
       "  <tbody>\n",
       "    <tr>\n",
       "      <th>0</th>\n",
       "      <td>0</td>\n",
       "      <td>3</td>\n",
       "      <td>male</td>\n",
       "      <td>22.0</td>\n",
       "      <td>1</td>\n",
       "      <td>0</td>\n",
       "      <td>7.2500</td>\n",
       "      <td>S</td>\n",
       "      <td>Third</td>\n",
       "      <td>man</td>\n",
       "      <td>True</td>\n",
       "      <td>NaN</td>\n",
       "      <td>Southampton</td>\n",
       "      <td>no</td>\n",
       "      <td>False</td>\n",
       "    </tr>\n",
       "    <tr>\n",
       "      <th>1</th>\n",
       "      <td>1</td>\n",
       "      <td>1</td>\n",
       "      <td>female</td>\n",
       "      <td>38.0</td>\n",
       "      <td>1</td>\n",
       "      <td>0</td>\n",
       "      <td>71.2833</td>\n",
       "      <td>C</td>\n",
       "      <td>First</td>\n",
       "      <td>woman</td>\n",
       "      <td>False</td>\n",
       "      <td>C</td>\n",
       "      <td>Cherbourg</td>\n",
       "      <td>yes</td>\n",
       "      <td>False</td>\n",
       "    </tr>\n",
       "    <tr>\n",
       "      <th>2</th>\n",
       "      <td>1</td>\n",
       "      <td>3</td>\n",
       "      <td>female</td>\n",
       "      <td>26.0</td>\n",
       "      <td>0</td>\n",
       "      <td>0</td>\n",
       "      <td>7.9250</td>\n",
       "      <td>S</td>\n",
       "      <td>Third</td>\n",
       "      <td>woman</td>\n",
       "      <td>False</td>\n",
       "      <td>NaN</td>\n",
       "      <td>Southampton</td>\n",
       "      <td>yes</td>\n",
       "      <td>True</td>\n",
       "    </tr>\n",
       "    <tr>\n",
       "      <th>3</th>\n",
       "      <td>1</td>\n",
       "      <td>1</td>\n",
       "      <td>female</td>\n",
       "      <td>35.0</td>\n",
       "      <td>1</td>\n",
       "      <td>0</td>\n",
       "      <td>53.1000</td>\n",
       "      <td>S</td>\n",
       "      <td>First</td>\n",
       "      <td>woman</td>\n",
       "      <td>False</td>\n",
       "      <td>C</td>\n",
       "      <td>Southampton</td>\n",
       "      <td>yes</td>\n",
       "      <td>False</td>\n",
       "    </tr>\n",
       "    <tr>\n",
       "      <th>4</th>\n",
       "      <td>0</td>\n",
       "      <td>3</td>\n",
       "      <td>male</td>\n",
       "      <td>35.0</td>\n",
       "      <td>0</td>\n",
       "      <td>0</td>\n",
       "      <td>8.0500</td>\n",
       "      <td>S</td>\n",
       "      <td>Third</td>\n",
       "      <td>man</td>\n",
       "      <td>True</td>\n",
       "      <td>NaN</td>\n",
       "      <td>Southampton</td>\n",
       "      <td>no</td>\n",
       "      <td>True</td>\n",
       "    </tr>\n",
       "  </tbody>\n",
       "</table>\n",
       "</div>"
      ],
      "text/plain": [
       "   survived  pclass     sex   age  sibsp  parch     fare embarked  class  \\\n",
       "0         0       3    male  22.0      1      0   7.2500        S  Third   \n",
       "1         1       1  female  38.0      1      0  71.2833        C  First   \n",
       "2         1       3  female  26.0      0      0   7.9250        S  Third   \n",
       "3         1       1  female  35.0      1      0  53.1000        S  First   \n",
       "4         0       3    male  35.0      0      0   8.0500        S  Third   \n",
       "\n",
       "     who  adult_male deck  embark_town alive  alone  \n",
       "0    man        True  NaN  Southampton    no  False  \n",
       "1  woman       False    C    Cherbourg   yes  False  \n",
       "2  woman       False  NaN  Southampton   yes   True  \n",
       "3  woman       False    C  Southampton   yes  False  \n",
       "4    man        True  NaN  Southampton    no   True  "
      ]
     },
     "execution_count": 6,
     "metadata": {},
     "output_type": "execute_result"
    }
   ],
   "source": [
    "df.age.fillna(df.age.mean(),inplace = True)\n",
    "df.head()"
   ]
  },
  {
   "cell_type": "markdown",
   "id": "2fcb5d96",
   "metadata": {},
   "source": [
    "##### Data Preprocessing"
   ]
  },
  {
   "cell_type": "code",
   "execution_count": 7,
   "id": "4e16b1d9",
   "metadata": {},
   "outputs": [
    {
     "data": {
      "text/html": [
       "<div>\n",
       "<style scoped>\n",
       "    .dataframe tbody tr th:only-of-type {\n",
       "        vertical-align: middle;\n",
       "    }\n",
       "\n",
       "    .dataframe tbody tr th {\n",
       "        vertical-align: top;\n",
       "    }\n",
       "\n",
       "    .dataframe thead th {\n",
       "        text-align: right;\n",
       "    }\n",
       "</style>\n",
       "<table border=\"1\" class=\"dataframe\">\n",
       "  <thead>\n",
       "    <tr style=\"text-align: right;\">\n",
       "      <th></th>\n",
       "      <th>survived</th>\n",
       "      <th>pclass</th>\n",
       "      <th>sex</th>\n",
       "      <th>age</th>\n",
       "      <th>sibsp</th>\n",
       "      <th>parch</th>\n",
       "      <th>fare</th>\n",
       "      <th>class</th>\n",
       "      <th>embark_town</th>\n",
       "      <th>alone</th>\n",
       "    </tr>\n",
       "  </thead>\n",
       "  <tbody>\n",
       "    <tr>\n",
       "      <th>0</th>\n",
       "      <td>0</td>\n",
       "      <td>3</td>\n",
       "      <td>male</td>\n",
       "      <td>22.0</td>\n",
       "      <td>1</td>\n",
       "      <td>0</td>\n",
       "      <td>7.2500</td>\n",
       "      <td>Third</td>\n",
       "      <td>Southampton</td>\n",
       "      <td>False</td>\n",
       "    </tr>\n",
       "    <tr>\n",
       "      <th>1</th>\n",
       "      <td>1</td>\n",
       "      <td>1</td>\n",
       "      <td>female</td>\n",
       "      <td>38.0</td>\n",
       "      <td>1</td>\n",
       "      <td>0</td>\n",
       "      <td>71.2833</td>\n",
       "      <td>First</td>\n",
       "      <td>Cherbourg</td>\n",
       "      <td>False</td>\n",
       "    </tr>\n",
       "    <tr>\n",
       "      <th>2</th>\n",
       "      <td>1</td>\n",
       "      <td>3</td>\n",
       "      <td>female</td>\n",
       "      <td>26.0</td>\n",
       "      <td>0</td>\n",
       "      <td>0</td>\n",
       "      <td>7.9250</td>\n",
       "      <td>Third</td>\n",
       "      <td>Southampton</td>\n",
       "      <td>True</td>\n",
       "    </tr>\n",
       "    <tr>\n",
       "      <th>3</th>\n",
       "      <td>1</td>\n",
       "      <td>1</td>\n",
       "      <td>female</td>\n",
       "      <td>35.0</td>\n",
       "      <td>1</td>\n",
       "      <td>0</td>\n",
       "      <td>53.1000</td>\n",
       "      <td>First</td>\n",
       "      <td>Southampton</td>\n",
       "      <td>False</td>\n",
       "    </tr>\n",
       "    <tr>\n",
       "      <th>4</th>\n",
       "      <td>0</td>\n",
       "      <td>3</td>\n",
       "      <td>male</td>\n",
       "      <td>35.0</td>\n",
       "      <td>0</td>\n",
       "      <td>0</td>\n",
       "      <td>8.0500</td>\n",
       "      <td>Third</td>\n",
       "      <td>Southampton</td>\n",
       "      <td>True</td>\n",
       "    </tr>\n",
       "  </tbody>\n",
       "</table>\n",
       "</div>"
      ],
      "text/plain": [
       "   survived  pclass     sex   age  sibsp  parch     fare  class  embark_town  \\\n",
       "0         0       3    male  22.0      1      0   7.2500  Third  Southampton   \n",
       "1         1       1  female  38.0      1      0  71.2833  First    Cherbourg   \n",
       "2         1       3  female  26.0      0      0   7.9250  Third  Southampton   \n",
       "3         1       1  female  35.0      1      0  53.1000  First  Southampton   \n",
       "4         0       3    male  35.0      0      0   8.0500  Third  Southampton   \n",
       "\n",
       "   alone  \n",
       "0  False  \n",
       "1  False  \n",
       "2   True  \n",
       "3  False  \n",
       "4   True  "
      ]
     },
     "execution_count": 7,
     "metadata": {},
     "output_type": "execute_result"
    }
   ],
   "source": [
    "# Drop columns with redundant information and deck as it has large missing data\n",
    "\n",
    "nd = df.drop(columns = ['who','adult_male','deck','alive','embarked'])\n",
    "nd.head()"
   ]
  },
  {
   "cell_type": "code",
   "execution_count": 8,
   "id": "39acb724",
   "metadata": {},
   "outputs": [],
   "source": [
    "nd.rename(columns = {'class':'level'},inplace = True)"
   ]
  },
  {
   "cell_type": "markdown",
   "id": "dce9c2af",
   "metadata": {},
   "source": [
    "##### Check nuber of unique categories in each column"
   ]
  },
  {
   "cell_type": "code",
   "execution_count": 9,
   "id": "29674c7f",
   "metadata": {},
   "outputs": [
    {
     "data": {
      "text/plain": [
       "2"
      ]
     },
     "execution_count": 9,
     "metadata": {},
     "output_type": "execute_result"
    }
   ],
   "source": [
    "nd.sex.nunique()"
   ]
  },
  {
   "cell_type": "code",
   "execution_count": 10,
   "id": "45b39f66",
   "metadata": {},
   "outputs": [
    {
     "data": {
      "text/plain": [
       "3"
      ]
     },
     "execution_count": 10,
     "metadata": {},
     "output_type": "execute_result"
    }
   ],
   "source": [
    "nd.level.nunique()"
   ]
  },
  {
   "cell_type": "code",
   "execution_count": 11,
   "id": "acc5d674",
   "metadata": {},
   "outputs": [
    {
     "data": {
      "text/plain": [
       "3"
      ]
     },
     "execution_count": 11,
     "metadata": {},
     "output_type": "execute_result"
    }
   ],
   "source": [
    "nd.embark_town.nunique()"
   ]
  },
  {
   "cell_type": "code",
   "execution_count": 12,
   "id": "ae793507",
   "metadata": {},
   "outputs": [
    {
     "data": {
      "text/plain": [
       "2"
      ]
     },
     "execution_count": 12,
     "metadata": {},
     "output_type": "execute_result"
    }
   ],
   "source": [
    "nd.alone.nunique()"
   ]
  },
  {
   "cell_type": "markdown",
   "id": "3bd01ef3",
   "metadata": {},
   "source": [
    "##### Apply encoding as number of categorical columns"
   ]
  },
  {
   "cell_type": "code",
   "execution_count": 13,
   "id": "7ebd7e9d",
   "metadata": {},
   "outputs": [],
   "source": [
    "lb = LabelBinarizer()"
   ]
  },
  {
   "cell_type": "code",
   "execution_count": 14,
   "id": "bb1b10a1",
   "metadata": {},
   "outputs": [],
   "source": [
    "nd.sex = lb.fit_transform(nd.sex)"
   ]
  },
  {
   "cell_type": "code",
   "execution_count": 15,
   "id": "dc87aaa6",
   "metadata": {},
   "outputs": [
    {
     "data": {
      "text/html": [
       "<div>\n",
       "<style scoped>\n",
       "    .dataframe tbody tr th:only-of-type {\n",
       "        vertical-align: middle;\n",
       "    }\n",
       "\n",
       "    .dataframe tbody tr th {\n",
       "        vertical-align: top;\n",
       "    }\n",
       "\n",
       "    .dataframe thead th {\n",
       "        text-align: right;\n",
       "    }\n",
       "</style>\n",
       "<table border=\"1\" class=\"dataframe\">\n",
       "  <thead>\n",
       "    <tr style=\"text-align: right;\">\n",
       "      <th></th>\n",
       "      <th>survived</th>\n",
       "      <th>pclass</th>\n",
       "      <th>sex</th>\n",
       "      <th>age</th>\n",
       "      <th>sibsp</th>\n",
       "      <th>parch</th>\n",
       "      <th>fare</th>\n",
       "      <th>level</th>\n",
       "      <th>embark_town</th>\n",
       "      <th>alone</th>\n",
       "    </tr>\n",
       "  </thead>\n",
       "  <tbody>\n",
       "    <tr>\n",
       "      <th>0</th>\n",
       "      <td>0</td>\n",
       "      <td>3</td>\n",
       "      <td>1</td>\n",
       "      <td>22.0</td>\n",
       "      <td>1</td>\n",
       "      <td>0</td>\n",
       "      <td>7.2500</td>\n",
       "      <td>Third</td>\n",
       "      <td>Southampton</td>\n",
       "      <td>False</td>\n",
       "    </tr>\n",
       "    <tr>\n",
       "      <th>1</th>\n",
       "      <td>1</td>\n",
       "      <td>1</td>\n",
       "      <td>0</td>\n",
       "      <td>38.0</td>\n",
       "      <td>1</td>\n",
       "      <td>0</td>\n",
       "      <td>71.2833</td>\n",
       "      <td>First</td>\n",
       "      <td>Cherbourg</td>\n",
       "      <td>False</td>\n",
       "    </tr>\n",
       "  </tbody>\n",
       "</table>\n",
       "</div>"
      ],
      "text/plain": [
       "   survived  pclass  sex   age  sibsp  parch     fare  level  embark_town  \\\n",
       "0         0       3    1  22.0      1      0   7.2500  Third  Southampton   \n",
       "1         1       1    0  38.0      1      0  71.2833  First    Cherbourg   \n",
       "\n",
       "   alone  \n",
       "0  False  \n",
       "1  False  "
      ]
     },
     "execution_count": 15,
     "metadata": {},
     "output_type": "execute_result"
    }
   ],
   "source": [
    "nd[:2]"
   ]
  },
  {
   "cell_type": "markdown",
   "id": "da609aaf",
   "metadata": {},
   "source": [
    "##### Check heatmap to analyse multicolinearity"
   ]
  },
  {
   "cell_type": "code",
   "execution_count": 16,
   "id": "d36135f7",
   "metadata": {},
   "outputs": [
    {
     "data": {
      "image/png": "[encoded data removed]",
      "text/plain": [
       "<Figure size 720x576 with 2 Axes>"
      ]
     },
     "metadata": {
      "needs_background": "light"
     },
     "output_type": "display_data"
    }
   ],
   "source": [
    "plt.figure(figsize = (10,8))\n",
    "sns.heatmap(nd.corr(),annot = True)\n",
    "plt.show()"
   ]
  },
  {
   "cell_type": "raw",
   "id": "c8fb2c10",
   "metadata": {},
   "source": [
    "It represents there is no multicolinearity"
   ]
  },
  {
   "cell_type": "code",
   "execution_count": 17,
   "id": "dc471cbc",
   "metadata": {},
   "outputs": [],
   "source": [
    "oe = OneHotEncoder()"
   ]
  },
  {
   "cell_type": "code",
   "execution_count": 18,
   "id": "e7fc0223",
   "metadata": {},
   "outputs": [
    {
     "data": {
      "text/plain": [
       "['Third', 'First', 'Second']\n",
       "Categories (3, object): ['Third', 'First', 'Second']"
      ]
     },
     "execution_count": 18,
     "metadata": {},
     "output_type": "execute_result"
    }
   ],
   "source": [
    "# Check unique categories in column level\n",
    "\n",
    "nd.level.unique()"
   ]
  },
  {
   "cell_type": "code",
   "execution_count": 19,
   "id": "7bbfadf8",
   "metadata": {},
   "outputs": [],
   "source": [
    "# Apply OneHotEncoder\n",
    "\n",
    "nd[['First','Second','Third']] = oe.fit_transform(nd[['level']]).toarray()"
   ]
  },
  {
   "cell_type": "code",
   "execution_count": 20,
   "id": "4f19b006",
   "metadata": {},
   "outputs": [
    {
     "data": {
      "text/html": [
       "<div>\n",
       "<style scoped>\n",
       "    .dataframe tbody tr th:only-of-type {\n",
       "        vertical-align: middle;\n",
       "    }\n",
       "\n",
       "    .dataframe tbody tr th {\n",
       "        vertical-align: top;\n",
       "    }\n",
       "\n",
       "    .dataframe thead th {\n",
       "        text-align: right;\n",
       "    }\n",
       "</style>\n",
       "<table border=\"1\" class=\"dataframe\">\n",
       "  <thead>\n",
       "    <tr style=\"text-align: right;\">\n",
       "      <th></th>\n",
       "      <th>survived</th>\n",
       "      <th>pclass</th>\n",
       "      <th>sex</th>\n",
       "      <th>age</th>\n",
       "      <th>sibsp</th>\n",
       "      <th>parch</th>\n",
       "      <th>fare</th>\n",
       "      <th>embark_town</th>\n",
       "      <th>alone</th>\n",
       "      <th>First</th>\n",
       "      <th>Second</th>\n",
       "    </tr>\n",
       "  </thead>\n",
       "  <tbody>\n",
       "    <tr>\n",
       "      <th>0</th>\n",
       "      <td>0</td>\n",
       "      <td>3</td>\n",
       "      <td>1</td>\n",
       "      <td>22.0</td>\n",
       "      <td>1</td>\n",
       "      <td>0</td>\n",
       "      <td>7.25</td>\n",
       "      <td>Southampton</td>\n",
       "      <td>False</td>\n",
       "      <td>0.0</td>\n",
       "      <td>0.0</td>\n",
       "    </tr>\n",
       "  </tbody>\n",
       "</table>\n",
       "</div>"
      ],
      "text/plain": [
       "   survived  pclass  sex   age  sibsp  parch  fare  embark_town  alone  First  \\\n",
       "0         0       3    1  22.0      1      0  7.25  Southampton  False    0.0   \n",
       "\n",
       "   Second  \n",
       "0     0.0  "
      ]
     },
     "execution_count": 20,
     "metadata": {},
     "output_type": "execute_result"
    }
   ],
   "source": [
    "nd.drop(columns = ['level','Third'],inplace = True)\n",
    "nd[:1]"
   ]
  },
  {
   "cell_type": "raw",
   "id": "137608e3",
   "metadata": {},
   "source": [
    "Here we have replaced level column by three columns of categorical class"
   ]
  },
  {
   "cell_type": "code",
   "execution_count": 21,
   "id": "922189b4",
   "metadata": {},
   "outputs": [
    {
     "data": {
      "text/plain": [
       "array(['Southampton', 'Cherbourg', 'Queenstown', nan], dtype=object)"
      ]
     },
     "execution_count": 21,
     "metadata": {},
     "output_type": "execute_result"
    }
   ],
   "source": [
    "# Check classes in column embark_town\n",
    "\n",
    "nd.embark_town.unique()"
   ]
  },
  {
   "cell_type": "code",
   "execution_count": 22,
   "id": "d55471fd",
   "metadata": {},
   "outputs": [],
   "source": [
    "# Apply OneHotEncoder\n",
    "\n",
    "nd[['Southampton', 'Cherbourg', 'Queenstown', 'nan']] = oe.fit_transform(nd[['embark_town']]).toarray()"
   ]
  },
  {
   "cell_type": "code",
   "execution_count": 23,
   "id": "88ad8e7a",
   "metadata": {},
   "outputs": [
    {
     "data": {
      "text/html": [
       "<div>\n",
       "<style scoped>\n",
       "    .dataframe tbody tr th:only-of-type {\n",
       "        vertical-align: middle;\n",
       "    }\n",
       "\n",
       "    .dataframe tbody tr th {\n",
       "        vertical-align: top;\n",
       "    }\n",
       "\n",
       "    .dataframe thead th {\n",
       "        text-align: right;\n",
       "    }\n",
       "</style>\n",
       "<table border=\"1\" class=\"dataframe\">\n",
       "  <thead>\n",
       "    <tr style=\"text-align: right;\">\n",
       "      <th></th>\n",
       "      <th>survived</th>\n",
       "      <th>pclass</th>\n",
       "      <th>sex</th>\n",
       "      <th>age</th>\n",
       "      <th>sibsp</th>\n",
       "      <th>parch</th>\n",
       "      <th>fare</th>\n",
       "      <th>alone</th>\n",
       "      <th>First</th>\n",
       "      <th>Second</th>\n",
       "      <th>Southampton</th>\n",
       "      <th>Cherbourg</th>\n",
       "      <th>Queenstown</th>\n",
       "    </tr>\n",
       "  </thead>\n",
       "  <tbody>\n",
       "    <tr>\n",
       "      <th>0</th>\n",
       "      <td>0</td>\n",
       "      <td>3</td>\n",
       "      <td>1</td>\n",
       "      <td>22.0</td>\n",
       "      <td>1</td>\n",
       "      <td>0</td>\n",
       "      <td>7.25</td>\n",
       "      <td>False</td>\n",
       "      <td>0.0</td>\n",
       "      <td>0.0</td>\n",
       "      <td>0.0</td>\n",
       "      <td>0.0</td>\n",
       "      <td>1.0</td>\n",
       "    </tr>\n",
       "  </tbody>\n",
       "</table>\n",
       "</div>"
      ],
      "text/plain": [
       "   survived  pclass  sex   age  sibsp  parch  fare  alone  First  Second  \\\n",
       "0         0       3    1  22.0      1      0  7.25  False    0.0     0.0   \n",
       "\n",
       "   Southampton  Cherbourg  Queenstown  \n",
       "0          0.0        0.0         1.0  "
      ]
     },
     "execution_count": 23,
     "metadata": {},
     "output_type": "execute_result"
    }
   ],
   "source": [
    "# Drop origional column and see the result\n",
    "\n",
    "nd.drop(columns = ['embark_town','nan'],inplace = True)\n",
    "nd[:1]"
   ]
  },
  {
   "cell_type": "code",
   "execution_count": 24,
   "id": "617fc12c",
   "metadata": {},
   "outputs": [
    {
     "data": {
      "text/plain": [
       "array([False,  True])"
      ]
     },
     "execution_count": 24,
     "metadata": {},
     "output_type": "execute_result"
    }
   ],
   "source": [
    "# Check categories of alone column\n",
    "\n",
    "nd.alone.unique()"
   ]
  },
  {
   "cell_type": "code",
   "execution_count": 25,
   "id": "fd9f6c23",
   "metadata": {},
   "outputs": [
    {
     "data": {
      "text/html": [
       "<div>\n",
       "<style scoped>\n",
       "    .dataframe tbody tr th:only-of-type {\n",
       "        vertical-align: middle;\n",
       "    }\n",
       "\n",
       "    .dataframe tbody tr th {\n",
       "        vertical-align: top;\n",
       "    }\n",
       "\n",
       "    .dataframe thead th {\n",
       "        text-align: right;\n",
       "    }\n",
       "</style>\n",
       "<table border=\"1\" class=\"dataframe\">\n",
       "  <thead>\n",
       "    <tr style=\"text-align: right;\">\n",
       "      <th></th>\n",
       "      <th>survived</th>\n",
       "      <th>pclass</th>\n",
       "      <th>sex</th>\n",
       "      <th>age</th>\n",
       "      <th>sibsp</th>\n",
       "      <th>parch</th>\n",
       "      <th>fare</th>\n",
       "      <th>alone</th>\n",
       "      <th>First</th>\n",
       "      <th>Second</th>\n",
       "      <th>Southampton</th>\n",
       "      <th>Cherbourg</th>\n",
       "      <th>Queenstown</th>\n",
       "    </tr>\n",
       "  </thead>\n",
       "  <tbody>\n",
       "    <tr>\n",
       "      <th>0</th>\n",
       "      <td>0</td>\n",
       "      <td>3</td>\n",
       "      <td>1</td>\n",
       "      <td>22.0</td>\n",
       "      <td>1</td>\n",
       "      <td>0</td>\n",
       "      <td>7.2500</td>\n",
       "      <td>False</td>\n",
       "      <td>0.0</td>\n",
       "      <td>0.0</td>\n",
       "      <td>0.0</td>\n",
       "      <td>0.0</td>\n",
       "      <td>1.0</td>\n",
       "    </tr>\n",
       "    <tr>\n",
       "      <th>1</th>\n",
       "      <td>1</td>\n",
       "      <td>1</td>\n",
       "      <td>0</td>\n",
       "      <td>38.0</td>\n",
       "      <td>1</td>\n",
       "      <td>0</td>\n",
       "      <td>71.2833</td>\n",
       "      <td>False</td>\n",
       "      <td>1.0</td>\n",
       "      <td>0.0</td>\n",
       "      <td>1.0</td>\n",
       "      <td>0.0</td>\n",
       "      <td>0.0</td>\n",
       "    </tr>\n",
       "  </tbody>\n",
       "</table>\n",
       "</div>"
      ],
      "text/plain": [
       "   survived  pclass  sex   age  sibsp  parch     fare  alone  First  Second  \\\n",
       "0         0       3    1  22.0      1      0   7.2500  False    0.0     0.0   \n",
       "1         1       1    0  38.0      1      0  71.2833  False    1.0     0.0   \n",
       "\n",
       "   Southampton  Cherbourg  Queenstown  \n",
       "0          0.0        0.0         1.0  \n",
       "1          1.0        0.0         0.0  "
      ]
     },
     "execution_count": 25,
     "metadata": {},
     "output_type": "execute_result"
    }
   ],
   "source": [
    "nd[:2]"
   ]
  },
  {
   "cell_type": "code",
   "execution_count": 26,
   "id": "6241abe1",
   "metadata": {},
   "outputs": [
    {
     "data": {
      "text/html": [
       "<div>\n",
       "<style scoped>\n",
       "    .dataframe tbody tr th:only-of-type {\n",
       "        vertical-align: middle;\n",
       "    }\n",
       "\n",
       "    .dataframe tbody tr th {\n",
       "        vertical-align: top;\n",
       "    }\n",
       "\n",
       "    .dataframe thead th {\n",
       "        text-align: right;\n",
       "    }\n",
       "</style>\n",
       "<table border=\"1\" class=\"dataframe\">\n",
       "  <thead>\n",
       "    <tr style=\"text-align: right;\">\n",
       "      <th></th>\n",
       "      <th>survived</th>\n",
       "      <th>pclass</th>\n",
       "      <th>sex</th>\n",
       "      <th>age</th>\n",
       "      <th>sibsp</th>\n",
       "      <th>parch</th>\n",
       "      <th>fare</th>\n",
       "      <th>alone</th>\n",
       "      <th>First</th>\n",
       "      <th>Second</th>\n",
       "      <th>Southampton</th>\n",
       "      <th>Cherbourg</th>\n",
       "      <th>Queenstown</th>\n",
       "      <th>False</th>\n",
       "      <th>True</th>\n",
       "    </tr>\n",
       "  </thead>\n",
       "  <tbody>\n",
       "    <tr>\n",
       "      <th>0</th>\n",
       "      <td>0</td>\n",
       "      <td>3</td>\n",
       "      <td>1</td>\n",
       "      <td>22.000000</td>\n",
       "      <td>1</td>\n",
       "      <td>0</td>\n",
       "      <td>7.2500</td>\n",
       "      <td>False</td>\n",
       "      <td>0.0</td>\n",
       "      <td>0.0</td>\n",
       "      <td>0.0</td>\n",
       "      <td>0.0</td>\n",
       "      <td>1.0</td>\n",
       "      <td>1.0</td>\n",
       "      <td>0.0</td>\n",
       "    </tr>\n",
       "    <tr>\n",
       "      <th>1</th>\n",
       "      <td>1</td>\n",
       "      <td>1</td>\n",
       "      <td>0</td>\n",
       "      <td>38.000000</td>\n",
       "      <td>1</td>\n",
       "      <td>0</td>\n",
       "      <td>71.2833</td>\n",
       "      <td>False</td>\n",
       "      <td>1.0</td>\n",
       "      <td>0.0</td>\n",
       "      <td>1.0</td>\n",
       "      <td>0.0</td>\n",
       "      <td>0.0</td>\n",
       "      <td>1.0</td>\n",
       "      <td>0.0</td>\n",
       "    </tr>\n",
       "    <tr>\n",
       "      <th>2</th>\n",
       "      <td>1</td>\n",
       "      <td>3</td>\n",
       "      <td>0</td>\n",
       "      <td>26.000000</td>\n",
       "      <td>0</td>\n",
       "      <td>0</td>\n",
       "      <td>7.9250</td>\n",
       "      <td>True</td>\n",
       "      <td>0.0</td>\n",
       "      <td>0.0</td>\n",
       "      <td>0.0</td>\n",
       "      <td>0.0</td>\n",
       "      <td>1.0</td>\n",
       "      <td>0.0</td>\n",
       "      <td>1.0</td>\n",
       "    </tr>\n",
       "    <tr>\n",
       "      <th>3</th>\n",
       "      <td>1</td>\n",
       "      <td>1</td>\n",
       "      <td>0</td>\n",
       "      <td>35.000000</td>\n",
       "      <td>1</td>\n",
       "      <td>0</td>\n",
       "      <td>53.1000</td>\n",
       "      <td>False</td>\n",
       "      <td>1.0</td>\n",
       "      <td>0.0</td>\n",
       "      <td>0.0</td>\n",
       "      <td>0.0</td>\n",
       "      <td>1.0</td>\n",
       "      <td>1.0</td>\n",
       "      <td>0.0</td>\n",
       "    </tr>\n",
       "    <tr>\n",
       "      <th>4</th>\n",
       "      <td>0</td>\n",
       "      <td>3</td>\n",
       "      <td>1</td>\n",
       "      <td>35.000000</td>\n",
       "      <td>0</td>\n",
       "      <td>0</td>\n",
       "      <td>8.0500</td>\n",
       "      <td>True</td>\n",
       "      <td>0.0</td>\n",
       "      <td>0.0</td>\n",
       "      <td>0.0</td>\n",
       "      <td>0.0</td>\n",
       "      <td>1.0</td>\n",
       "      <td>0.0</td>\n",
       "      <td>1.0</td>\n",
       "    </tr>\n",
       "    <tr>\n",
       "      <th>...</th>\n",
       "      <td>...</td>\n",
       "      <td>...</td>\n",
       "      <td>...</td>\n",
       "      <td>...</td>\n",
       "      <td>...</td>\n",
       "      <td>...</td>\n",
       "      <td>...</td>\n",
       "      <td>...</td>\n",
       "      <td>...</td>\n",
       "      <td>...</td>\n",
       "      <td>...</td>\n",
       "      <td>...</td>\n",
       "      <td>...</td>\n",
       "      <td>...</td>\n",
       "      <td>...</td>\n",
       "    </tr>\n",
       "    <tr>\n",
       "      <th>886</th>\n",
       "      <td>0</td>\n",
       "      <td>2</td>\n",
       "      <td>1</td>\n",
       "      <td>27.000000</td>\n",
       "      <td>0</td>\n",
       "      <td>0</td>\n",
       "      <td>13.0000</td>\n",
       "      <td>True</td>\n",
       "      <td>0.0</td>\n",
       "      <td>1.0</td>\n",
       "      <td>0.0</td>\n",
       "      <td>0.0</td>\n",
       "      <td>1.0</td>\n",
       "      <td>0.0</td>\n",
       "      <td>1.0</td>\n",
       "    </tr>\n",
       "    <tr>\n",
       "      <th>887</th>\n",
       "      <td>1</td>\n",
       "      <td>1</td>\n",
       "      <td>0</td>\n",
       "      <td>19.000000</td>\n",
       "      <td>0</td>\n",
       "      <td>0</td>\n",
       "      <td>30.0000</td>\n",
       "      <td>True</td>\n",
       "      <td>1.0</td>\n",
       "      <td>0.0</td>\n",
       "      <td>0.0</td>\n",
       "      <td>0.0</td>\n",
       "      <td>1.0</td>\n",
       "      <td>0.0</td>\n",
       "      <td>1.0</td>\n",
       "    </tr>\n",
       "    <tr>\n",
       "      <th>888</th>\n",
       "      <td>0</td>\n",
       "      <td>3</td>\n",
       "      <td>0</td>\n",
       "      <td>29.699118</td>\n",
       "      <td>1</td>\n",
       "      <td>2</td>\n",
       "      <td>23.4500</td>\n",
       "      <td>False</td>\n",
       "      <td>0.0</td>\n",
       "      <td>0.0</td>\n",
       "      <td>0.0</td>\n",
       "      <td>0.0</td>\n",
       "      <td>1.0</td>\n",
       "      <td>1.0</td>\n",
       "      <td>0.0</td>\n",
       "    </tr>\n",
       "    <tr>\n",
       "      <th>889</th>\n",
       "      <td>1</td>\n",
       "      <td>1</td>\n",
       "      <td>1</td>\n",
       "      <td>26.000000</td>\n",
       "      <td>0</td>\n",
       "      <td>0</td>\n",
       "      <td>30.0000</td>\n",
       "      <td>True</td>\n",
       "      <td>1.0</td>\n",
       "      <td>0.0</td>\n",
       "      <td>1.0</td>\n",
       "      <td>0.0</td>\n",
       "      <td>0.0</td>\n",
       "      <td>0.0</td>\n",
       "      <td>1.0</td>\n",
       "    </tr>\n",
       "    <tr>\n",
       "      <th>890</th>\n",
       "      <td>0</td>\n",
       "      <td>3</td>\n",
       "      <td>1</td>\n",
       "      <td>32.000000</td>\n",
       "      <td>0</td>\n",
       "      <td>0</td>\n",
       "      <td>7.7500</td>\n",
       "      <td>True</td>\n",
       "      <td>0.0</td>\n",
       "      <td>0.0</td>\n",
       "      <td>0.0</td>\n",
       "      <td>1.0</td>\n",
       "      <td>0.0</td>\n",
       "      <td>0.0</td>\n",
       "      <td>1.0</td>\n",
       "    </tr>\n",
       "  </tbody>\n",
       "</table>\n",
       "<p>891 rows × 15 columns</p>\n",
       "</div>"
      ],
      "text/plain": [
       "     survived  pclass  sex        age  sibsp  parch     fare  alone  First  \\\n",
       "0           0       3    1  22.000000      1      0   7.2500  False    0.0   \n",
       "1           1       1    0  38.000000      1      0  71.2833  False    1.0   \n",
       "2           1       3    0  26.000000      0      0   7.9250   True    0.0   \n",
       "3           1       1    0  35.000000      1      0  53.1000  False    1.0   \n",
       "4           0       3    1  35.000000      0      0   8.0500   True    0.0   \n",
       "..        ...     ...  ...        ...    ...    ...      ...    ...    ...   \n",
       "886         0       2    1  27.000000      0      0  13.0000   True    0.0   \n",
       "887         1       1    0  19.000000      0      0  30.0000   True    1.0   \n",
       "888         0       3    0  29.699118      1      2  23.4500  False    0.0   \n",
       "889         1       1    1  26.000000      0      0  30.0000   True    1.0   \n",
       "890         0       3    1  32.000000      0      0   7.7500   True    0.0   \n",
       "\n",
       "     Second  Southampton  Cherbourg  Queenstown  False  True  \n",
       "0       0.0          0.0        0.0         1.0    1.0   0.0  \n",
       "1       0.0          1.0        0.0         0.0    1.0   0.0  \n",
       "2       0.0          0.0        0.0         1.0    0.0   1.0  \n",
       "3       0.0          0.0        0.0         1.0    1.0   0.0  \n",
       "4       0.0          0.0        0.0         1.0    0.0   1.0  \n",
       "..      ...          ...        ...         ...    ...   ...  \n",
       "886     1.0          0.0        0.0         1.0    0.0   1.0  \n",
       "887     0.0          0.0        0.0         1.0    0.0   1.0  \n",
       "888     0.0          0.0        0.0         1.0    1.0   0.0  \n",
       "889     0.0          1.0        0.0         0.0    0.0   1.0  \n",
       "890     0.0          0.0        1.0         0.0    0.0   1.0  \n",
       "\n",
       "[891 rows x 15 columns]"
      ]
     },
     "execution_count": 26,
     "metadata": {},
     "output_type": "execute_result"
    }
   ],
   "source": [
    "# Apply OneHotEncoder\n",
    "\n",
    "nd[['False','True']] = oe.fit_transform(nd[['alone']]).toarray()\n",
    "nd"
   ]
  },
  {
   "cell_type": "code",
   "execution_count": 27,
   "id": "50c1e23d",
   "metadata": {},
   "outputs": [
    {
     "data": {
      "text/html": [
       "<div>\n",
       "<style scoped>\n",
       "    .dataframe tbody tr th:only-of-type {\n",
       "        vertical-align: middle;\n",
       "    }\n",
       "\n",
       "    .dataframe tbody tr th {\n",
       "        vertical-align: top;\n",
       "    }\n",
       "\n",
       "    .dataframe thead th {\n",
       "        text-align: right;\n",
       "    }\n",
       "</style>\n",
       "<table border=\"1\" class=\"dataframe\">\n",
       "  <thead>\n",
       "    <tr style=\"text-align: right;\">\n",
       "      <th></th>\n",
       "      <th>survived</th>\n",
       "      <th>pclass</th>\n",
       "      <th>sex</th>\n",
       "      <th>age</th>\n",
       "      <th>sibsp</th>\n",
       "      <th>parch</th>\n",
       "      <th>fare</th>\n",
       "      <th>First</th>\n",
       "      <th>Second</th>\n",
       "      <th>Southampton</th>\n",
       "      <th>Cherbourg</th>\n",
       "      <th>Queenstown</th>\n",
       "      <th>False</th>\n",
       "    </tr>\n",
       "  </thead>\n",
       "  <tbody>\n",
       "    <tr>\n",
       "      <th>0</th>\n",
       "      <td>0</td>\n",
       "      <td>3</td>\n",
       "      <td>1</td>\n",
       "      <td>22.0</td>\n",
       "      <td>1</td>\n",
       "      <td>0</td>\n",
       "      <td>7.2500</td>\n",
       "      <td>0.0</td>\n",
       "      <td>0.0</td>\n",
       "      <td>0.0</td>\n",
       "      <td>0.0</td>\n",
       "      <td>1.0</td>\n",
       "      <td>1.0</td>\n",
       "    </tr>\n",
       "    <tr>\n",
       "      <th>1</th>\n",
       "      <td>1</td>\n",
       "      <td>1</td>\n",
       "      <td>0</td>\n",
       "      <td>38.0</td>\n",
       "      <td>1</td>\n",
       "      <td>0</td>\n",
       "      <td>71.2833</td>\n",
       "      <td>1.0</td>\n",
       "      <td>0.0</td>\n",
       "      <td>1.0</td>\n",
       "      <td>0.0</td>\n",
       "      <td>0.0</td>\n",
       "      <td>1.0</td>\n",
       "    </tr>\n",
       "    <tr>\n",
       "      <th>2</th>\n",
       "      <td>1</td>\n",
       "      <td>3</td>\n",
       "      <td>0</td>\n",
       "      <td>26.0</td>\n",
       "      <td>0</td>\n",
       "      <td>0</td>\n",
       "      <td>7.9250</td>\n",
       "      <td>0.0</td>\n",
       "      <td>0.0</td>\n",
       "      <td>0.0</td>\n",
       "      <td>0.0</td>\n",
       "      <td>1.0</td>\n",
       "      <td>0.0</td>\n",
       "    </tr>\n",
       "    <tr>\n",
       "      <th>3</th>\n",
       "      <td>1</td>\n",
       "      <td>1</td>\n",
       "      <td>0</td>\n",
       "      <td>35.0</td>\n",
       "      <td>1</td>\n",
       "      <td>0</td>\n",
       "      <td>53.1000</td>\n",
       "      <td>1.0</td>\n",
       "      <td>0.0</td>\n",
       "      <td>0.0</td>\n",
       "      <td>0.0</td>\n",
       "      <td>1.0</td>\n",
       "      <td>1.0</td>\n",
       "    </tr>\n",
       "    <tr>\n",
       "      <th>4</th>\n",
       "      <td>0</td>\n",
       "      <td>3</td>\n",
       "      <td>1</td>\n",
       "      <td>35.0</td>\n",
       "      <td>0</td>\n",
       "      <td>0</td>\n",
       "      <td>8.0500</td>\n",
       "      <td>0.0</td>\n",
       "      <td>0.0</td>\n",
       "      <td>0.0</td>\n",
       "      <td>0.0</td>\n",
       "      <td>1.0</td>\n",
       "      <td>0.0</td>\n",
       "    </tr>\n",
       "  </tbody>\n",
       "</table>\n",
       "</div>"
      ],
      "text/plain": [
       "   survived  pclass  sex   age  sibsp  parch     fare  First  Second  \\\n",
       "0         0       3    1  22.0      1      0   7.2500    0.0     0.0   \n",
       "1         1       1    0  38.0      1      0  71.2833    1.0     0.0   \n",
       "2         1       3    0  26.0      0      0   7.9250    0.0     0.0   \n",
       "3         1       1    0  35.0      1      0  53.1000    1.0     0.0   \n",
       "4         0       3    1  35.0      0      0   8.0500    0.0     0.0   \n",
       "\n",
       "   Southampton  Cherbourg  Queenstown  False  \n",
       "0          0.0        0.0         1.0    1.0  \n",
       "1          1.0        0.0         0.0    1.0  \n",
       "2          0.0        0.0         1.0    0.0  \n",
       "3          0.0        0.0         1.0    1.0  \n",
       "4          0.0        0.0         1.0    0.0  "
      ]
     },
     "execution_count": 27,
     "metadata": {},
     "output_type": "execute_result"
    }
   ],
   "source": [
    "nd.drop(columns = ['alone','True'],inplace = True)\n",
    "nd.head()"
   ]
  },
  {
   "cell_type": "raw",
   "id": "1b6aef06",
   "metadata": {},
   "source": [
    "Now we have all columns of numeric type"
   ]
  },
  {
   "cell_type": "code",
   "execution_count": 28,
   "id": "fd48d98d",
   "metadata": {},
   "outputs": [
    {
     "data": {
      "text/plain": [
       "survived       0\n",
       "pclass         0\n",
       "sex            0\n",
       "age            0\n",
       "sibsp          0\n",
       "parch          0\n",
       "fare           0\n",
       "First          0\n",
       "Second         0\n",
       "Southampton    0\n",
       "Cherbourg      0\n",
       "Queenstown     0\n",
       "False          0\n",
       "dtype: int64"
      ]
     },
     "execution_count": 28,
     "metadata": {},
     "output_type": "execute_result"
    }
   ],
   "source": [
    "nd.isna().sum()"
   ]
  },
  {
   "cell_type": "raw",
   "id": "e8f756a4",
   "metadata": {},
   "source": [
    "Now data dont have any missing entry, and prepared for processing"
   ]
  },
  {
   "cell_type": "markdown",
   "id": "30d6f246",
   "metadata": {},
   "source": [
    "##### Data sagrigation into input and output "
   ]
  },
  {
   "cell_type": "code",
   "execution_count": 29,
   "id": "53bd102f",
   "metadata": {},
   "outputs": [
    {
     "data": {
      "text/html": [
       "<div>\n",
       "<style scoped>\n",
       "    .dataframe tbody tr th:only-of-type {\n",
       "        vertical-align: middle;\n",
       "    }\n",
       "\n",
       "    .dataframe tbody tr th {\n",
       "        vertical-align: top;\n",
       "    }\n",
       "\n",
       "    .dataframe thead th {\n",
       "        text-align: right;\n",
       "    }\n",
       "</style>\n",
       "<table border=\"1\" class=\"dataframe\">\n",
       "  <thead>\n",
       "    <tr style=\"text-align: right;\">\n",
       "      <th></th>\n",
       "      <th>pclass</th>\n",
       "      <th>sex</th>\n",
       "      <th>age</th>\n",
       "      <th>sibsp</th>\n",
       "      <th>parch</th>\n",
       "      <th>fare</th>\n",
       "      <th>First</th>\n",
       "      <th>Second</th>\n",
       "      <th>Southampton</th>\n",
       "      <th>Cherbourg</th>\n",
       "      <th>Queenstown</th>\n",
       "      <th>False</th>\n",
       "    </tr>\n",
       "  </thead>\n",
       "  <tbody>\n",
       "    <tr>\n",
       "      <th>0</th>\n",
       "      <td>3</td>\n",
       "      <td>1</td>\n",
       "      <td>22.0</td>\n",
       "      <td>1</td>\n",
       "      <td>0</td>\n",
       "      <td>7.2500</td>\n",
       "      <td>0.0</td>\n",
       "      <td>0.0</td>\n",
       "      <td>0.0</td>\n",
       "      <td>0.0</td>\n",
       "      <td>1.0</td>\n",
       "      <td>1.0</td>\n",
       "    </tr>\n",
       "    <tr>\n",
       "      <th>1</th>\n",
       "      <td>1</td>\n",
       "      <td>0</td>\n",
       "      <td>38.0</td>\n",
       "      <td>1</td>\n",
       "      <td>0</td>\n",
       "      <td>71.2833</td>\n",
       "      <td>1.0</td>\n",
       "      <td>0.0</td>\n",
       "      <td>1.0</td>\n",
       "      <td>0.0</td>\n",
       "      <td>0.0</td>\n",
       "      <td>1.0</td>\n",
       "    </tr>\n",
       "    <tr>\n",
       "      <th>2</th>\n",
       "      <td>3</td>\n",
       "      <td>0</td>\n",
       "      <td>26.0</td>\n",
       "      <td>0</td>\n",
       "      <td>0</td>\n",
       "      <td>7.9250</td>\n",
       "      <td>0.0</td>\n",
       "      <td>0.0</td>\n",
       "      <td>0.0</td>\n",
       "      <td>0.0</td>\n",
       "      <td>1.0</td>\n",
       "      <td>0.0</td>\n",
       "    </tr>\n",
       "    <tr>\n",
       "      <th>3</th>\n",
       "      <td>1</td>\n",
       "      <td>0</td>\n",
       "      <td>35.0</td>\n",
       "      <td>1</td>\n",
       "      <td>0</td>\n",
       "      <td>53.1000</td>\n",
       "      <td>1.0</td>\n",
       "      <td>0.0</td>\n",
       "      <td>0.0</td>\n",
       "      <td>0.0</td>\n",
       "      <td>1.0</td>\n",
       "      <td>1.0</td>\n",
       "    </tr>\n",
       "    <tr>\n",
       "      <th>4</th>\n",
       "      <td>3</td>\n",
       "      <td>1</td>\n",
       "      <td>35.0</td>\n",
       "      <td>0</td>\n",
       "      <td>0</td>\n",
       "      <td>8.0500</td>\n",
       "      <td>0.0</td>\n",
       "      <td>0.0</td>\n",
       "      <td>0.0</td>\n",
       "      <td>0.0</td>\n",
       "      <td>1.0</td>\n",
       "      <td>0.0</td>\n",
       "    </tr>\n",
       "  </tbody>\n",
       "</table>\n",
       "</div>"
      ],
      "text/plain": [
       "   pclass  sex   age  sibsp  parch     fare  First  Second  Southampton  \\\n",
       "0       3    1  22.0      1      0   7.2500    0.0     0.0          0.0   \n",
       "1       1    0  38.0      1      0  71.2833    1.0     0.0          1.0   \n",
       "2       3    0  26.0      0      0   7.9250    0.0     0.0          0.0   \n",
       "3       1    0  35.0      1      0  53.1000    1.0     0.0          0.0   \n",
       "4       3    1  35.0      0      0   8.0500    0.0     0.0          0.0   \n",
       "\n",
       "   Cherbourg  Queenstown  False  \n",
       "0        0.0         1.0    1.0  \n",
       "1        0.0         0.0    1.0  \n",
       "2        0.0         1.0    0.0  \n",
       "3        0.0         1.0    1.0  \n",
       "4        0.0         1.0    0.0  "
      ]
     },
     "execution_count": 29,
     "metadata": {},
     "output_type": "execute_result"
    }
   ],
   "source": [
    "# Get input and check first five records\n",
    "\n",
    "X = nd.drop(columns = ['survived'])\n",
    "X.head()"
   ]
  },
  {
   "cell_type": "code",
   "execution_count": 30,
   "id": "87faa5d1",
   "metadata": {},
   "outputs": [
    {
     "data": {
      "text/plain": [
       "0    0\n",
       "1    1\n",
       "2    1\n",
       "3    1\n",
       "4    0\n",
       "Name: survived, dtype: int64"
      ]
     },
     "execution_count": 30,
     "metadata": {},
     "output_type": "execute_result"
    }
   ],
   "source": [
    "y = nd.survived\n",
    "y.head()"
   ]
  },
  {
   "cell_type": "markdown",
   "id": "bdd5121e",
   "metadata": {},
   "source": [
    "##### Select K best features from the set of input features"
   ]
  },
  {
   "cell_type": "code",
   "execution_count": 31,
   "id": "cccaa2c1",
   "metadata": {},
   "outputs": [],
   "source": [
    "select = SelectKBest(chi2,k = 7)\n",
    "z = select.fit_transform(X,y)"
   ]
  },
  {
   "cell_type": "code",
   "execution_count": 32,
   "id": "17ccf72e",
   "metadata": {},
   "outputs": [
    {
     "name": "stdout",
     "output_type": "stream",
     "text": [
      "All features:\n",
      "['pclass' 'sex' 'age' 'sibsp' 'parch' 'fare' 'First' 'Second'\n",
      " 'Southampton' 'Cherbourg' 'Queenstown' 'False']\n",
      "Selected best 8:\n",
      "['pclass' 'sex' 'age' 'fare' 'First' 'Southampton' 'False']\n"
     ]
    },
    {
     "data": {
      "text/html": [
       "<div>\n",
       "<style scoped>\n",
       "    .dataframe tbody tr th:only-of-type {\n",
       "        vertical-align: middle;\n",
       "    }\n",
       "\n",
       "    .dataframe tbody tr th {\n",
       "        vertical-align: top;\n",
       "    }\n",
       "\n",
       "    .dataframe thead th {\n",
       "        text-align: right;\n",
       "    }\n",
       "</style>\n",
       "<table border=\"1\" class=\"dataframe\">\n",
       "  <thead>\n",
       "    <tr style=\"text-align: right;\">\n",
       "      <th></th>\n",
       "      <th>pclass</th>\n",
       "      <th>sex</th>\n",
       "      <th>age</th>\n",
       "      <th>fare</th>\n",
       "      <th>First</th>\n",
       "      <th>Southampton</th>\n",
       "      <th>False</th>\n",
       "    </tr>\n",
       "  </thead>\n",
       "  <tbody>\n",
       "    <tr>\n",
       "      <th>0</th>\n",
       "      <td>3.0</td>\n",
       "      <td>1.0</td>\n",
       "      <td>22.0</td>\n",
       "      <td>7.2500</td>\n",
       "      <td>0.0</td>\n",
       "      <td>0.0</td>\n",
       "      <td>1.0</td>\n",
       "    </tr>\n",
       "    <tr>\n",
       "      <th>1</th>\n",
       "      <td>1.0</td>\n",
       "      <td>0.0</td>\n",
       "      <td>38.0</td>\n",
       "      <td>71.2833</td>\n",
       "      <td>1.0</td>\n",
       "      <td>1.0</td>\n",
       "      <td>1.0</td>\n",
       "    </tr>\n",
       "    <tr>\n",
       "      <th>2</th>\n",
       "      <td>3.0</td>\n",
       "      <td>0.0</td>\n",
       "      <td>26.0</td>\n",
       "      <td>7.9250</td>\n",
       "      <td>0.0</td>\n",
       "      <td>0.0</td>\n",
       "      <td>0.0</td>\n",
       "    </tr>\n",
       "    <tr>\n",
       "      <th>3</th>\n",
       "      <td>1.0</td>\n",
       "      <td>0.0</td>\n",
       "      <td>35.0</td>\n",
       "      <td>53.1000</td>\n",
       "      <td>1.0</td>\n",
       "      <td>0.0</td>\n",
       "      <td>1.0</td>\n",
       "    </tr>\n",
       "    <tr>\n",
       "      <th>4</th>\n",
       "      <td>3.0</td>\n",
       "      <td>1.0</td>\n",
       "      <td>35.0</td>\n",
       "      <td>8.0500</td>\n",
       "      <td>0.0</td>\n",
       "      <td>0.0</td>\n",
       "      <td>0.0</td>\n",
       "    </tr>\n",
       "  </tbody>\n",
       "</table>\n",
       "</div>"
      ],
      "text/plain": [
       "   pclass  sex   age     fare  First  Southampton  False\n",
       "0     3.0  1.0  22.0   7.2500    0.0          0.0    1.0\n",
       "1     1.0  0.0  38.0  71.2833    1.0          1.0    1.0\n",
       "2     3.0  0.0  26.0   7.9250    0.0          0.0    0.0\n",
       "3     1.0  0.0  35.0  53.1000    1.0          0.0    1.0\n",
       "4     3.0  1.0  35.0   8.0500    0.0          0.0    0.0"
      ]
     },
     "execution_count": 32,
     "metadata": {},
     "output_type": "execute_result"
    }
   ],
   "source": [
    "filter = select.get_support()\n",
    "features = np.array(X.columns)\n",
    " \n",
    "print(\"All features:\")\n",
    "print(features)\n",
    " \n",
    "print(\"Selected best 8:\")\n",
    "print(features[filter])\n",
    "X = pd.DataFrame(z, columns = features[filter])\n",
    "X.head()"
   ]
  },
  {
   "cell_type": "markdown",
   "id": "bd40ee4c",
   "metadata": {},
   "source": [
    "##### Split data into training and testing"
   ]
  },
  {
   "cell_type": "code",
   "execution_count": 33,
   "id": "f6db02b1",
   "metadata": {},
   "outputs": [],
   "source": [
    "skf = StratifiedKFold(n_splits = 4)"
   ]
  },
  {
   "cell_type": "code",
   "execution_count": 34,
   "id": "de20ac9d",
   "metadata": {},
   "outputs": [
    {
     "data": {
      "text/plain": [
       "[(array([212, 213, 214, 217, 219, 221, 222, 223, 225, 227, 228, 229, 231,\n",
       "         232, 234, 235, 236, 238, 239, 240, 242, 243, 244, 245, 246, 248,\n",
       "         249, 250, 251, 252, 253, 254, 255, 256, 257, 258, 259, 260, 261,\n",
       "         262, 263, 264, 265, 266, 267, 268, 269, 270, 271, 272, 273, 274,\n",
       "         275, 276, 277, 278, 279, 280, 281, 282, 283, 284, 285, 286, 287,\n",
       "         288, 289, 290, 291, 292, 293, 294, 295, 296, 297, 298, 299, 300,\n",
       "         301, 302, 303, 304, 305, 306, 307, 308, 309, 310, 311, 312, 313,\n",
       "         314, 315, 316, 317, 318, 319, 320, 321, 322, 323, 324, 325, 326,\n",
       "         327, 328, 329, 330, 331, 332, 333, 334, 335, 336, 337, 338, 339,\n",
       "         340, 341, 342, 343, 344, 345, 346, 347, 348, 349, 350, 351, 352,\n",
       "         353, 354, 355, 356, 357, 358, 359, 360, 361, 362, 363, 364, 365,\n",
       "         366, 367, 368, 369, 370, 371, 372, 373, 374, 375, 376, 377, 378,\n",
       "         379, 380, 381, 382, 383, 384, 385, 386, 387, 388, 389, 390, 391,\n",
       "         392, 393, 394, 395, 396, 397, 398, 399, 400, 401, 402, 403, 404,\n",
       "         405, 406, 407, 408, 409, 410, 411, 412, 413, 414, 415, 416, 417,\n",
       "         418, 419, 420, 421, 422, 423, 424, 425, 426, 427, 428, 429, 430,\n",
       "         431, 432, 433, 434, 435, 436, 437, 438, 439, 440, 441, 442, 443,\n",
       "         444, 445, 446, 447, 448, 449, 450, 451, 452, 453, 454, 455, 456,\n",
       "         457, 458, 459, 460, 461, 462, 463, 464, 465, 466, 467, 468, 469,\n",
       "         470, 471, 472, 473, 474, 475, 476, 477, 478, 479, 480, 481, 482,\n",
       "         483, 484, 485, 486, 487, 488, 489, 490, 491, 492, 493, 494, 495,\n",
       "         496, 497, 498, 499, 500, 501, 502, 503, 504, 505, 506, 507, 508,\n",
       "         509, 510, 511, 512, 513, 514, 515, 516, 517, 518, 519, 520, 521,\n",
       "         522, 523, 524, 525, 526, 527, 528, 529, 530, 531, 532, 533, 534,\n",
       "         535, 536, 537, 538, 539, 540, 541, 542, 543, 544, 545, 546, 547,\n",
       "         548, 549, 550, 551, 552, 553, 554, 555, 556, 557, 558, 559, 560,\n",
       "         561, 562, 563, 564, 565, 566, 567, 568, 569, 570, 571, 572, 573,\n",
       "         574, 575, 576, 577, 578, 579, 580, 581, 582, 583, 584, 585, 586,\n",
       "         587, 588, 589, 590, 591, 592, 593, 594, 595, 596, 597, 598, 599,\n",
       "         600, 601, 602, 603, 604, 605, 606, 607, 608, 609, 610, 611, 612,\n",
       "         613, 614, 615, 616, 617, 618, 619, 620, 621, 622, 623, 624, 625,\n",
       "         626, 627, 628, 629, 630, 631, 632, 633, 634, 635, 636, 637, 638,\n",
       "         639, 640, 641, 642, 643, 644, 645, 646, 647, 648, 649, 650, 651,\n",
       "         652, 653, 654, 655, 656, 657, 658, 659, 660, 661, 662, 663, 664,\n",
       "         665, 666, 667, 668, 669, 670, 671, 672, 673, 674, 675, 676, 677,\n",
       "         678, 679, 680, 681, 682, 683, 684, 685, 686, 687, 688, 689, 690,\n",
       "         691, 692, 693, 694, 695, 696, 697, 698, 699, 700, 701, 702, 703,\n",
       "         704, 705, 706, 707, 708, 709, 710, 711, 712, 713, 714, 715, 716,\n",
       "         717, 718, 719, 720, 721, 722, 723, 724, 725, 726, 727, 728, 729,\n",
       "         730, 731, 732, 733, 734, 735, 736, 737, 738, 739, 740, 741, 742,\n",
       "         743, 744, 745, 746, 747, 748, 749, 750, 751, 752, 753, 754, 755,\n",
       "         756, 757, 758, 759, 760, 761, 762, 763, 764, 765, 766, 767, 768,\n",
       "         769, 770, 771, 772, 773, 774, 775, 776, 777, 778, 779, 780, 781,\n",
       "         782, 783, 784, 785, 786, 787, 788, 789, 790, 791, 792, 793, 794,\n",
       "         795, 796, 797, 798, 799, 800, 801, 802, 803, 804, 805, 806, 807,\n",
       "         808, 809, 810, 811, 812, 813, 814, 815, 816, 817, 818, 819, 820,\n",
       "         821, 822, 823, 824, 825, 826, 827, 828, 829, 830, 831, 832, 833,\n",
       "         834, 835, 836, 837, 838, 839, 840, 841, 842, 843, 844, 845, 846,\n",
       "         847, 848, 849, 850, 851, 852, 853, 854, 855, 856, 857, 858, 859,\n",
       "         860, 861, 862, 863, 864, 865, 866, 867, 868, 869, 870, 871, 872,\n",
       "         873, 874, 875, 876, 877, 878, 879, 880, 881, 882, 883, 884, 885,\n",
       "         886, 887, 888, 889, 890]),\n",
       "  array([  0,   1,   2,   3,   4,   5,   6,   7,   8,   9,  10,  11,  12,\n",
       "          13,  14,  15,  16,  17,  18,  19,  20,  21,  22,  23,  24,  25,\n",
       "          26,  27,  28,  29,  30,  31,  32,  33,  34,  35,  36,  37,  38,\n",
       "          39,  40,  41,  42,  43,  44,  45,  46,  47,  48,  49,  50,  51,\n",
       "          52,  53,  54,  55,  56,  57,  58,  59,  60,  61,  62,  63,  64,\n",
       "          65,  66,  67,  68,  69,  70,  71,  72,  73,  74,  75,  76,  77,\n",
       "          78,  79,  80,  81,  82,  83,  84,  85,  86,  87,  88,  89,  90,\n",
       "          91,  92,  93,  94,  95,  96,  97,  98,  99, 100, 101, 102, 103,\n",
       "         104, 105, 106, 107, 108, 109, 110, 111, 112, 113, 114, 115, 116,\n",
       "         117, 118, 119, 120, 121, 122, 123, 124, 125, 126, 127, 128, 129,\n",
       "         130, 131, 132, 133, 134, 135, 136, 137, 138, 139, 140, 141, 142,\n",
       "         143, 144, 145, 146, 147, 148, 149, 150, 151, 152, 153, 154, 155,\n",
       "         156, 157, 158, 159, 160, 161, 162, 163, 164, 165, 166, 167, 168,\n",
       "         169, 170, 171, 172, 173, 174, 175, 176, 177, 178, 179, 180, 181,\n",
       "         182, 183, 184, 185, 186, 187, 188, 189, 190, 191, 192, 193, 194,\n",
       "         195, 196, 197, 198, 199, 200, 201, 202, 203, 204, 205, 206, 207,\n",
       "         208, 209, 210, 211, 215, 216, 218, 220, 224, 226, 230, 233, 237,\n",
       "         241, 247])),\n",
       " (array([  0,   1,   2,   3,   4,   5,   6,   7,   8,   9,  10,  11,  12,\n",
       "          13,  14,  15,  16,  17,  18,  19,  20,  21,  22,  23,  24,  25,\n",
       "          26,  27,  28,  29,  30,  31,  32,  33,  34,  35,  36,  37,  38,\n",
       "          39,  40,  41,  42,  43,  44,  45,  46,  47,  48,  49,  50,  51,\n",
       "          52,  53,  54,  55,  56,  57,  58,  59,  60,  61,  62,  63,  64,\n",
       "          65,  66,  67,  68,  69,  70,  71,  72,  73,  74,  75,  76,  77,\n",
       "          78,  79,  80,  81,  82,  83,  84,  85,  86,  87,  88,  89,  90,\n",
       "          91,  92,  93,  94,  95,  96,  97,  98,  99, 100, 101, 102, 103,\n",
       "         104, 105, 106, 107, 108, 109, 110, 111, 112, 113, 114, 115, 116,\n",
       "         117, 118, 119, 120, 121, 122, 123, 124, 125, 126, 127, 128, 129,\n",
       "         130, 131, 132, 133, 134, 135, 136, 137, 138, 139, 140, 141, 142,\n",
       "         143, 144, 145, 146, 147, 148, 149, 150, 151, 152, 153, 154, 155,\n",
       "         156, 157, 158, 159, 160, 161, 162, 163, 164, 165, 166, 167, 168,\n",
       "         169, 170, 171, 172, 173, 174, 175, 176, 177, 178, 179, 180, 181,\n",
       "         182, 183, 184, 185, 186, 187, 188, 189, 190, 191, 192, 193, 194,\n",
       "         195, 196, 197, 198, 199, 200, 201, 202, 203, 204, 205, 206, 207,\n",
       "         208, 209, 210, 211, 215, 216, 218, 220, 224, 226, 230, 233, 237,\n",
       "         241, 247, 440, 443, 444, 445, 446, 447, 448, 449, 453, 455, 456,\n",
       "         457, 458, 459, 460, 461, 462, 463, 464, 465, 466, 467, 468, 469,\n",
       "         470, 471, 472, 473, 474, 475, 476, 477, 478, 479, 480, 481, 482,\n",
       "         483, 484, 485, 486, 487, 488, 489, 490, 491, 492, 493, 494, 495,\n",
       "         496, 497, 498, 499, 500, 501, 502, 503, 504, 505, 506, 507, 508,\n",
       "         509, 510, 511, 512, 513, 514, 515, 516, 517, 518, 519, 520, 521,\n",
       "         522, 523, 524, 525, 526, 527, 528, 529, 530, 531, 532, 533, 534,\n",
       "         535, 536, 537, 538, 539, 540, 541, 542, 543, 544, 545, 546, 547,\n",
       "         548, 549, 550, 551, 552, 553, 554, 555, 556, 557, 558, 559, 560,\n",
       "         561, 562, 563, 564, 565, 566, 567, 568, 569, 570, 571, 572, 573,\n",
       "         574, 575, 576, 577, 578, 579, 580, 581, 582, 583, 584, 585, 586,\n",
       "         587, 588, 589, 590, 591, 592, 593, 594, 595, 596, 597, 598, 599,\n",
       "         600, 601, 602, 603, 604, 605, 606, 607, 608, 609, 610, 611, 612,\n",
       "         613, 614, 615, 616, 617, 618, 619, 620, 621, 622, 623, 624, 625,\n",
       "         626, 627, 628, 629, 630, 631, 632, 633, 634, 635, 636, 637, 638,\n",
       "         639, 640, 641, 642, 643, 644, 645, 646, 647, 648, 649, 650, 651,\n",
       "         652, 653, 654, 655, 656, 657, 658, 659, 660, 661, 662, 663, 664,\n",
       "         665, 666, 667, 668, 669, 670, 671, 672, 673, 674, 675, 676, 677,\n",
       "         678, 679, 680, 681, 682, 683, 684, 685, 686, 687, 688, 689, 690,\n",
       "         691, 692, 693, 694, 695, 696, 697, 698, 699, 700, 701, 702, 703,\n",
       "         704, 705, 706, 707, 708, 709, 710, 711, 712, 713, 714, 715, 716,\n",
       "         717, 718, 719, 720, 721, 722, 723, 724, 725, 726, 727, 728, 729,\n",
       "         730, 731, 732, 733, 734, 735, 736, 737, 738, 739, 740, 741, 742,\n",
       "         743, 744, 745, 746, 747, 748, 749, 750, 751, 752, 753, 754, 755,\n",
       "         756, 757, 758, 759, 760, 761, 762, 763, 764, 765, 766, 767, 768,\n",
       "         769, 770, 771, 772, 773, 774, 775, 776, 777, 778, 779, 780, 781,\n",
       "         782, 783, 784, 785, 786, 787, 788, 789, 790, 791, 792, 793, 794,\n",
       "         795, 796, 797, 798, 799, 800, 801, 802, 803, 804, 805, 806, 807,\n",
       "         808, 809, 810, 811, 812, 813, 814, 815, 816, 817, 818, 819, 820,\n",
       "         821, 822, 823, 824, 825, 826, 827, 828, 829, 830, 831, 832, 833,\n",
       "         834, 835, 836, 837, 838, 839, 840, 841, 842, 843, 844, 845, 846,\n",
       "         847, 848, 849, 850, 851, 852, 853, 854, 855, 856, 857, 858, 859,\n",
       "         860, 861, 862, 863, 864, 865, 866, 867, 868, 869, 870, 871, 872,\n",
       "         873, 874, 875, 876, 877, 878, 879, 880, 881, 882, 883, 884, 885,\n",
       "         886, 887, 888, 889, 890]),\n",
       "  array([212, 213, 214, 217, 219, 221, 222, 223, 225, 227, 228, 229, 231,\n",
       "         232, 234, 235, 236, 238, 239, 240, 242, 243, 244, 245, 246, 248,\n",
       "         249, 250, 251, 252, 253, 254, 255, 256, 257, 258, 259, 260, 261,\n",
       "         262, 263, 264, 265, 266, 267, 268, 269, 270, 271, 272, 273, 274,\n",
       "         275, 276, 277, 278, 279, 280, 281, 282, 283, 284, 285, 286, 287,\n",
       "         288, 289, 290, 291, 292, 293, 294, 295, 296, 297, 298, 299, 300,\n",
       "         301, 302, 303, 304, 305, 306, 307, 308, 309, 310, 311, 312, 313,\n",
       "         314, 315, 316, 317, 318, 319, 320, 321, 322, 323, 324, 325, 326,\n",
       "         327, 328, 329, 330, 331, 332, 333, 334, 335, 336, 337, 338, 339,\n",
       "         340, 341, 342, 343, 344, 345, 346, 347, 348, 349, 350, 351, 352,\n",
       "         353, 354, 355, 356, 357, 358, 359, 360, 361, 362, 363, 364, 365,\n",
       "         366, 367, 368, 369, 370, 371, 372, 373, 374, 375, 376, 377, 378,\n",
       "         379, 380, 381, 382, 383, 384, 385, 386, 387, 388, 389, 390, 391,\n",
       "         392, 393, 394, 395, 396, 397, 398, 399, 400, 401, 402, 403, 404,\n",
       "         405, 406, 407, 408, 409, 410, 411, 412, 413, 414, 415, 416, 417,\n",
       "         418, 419, 420, 421, 422, 423, 424, 425, 426, 427, 428, 429, 430,\n",
       "         431, 432, 433, 434, 435, 436, 437, 438, 439, 441, 442, 450, 451,\n",
       "         452, 454])),\n",
       " (array([  0,   1,   2,   3,   4,   5,   6,   7,   8,   9,  10,  11,  12,\n",
       "          13,  14,  15,  16,  17,  18,  19,  20,  21,  22,  23,  24,  25,\n",
       "          26,  27,  28,  29,  30,  31,  32,  33,  34,  35,  36,  37,  38,\n",
       "          39,  40,  41,  42,  43,  44,  45,  46,  47,  48,  49,  50,  51,\n",
       "          52,  53,  54,  55,  56,  57,  58,  59,  60,  61,  62,  63,  64,\n",
       "          65,  66,  67,  68,  69,  70,  71,  72,  73,  74,  75,  76,  77,\n",
       "          78,  79,  80,  81,  82,  83,  84,  85,  86,  87,  88,  89,  90,\n",
       "          91,  92,  93,  94,  95,  96,  97,  98,  99, 100, 101, 102, 103,\n",
       "         104, 105, 106, 107, 108, 109, 110, 111, 112, 113, 114, 115, 116,\n",
       "         117, 118, 119, 120, 121, 122, 123, 124, 125, 126, 127, 128, 129,\n",
       "         130, 131, 132, 133, 134, 135, 136, 137, 138, 139, 140, 141, 142,\n",
       "         143, 144, 145, 146, 147, 148, 149, 150, 151, 152, 153, 154, 155,\n",
       "         156, 157, 158, 159, 160, 161, 162, 163, 164, 165, 166, 167, 168,\n",
       "         169, 170, 171, 172, 173, 174, 175, 176, 177, 178, 179, 180, 181,\n",
       "         182, 183, 184, 185, 186, 187, 188, 189, 190, 191, 192, 193, 194,\n",
       "         195, 196, 197, 198, 199, 200, 201, 202, 203, 204, 205, 206, 207,\n",
       "         208, 209, 210, 211, 212, 213, 214, 215, 216, 217, 218, 219, 220,\n",
       "         221, 222, 223, 224, 225, 226, 227, 228, 229, 230, 231, 232, 233,\n",
       "         234, 235, 236, 237, 238, 239, 240, 241, 242, 243, 244, 245, 246,\n",
       "         247, 248, 249, 250, 251, 252, 253, 254, 255, 256, 257, 258, 259,\n",
       "         260, 261, 262, 263, 264, 265, 266, 267, 268, 269, 270, 271, 272,\n",
       "         273, 274, 275, 276, 277, 278, 279, 280, 281, 282, 283, 284, 285,\n",
       "         286, 287, 288, 289, 290, 291, 292, 293, 294, 295, 296, 297, 298,\n",
       "         299, 300, 301, 302, 303, 304, 305, 306, 307, 308, 309, 310, 311,\n",
       "         312, 313, 314, 315, 316, 317, 318, 319, 320, 321, 322, 323, 324,\n",
       "         325, 326, 327, 328, 329, 330, 331, 332, 333, 334, 335, 336, 337,\n",
       "         338, 339, 340, 341, 342, 343, 344, 345, 346, 347, 348, 349, 350,\n",
       "         351, 352, 353, 354, 355, 356, 357, 358, 359, 360, 361, 362, 363,\n",
       "         364, 365, 366, 367, 368, 369, 370, 371, 372, 373, 374, 375, 376,\n",
       "         377, 378, 379, 380, 381, 382, 383, 384, 385, 386, 387, 388, 389,\n",
       "         390, 391, 392, 393, 394, 395, 396, 397, 398, 399, 400, 401, 402,\n",
       "         403, 404, 405, 406, 407, 408, 409, 410, 411, 412, 413, 414, 415,\n",
       "         416, 417, 418, 419, 420, 421, 422, 423, 424, 425, 426, 427, 428,\n",
       "         429, 430, 431, 432, 433, 434, 435, 436, 437, 438, 439, 441, 442,\n",
       "         450, 451, 452, 454, 653, 660, 664, 669, 670, 673, 675, 676, 677,\n",
       "         678, 679, 680, 681, 682, 683, 684, 685, 686, 687, 688, 689, 690,\n",
       "         691, 692, 693, 694, 695, 696, 697, 698, 699, 700, 701, 702, 703,\n",
       "         704, 705, 706, 707, 708, 709, 710, 711, 712, 713, 714, 715, 716,\n",
       "         717, 718, 719, 720, 721, 722, 723, 724, 725, 726, 727, 728, 729,\n",
       "         730, 731, 732, 733, 734, 735, 736, 737, 738, 739, 740, 741, 742,\n",
       "         743, 744, 745, 746, 747, 748, 749, 750, 751, 752, 753, 754, 755,\n",
       "         756, 757, 758, 759, 760, 761, 762, 763, 764, 765, 766, 767, 768,\n",
       "         769, 770, 771, 772, 773, 774, 775, 776, 777, 778, 779, 780, 781,\n",
       "         782, 783, 784, 785, 786, 787, 788, 789, 790, 791, 792, 793, 794,\n",
       "         795, 796, 797, 798, 799, 800, 801, 802, 803, 804, 805, 806, 807,\n",
       "         808, 809, 810, 811, 812, 813, 814, 815, 816, 817, 818, 819, 820,\n",
       "         821, 822, 823, 824, 825, 826, 827, 828, 829, 830, 831, 832, 833,\n",
       "         834, 835, 836, 837, 838, 839, 840, 841, 842, 843, 844, 845, 846,\n",
       "         847, 848, 849, 850, 851, 852, 853, 854, 855, 856, 857, 858, 859,\n",
       "         860, 861, 862, 863, 864, 865, 866, 867, 868, 869, 870, 871, 872,\n",
       "         873, 874, 875, 876, 877, 878, 879, 880, 881, 882, 883, 884, 885,\n",
       "         886, 887, 888, 889, 890]),\n",
       "  array([440, 443, 444, 445, 446, 447, 448, 449, 453, 455, 456, 457, 458,\n",
       "         459, 460, 461, 462, 463, 464, 465, 466, 467, 468, 469, 470, 471,\n",
       "         472, 473, 474, 475, 476, 477, 478, 479, 480, 481, 482, 483, 484,\n",
       "         485, 486, 487, 488, 489, 490, 491, 492, 493, 494, 495, 496, 497,\n",
       "         498, 499, 500, 501, 502, 503, 504, 505, 506, 507, 508, 509, 510,\n",
       "         511, 512, 513, 514, 515, 516, 517, 518, 519, 520, 521, 522, 523,\n",
       "         524, 525, 526, 527, 528, 529, 530, 531, 532, 533, 534, 535, 536,\n",
       "         537, 538, 539, 540, 541, 542, 543, 544, 545, 546, 547, 548, 549,\n",
       "         550, 551, 552, 553, 554, 555, 556, 557, 558, 559, 560, 561, 562,\n",
       "         563, 564, 565, 566, 567, 568, 569, 570, 571, 572, 573, 574, 575,\n",
       "         576, 577, 578, 579, 580, 581, 582, 583, 584, 585, 586, 587, 588,\n",
       "         589, 590, 591, 592, 593, 594, 595, 596, 597, 598, 599, 600, 601,\n",
       "         602, 603, 604, 605, 606, 607, 608, 609, 610, 611, 612, 613, 614,\n",
       "         615, 616, 617, 618, 619, 620, 621, 622, 623, 624, 625, 626, 627,\n",
       "         628, 629, 630, 631, 632, 633, 634, 635, 636, 637, 638, 639, 640,\n",
       "         641, 642, 643, 644, 645, 646, 647, 648, 649, 650, 651, 652, 654,\n",
       "         655, 656, 657, 658, 659, 661, 662, 663, 665, 666, 667, 668, 671,\n",
       "         672, 674])),\n",
       " (array([  0,   1,   2,   3,   4,   5,   6,   7,   8,   9,  10,  11,  12,\n",
       "          13,  14,  15,  16,  17,  18,  19,  20,  21,  22,  23,  24,  25,\n",
       "          26,  27,  28,  29,  30,  31,  32,  33,  34,  35,  36,  37,  38,\n",
       "          39,  40,  41,  42,  43,  44,  45,  46,  47,  48,  49,  50,  51,\n",
       "          52,  53,  54,  55,  56,  57,  58,  59,  60,  61,  62,  63,  64,\n",
       "          65,  66,  67,  68,  69,  70,  71,  72,  73,  74,  75,  76,  77,\n",
       "          78,  79,  80,  81,  82,  83,  84,  85,  86,  87,  88,  89,  90,\n",
       "          91,  92,  93,  94,  95,  96,  97,  98,  99, 100, 101, 102, 103,\n",
       "         104, 105, 106, 107, 108, 109, 110, 111, 112, 113, 114, 115, 116,\n",
       "         117, 118, 119, 120, 121, 122, 123, 124, 125, 126, 127, 128, 129,\n",
       "         130, 131, 132, 133, 134, 135, 136, 137, 138, 139, 140, 141, 142,\n",
       "         143, 144, 145, 146, 147, 148, 149, 150, 151, 152, 153, 154, 155,\n",
       "         156, 157, 158, 159, 160, 161, 162, 163, 164, 165, 166, 167, 168,\n",
       "         169, 170, 171, 172, 173, 174, 175, 176, 177, 178, 179, 180, 181,\n",
       "         182, 183, 184, 185, 186, 187, 188, 189, 190, 191, 192, 193, 194,\n",
       "         195, 196, 197, 198, 199, 200, 201, 202, 203, 204, 205, 206, 207,\n",
       "         208, 209, 210, 211, 212, 213, 214, 215, 216, 217, 218, 219, 220,\n",
       "         221, 222, 223, 224, 225, 226, 227, 228, 229, 230, 231, 232, 233,\n",
       "         234, 235, 236, 237, 238, 239, 240, 241, 242, 243, 244, 245, 246,\n",
       "         247, 248, 249, 250, 251, 252, 253, 254, 255, 256, 257, 258, 259,\n",
       "         260, 261, 262, 263, 264, 265, 266, 267, 268, 269, 270, 271, 272,\n",
       "         273, 274, 275, 276, 277, 278, 279, 280, 281, 282, 283, 284, 285,\n",
       "         286, 287, 288, 289, 290, 291, 292, 293, 294, 295, 296, 297, 298,\n",
       "         299, 300, 301, 302, 303, 304, 305, 306, 307, 308, 309, 310, 311,\n",
       "         312, 313, 314, 315, 316, 317, 318, 319, 320, 321, 322, 323, 324,\n",
       "         325, 326, 327, 328, 329, 330, 331, 332, 333, 334, 335, 336, 337,\n",
       "         338, 339, 340, 341, 342, 343, 344, 345, 346, 347, 348, 349, 350,\n",
       "         351, 352, 353, 354, 355, 356, 357, 358, 359, 360, 361, 362, 363,\n",
       "         364, 365, 366, 367, 368, 369, 370, 371, 372, 373, 374, 375, 376,\n",
       "         377, 378, 379, 380, 381, 382, 383, 384, 385, 386, 387, 388, 389,\n",
       "         390, 391, 392, 393, 394, 395, 396, 397, 398, 399, 400, 401, 402,\n",
       "         403, 404, 405, 406, 407, 408, 409, 410, 411, 412, 413, 414, 415,\n",
       "         416, 417, 418, 419, 420, 421, 422, 423, 424, 425, 426, 427, 428,\n",
       "         429, 430, 431, 432, 433, 434, 435, 436, 437, 438, 439, 440, 441,\n",
       "         442, 443, 444, 445, 446, 447, 448, 449, 450, 451, 452, 453, 454,\n",
       "         455, 456, 457, 458, 459, 460, 461, 462, 463, 464, 465, 466, 467,\n",
       "         468, 469, 470, 471, 472, 473, 474, 475, 476, 477, 478, 479, 480,\n",
       "         481, 482, 483, 484, 485, 486, 487, 488, 489, 490, 491, 492, 493,\n",
       "         494, 495, 496, 497, 498, 499, 500, 501, 502, 503, 504, 505, 506,\n",
       "         507, 508, 509, 510, 511, 512, 513, 514, 515, 516, 517, 518, 519,\n",
       "         520, 521, 522, 523, 524, 525, 526, 527, 528, 529, 530, 531, 532,\n",
       "         533, 534, 535, 536, 537, 538, 539, 540, 541, 542, 543, 544, 545,\n",
       "         546, 547, 548, 549, 550, 551, 552, 553, 554, 555, 556, 557, 558,\n",
       "         559, 560, 561, 562, 563, 564, 565, 566, 567, 568, 569, 570, 571,\n",
       "         572, 573, 574, 575, 576, 577, 578, 579, 580, 581, 582, 583, 584,\n",
       "         585, 586, 587, 588, 589, 590, 591, 592, 593, 594, 595, 596, 597,\n",
       "         598, 599, 600, 601, 602, 603, 604, 605, 606, 607, 608, 609, 610,\n",
       "         611, 612, 613, 614, 615, 616, 617, 618, 619, 620, 621, 622, 623,\n",
       "         624, 625, 626, 627, 628, 629, 630, 631, 632, 633, 634, 635, 636,\n",
       "         637, 638, 639, 640, 641, 642, 643, 644, 645, 646, 647, 648, 649,\n",
       "         650, 651, 652, 654, 655, 656, 657, 658, 659, 661, 662, 663, 665,\n",
       "         666, 667, 668, 671, 672, 674]),\n",
       "  array([653, 660, 664, 669, 670, 673, 675, 676, 677, 678, 679, 680, 681,\n",
       "         682, 683, 684, 685, 686, 687, 688, 689, 690, 691, 692, 693, 694,\n",
       "         695, 696, 697, 698, 699, 700, 701, 702, 703, 704, 705, 706, 707,\n",
       "         708, 709, 710, 711, 712, 713, 714, 715, 716, 717, 718, 719, 720,\n",
       "         721, 722, 723, 724, 725, 726, 727, 728, 729, 730, 731, 732, 733,\n",
       "         734, 735, 736, 737, 738, 739, 740, 741, 742, 743, 744, 745, 746,\n",
       "         747, 748, 749, 750, 751, 752, 753, 754, 755, 756, 757, 758, 759,\n",
       "         760, 761, 762, 763, 764, 765, 766, 767, 768, 769, 770, 771, 772,\n",
       "         773, 774, 775, 776, 777, 778, 779, 780, 781, 782, 783, 784, 785,\n",
       "         786, 787, 788, 789, 790, 791, 792, 793, 794, 795, 796, 797, 798,\n",
       "         799, 800, 801, 802, 803, 804, 805, 806, 807, 808, 809, 810, 811,\n",
       "         812, 813, 814, 815, 816, 817, 818, 819, 820, 821, 822, 823, 824,\n",
       "         825, 826, 827, 828, 829, 830, 831, 832, 833, 834, 835, 836, 837,\n",
       "         838, 839, 840, 841, 842, 843, 844, 845, 846, 847, 848, 849, 850,\n",
       "         851, 852, 853, 854, 855, 856, 857, 858, 859, 860, 861, 862, 863,\n",
       "         864, 865, 866, 867, 868, 869, 870, 871, 872, 873, 874, 875, 876,\n",
       "         877, 878, 879, 880, 881, 882, 883, 884, 885, 886, 887, 888, 889,\n",
       "         890]))]"
      ]
     },
     "execution_count": 34,
     "metadata": {},
     "output_type": "execute_result"
    }
   ],
   "source": [
    "list(skf.split(X,y))"
   ]
  },
  {
   "cell_type": "raw",
   "id": "1dde2cb7",
   "metadata": {},
   "source": [
    "split function will return train_index,test_index"
   ]
  },
  {
   "cell_type": "code",
   "execution_count": 35,
   "id": "14be5939",
   "metadata": {},
   "outputs": [],
   "source": [
    "dt = DecisionTreeClassifier(max_depth=5)"
   ]
  },
  {
   "cell_type": "code",
   "execution_count": 36,
   "id": "235f294f",
   "metadata": {},
   "outputs": [],
   "source": [
    "score = []\n",
    "for train_index,test_index in skf.split(X,y):\n",
    "    X_train,X_test,y_train,y_test = X.loc[train_index], X.loc[test_index], y.loc[train_index], y.loc[test_index]\n",
    "    dt.fit(X_train,y_train)\n",
    "    score.append(dt.score(X_test,y_test))"
   ]
  },
  {
   "cell_type": "code",
   "execution_count": 37,
   "id": "f3d932a6",
   "metadata": {},
   "outputs": [
    {
     "data": {
      "text/plain": [
       "[0.7533632286995515,\n",
       " 0.8385650224215246,\n",
       " 0.7892376681614349,\n",
       " 0.8378378378378378]"
      ]
     },
     "execution_count": 37,
     "metadata": {},
     "output_type": "execute_result"
    }
   ],
   "source": [
    "score"
   ]
  },
  {
   "cell_type": "raw",
   "id": "3beaf0b8",
   "metadata": {},
   "source": [
    "As we have used 4 folds, model return 4 accuracies. Take mean of it to get final accuracy"
   ]
  },
  {
   "cell_type": "code",
   "execution_count": 38,
   "id": "eb42b001",
   "metadata": {},
   "outputs": [
    {
     "data": {
      "text/plain": [
       "80.47509392800872"
      ]
     },
     "execution_count": 38,
     "metadata": {},
     "output_type": "execute_result"
    }
   ],
   "source": [
    "np.mean(score) * 100"
   ]
  },
  {
   "cell_type": "code",
   "execution_count": 39,
   "id": "5217bfb4",
   "metadata": {},
   "outputs": [],
   "source": [
    "y_pred = dt.predict(X_test)"
   ]
  },
  {
   "cell_type": "markdown",
   "id": "326e7289",
   "metadata": {},
   "source": [
    "##### Check accuracy of total data"
   ]
  },
  {
   "cell_type": "code",
   "execution_count": 40,
   "id": "090e0a12",
   "metadata": {},
   "outputs": [
    {
     "data": {
      "text/plain": [
       "84.0628507295174"
      ]
     },
     "execution_count": 40,
     "metadata": {},
     "output_type": "execute_result"
    }
   ],
   "source": [
    "dt.score(X,y) * 100"
   ]
  },
  {
   "cell_type": "markdown",
   "id": "f8bf6758",
   "metadata": {},
   "source": [
    "##### Check accuracy of training data"
   ]
  },
  {
   "cell_type": "code",
   "execution_count": 41,
   "id": "0822d863",
   "metadata": {},
   "outputs": [
    {
     "data": {
      "text/plain": [
       "84.15545590433483"
      ]
     },
     "execution_count": 41,
     "metadata": {},
     "output_type": "execute_result"
    }
   ],
   "source": [
    "dt.score(X_train, y_train) * 100"
   ]
  },
  {
   "cell_type": "markdown",
   "id": "4e45a76c",
   "metadata": {},
   "source": [
    "##### Check accuracy of testing data"
   ]
  },
  {
   "cell_type": "code",
   "execution_count": 42,
   "id": "f9a7937a",
   "metadata": {},
   "outputs": [
    {
     "data": {
      "text/plain": [
       "83.78378378378379"
      ]
     },
     "execution_count": 42,
     "metadata": {},
     "output_type": "execute_result"
    }
   ],
   "source": [
    "dt.score(X_test, y_test) * 100"
   ]
  },
  {
   "cell_type": "markdown",
   "id": "2040852b",
   "metadata": {},
   "source": [
    "##### Testing / Prediction"
   ]
  },
  {
   "cell_type": "code",
   "execution_count": 43,
   "id": "bef72ee1",
   "metadata": {},
   "outputs": [
    {
     "data": {
      "text/html": [
       "<div>\n",
       "<style scoped>\n",
       "    .dataframe tbody tr th:only-of-type {\n",
       "        vertical-align: middle;\n",
       "    }\n",
       "\n",
       "    .dataframe tbody tr th {\n",
       "        vertical-align: top;\n",
       "    }\n",
       "\n",
       "    .dataframe thead th {\n",
       "        text-align: right;\n",
       "    }\n",
       "</style>\n",
       "<table border=\"1\" class=\"dataframe\">\n",
       "  <thead>\n",
       "    <tr style=\"text-align: right;\">\n",
       "      <th></th>\n",
       "      <th>pclass</th>\n",
       "      <th>sex</th>\n",
       "      <th>age</th>\n",
       "      <th>fare</th>\n",
       "      <th>First</th>\n",
       "      <th>Southampton</th>\n",
       "      <th>False</th>\n",
       "    </tr>\n",
       "  </thead>\n",
       "  <tbody>\n",
       "    <tr>\n",
       "      <th>653</th>\n",
       "      <td>3.0</td>\n",
       "      <td>0.0</td>\n",
       "      <td>29.699118</td>\n",
       "      <td>7.8292</td>\n",
       "      <td>0.0</td>\n",
       "      <td>0.0</td>\n",
       "      <td>0.0</td>\n",
       "    </tr>\n",
       "    <tr>\n",
       "      <th>660</th>\n",
       "      <td>1.0</td>\n",
       "      <td>1.0</td>\n",
       "      <td>50.000000</td>\n",
       "      <td>133.6500</td>\n",
       "      <td>1.0</td>\n",
       "      <td>0.0</td>\n",
       "      <td>1.0</td>\n",
       "    </tr>\n",
       "    <tr>\n",
       "      <th>664</th>\n",
       "      <td>3.0</td>\n",
       "      <td>1.0</td>\n",
       "      <td>20.000000</td>\n",
       "      <td>7.9250</td>\n",
       "      <td>0.0</td>\n",
       "      <td>0.0</td>\n",
       "      <td>1.0</td>\n",
       "    </tr>\n",
       "    <tr>\n",
       "      <th>669</th>\n",
       "      <td>1.0</td>\n",
       "      <td>0.0</td>\n",
       "      <td>29.699118</td>\n",
       "      <td>52.0000</td>\n",
       "      <td>1.0</td>\n",
       "      <td>0.0</td>\n",
       "      <td>1.0</td>\n",
       "    </tr>\n",
       "    <tr>\n",
       "      <th>670</th>\n",
       "      <td>2.0</td>\n",
       "      <td>0.0</td>\n",
       "      <td>40.000000</td>\n",
       "      <td>39.0000</td>\n",
       "      <td>0.0</td>\n",
       "      <td>0.0</td>\n",
       "      <td>1.0</td>\n",
       "    </tr>\n",
       "    <tr>\n",
       "      <th>673</th>\n",
       "      <td>2.0</td>\n",
       "      <td>1.0</td>\n",
       "      <td>31.000000</td>\n",
       "      <td>13.0000</td>\n",
       "      <td>0.0</td>\n",
       "      <td>0.0</td>\n",
       "      <td>0.0</td>\n",
       "    </tr>\n",
       "  </tbody>\n",
       "</table>\n",
       "</div>"
      ],
      "text/plain": [
       "     pclass  sex        age      fare  First  Southampton  False\n",
       "653     3.0  0.0  29.699118    7.8292    0.0          0.0    0.0\n",
       "660     1.0  1.0  50.000000  133.6500    1.0          0.0    1.0\n",
       "664     3.0  1.0  20.000000    7.9250    0.0          0.0    1.0\n",
       "669     1.0  0.0  29.699118   52.0000    1.0          0.0    1.0\n",
       "670     2.0  0.0  40.000000   39.0000    0.0          0.0    1.0\n",
       "673     2.0  1.0  31.000000   13.0000    0.0          0.0    0.0"
      ]
     },
     "execution_count": 43,
     "metadata": {},
     "output_type": "execute_result"
    }
   ],
   "source": [
    "# Data for testing\n",
    "\n",
    "X_test[:6]"
   ]
  },
  {
   "cell_type": "code",
   "execution_count": 44,
   "id": "a1a7889b",
   "metadata": {},
   "outputs": [
    {
     "data": {
      "text/plain": [
       "653    1\n",
       "660    1\n",
       "664    1\n",
       "669    1\n",
       "670    1\n",
       "673    1\n",
       "Name: survived, dtype: int64"
      ]
     },
     "execution_count": 44,
     "metadata": {},
     "output_type": "execute_result"
    }
   ],
   "source": [
    "# Actual output\n",
    "y_test[:6]"
   ]
  },
  {
   "cell_type": "code",
   "execution_count": 45,
   "id": "f33dae36",
   "metadata": {},
   "outputs": [
    {
     "data": {
      "text/plain": [
       "array([1, 0, 0, 1, 1, 0], dtype=int64)"
      ]
     },
     "execution_count": 45,
     "metadata": {},
     "output_type": "execute_result"
    }
   ],
   "source": [
    "# Predicted output\n",
    "y_pred = dt.predict(X_test)\n",
    "y_pred[:6]"
   ]
  },
  {
   "cell_type": "code",
   "execution_count": 46,
   "id": "1498b9f9",
   "metadata": {},
   "outputs": [],
   "source": [
    "params = {'criterion':['gini','entropy'], 'splitter':['best','random'], 'max_depth':[5,10,15], 'min_samples_split':[1,2], 'max_features':[None,'auto','sqrt','log2'], 'random_state':[1,2,42,85]}"
   ]
  },
  {
   "cell_type": "code",
   "execution_count": 47,
   "id": "b27789a6",
   "metadata": {},
   "outputs": [
    {
     "data": {
      "text/plain": [
       "GridSearchCV(cv=3, estimator=DecisionTreeClassifier(max_depth=5),\n",
       "             param_grid={'criterion': ['gini', 'entropy'],\n",
       "                         'max_depth': [5, 10, 15],\n",
       "                         'max_features': [None, 'auto', 'sqrt', 'log2'],\n",
       "                         'min_samples_split': [1, 2],\n",
       "                         'random_state': [1, 2, 42, 85],\n",
       "                         'splitter': ['best', 'random']})"
      ]
     },
     "execution_count": 47,
     "metadata": {},
     "output_type": "execute_result"
    }
   ],
   "source": [
    "result = GridSearchCV(dt,params,cv = 3)\n",
    "result.fit(X_train,y_train)"
   ]
  },
  {
   "cell_type": "code",
   "execution_count": 48,
   "id": "b77ca7ec",
   "metadata": {},
   "outputs": [
    {
     "data": {
      "text/plain": [
       "{'criterion': 'gini',\n",
       " 'max_depth': 10,\n",
       " 'max_features': None,\n",
       " 'min_samples_split': 2,\n",
       " 'random_state': 2,\n",
       " 'splitter': 'random'}"
      ]
     },
     "execution_count": 48,
     "metadata": {},
     "output_type": "execute_result"
    }
   ],
   "source": [
    "result.best_params_"
   ]
  },
  {
   "cell_type": "code",
   "execution_count": 49,
   "id": "0e7b87b7",
   "metadata": {},
   "outputs": [
    {
     "data": {
      "text/plain": [
       "0.8101644245142002"
      ]
     },
     "execution_count": 49,
     "metadata": {},
     "output_type": "execute_result"
    }
   ],
   "source": [
    "result.best_score_"
   ]
  },
  {
   "cell_type": "code",
   "execution_count": 50,
   "id": "f05e9b5e",
   "metadata": {},
   "outputs": [],
   "source": [
    "y_predict = result.predict(X_test)"
   ]
  },
  {
   "cell_type": "markdown",
   "id": "cc82e791",
   "metadata": {},
   "source": [
    "##### Confusion matrix\n",
    "It is to check different accuracy metrix for data"
   ]
  },
  {
   "cell_type": "code",
   "execution_count": 51,
   "id": "6e3b8c90",
   "metadata": {},
   "outputs": [
    {
     "data": {
      "text/plain": [
       "array([[124,  13],\n",
       "       [ 23,  62]], dtype=int64)"
      ]
     },
     "execution_count": 51,
     "metadata": {},
     "output_type": "execute_result"
    }
   ],
   "source": [
    "confusion_matrix(y_test,y_pred)"
   ]
  },
  {
   "cell_type": "code",
   "execution_count": 52,
   "id": "6b0d0c61",
   "metadata": {},
   "outputs": [
    {
     "data": {
      "text/plain": [
       "137"
      ]
     },
     "execution_count": 52,
     "metadata": {},
     "output_type": "execute_result"
    }
   ],
   "source": [
    "len(y_test[y_test == 0])"
   ]
  },
  {
   "cell_type": "code",
   "execution_count": 53,
   "id": "b47a97bd",
   "metadata": {},
   "outputs": [
    {
     "data": {
      "text/plain": [
       "147"
      ]
     },
     "execution_count": 53,
     "metadata": {},
     "output_type": "execute_result"
    }
   ],
   "source": [
    "len(y_pred[y_pred == 0])"
   ]
  },
  {
   "cell_type": "code",
   "execution_count": 54,
   "id": "de98a500",
   "metadata": {},
   "outputs": [
    {
     "name": "stdout",
     "output_type": "stream",
     "text": [
      "              precision    recall  f1-score   support\n",
      "\n",
      "           0       0.84      0.91      0.87       137\n",
      "           1       0.83      0.73      0.77        85\n",
      "\n",
      "    accuracy                           0.84       222\n",
      "   macro avg       0.84      0.82      0.82       222\n",
      "weighted avg       0.84      0.84      0.84       222\n",
      "\n"
     ]
    }
   ],
   "source": [
    "# Check classification report to see different matrix for data\n",
    "\n",
    "print(classification_report(y_test, y_pred))"
   ]
  },
  {
   "cell_type": "raw",
   "id": "d63f36c4",
   "metadata": {},
   "source": [
    "Score of all matrix is good enough"
   ]
  },
  {
   "cell_type": "code",
   "execution_count": 55,
   "id": "21994f31",
   "metadata": {},
   "outputs": [
    {
     "data": {
      "text/plain": [
       "(array([0.        , 0.09489051, 1.        ]),\n",
       " array([0.        , 0.72941176, 1.        ]),\n",
       " array([2, 1, 0], dtype=int64))"
      ]
     },
     "execution_count": 55,
     "metadata": {},
     "output_type": "execute_result"
    }
   ],
   "source": [
    "# false positive rate\n",
    "#true positive rate\n",
    "# threshold\n",
    "\n",
    "\n",
    "rc = roc_curve(y_test,y_pred)\n",
    "rc"
   ]
  },
  {
   "cell_type": "code",
   "execution_count": 56,
   "id": "d6aadd2f",
   "metadata": {},
   "outputs": [
    {
     "data": {
      "text/plain": [
       "[<matplotlib.lines.Line2D at 0x17de8e0a220>]"
      ]
     },
     "execution_count": 56,
     "metadata": {},
     "output_type": "execute_result"
    },
    {
     "data": {
      "image/png": "[encoded data removed]",
      "text/plain": [
       "<Figure size 432x288 with 1 Axes>"
      ]
     },
     "metadata": {
      "needs_background": "light"
     },
     "output_type": "display_data"
    }
   ],
   "source": [
    "plt.plot(rc[0],rc[1])"
   ]
  },
  {
   "cell_type": "code",
   "execution_count": 57,
   "id": "f564301c",
   "metadata": {},
   "outputs": [
    {
     "data": {
      "text/plain": [
       "0.8172606268784885"
      ]
     },
     "execution_count": 57,
     "metadata": {},
     "output_type": "execute_result"
    }
   ],
   "source": [
    "auc(rc[0],rc[1])"
   ]
  },
  {
   "cell_type": "raw",
   "id": "d7c12df1",
   "metadata": {},
   "source": [
    "There are two criterias in decission tree ine is gini and other is entropy.     \n",
    "gini- Is faster in processing speed but it's result is slightly poor.\n",
    "Information gain (entropy)- Is slower in processing speed but it's result is little bit better.    \n",
    "If application requires quick result by quite compramising accuracy then prefer gini criteria, otherwise prefer information gain (entropy)"
   ]
  },
  {
   "cell_type": "markdown",
   "id": "42285a75",
   "metadata": {},
   "source": [
    "##### Plot the tree"
   ]
  },
  {
   "cell_type": "code",
   "execution_count": 58,
   "id": "f4144bd2",
   "metadata": {},
   "outputs": [
    {
     "data": {
      "image/png": "[encoded data removed]",
      "text/plain": [
       "<Figure size 1080x864 with 1 Axes>"
      ]
     },
     "metadata": {
      "needs_background": "light"
     },
     "output_type": "display_data"
    }
   ],
   "source": [
    "plt.figure(figsize = (15,12))\n",
    "tree.plot_tree(dt,filled = True)\n",
    "plt.show()"
   ]
  },
  {
   "cell_type": "raw",
   "id": "e2bf6f9c",
   "metadata": {},
   "source": [
    "Here, Entropy measures impurity or randomness of data for classification. Entropy is minimal means the attribute appears near to one class and have a good discriminatory power for classification.\n",
    "Information Gain is measure of effectiveness of an attribute in classification. The ranking is based on high information gain entropy in decreasing order.\n",
    "It give number of possible paths in tree."
   ]
  }
 ],
 "metadata": {
  "kernelspec": {
   "display_name": "Python 3",
   "language": "python",
   "name": "python3"
  },
  "language_info": {
   "codemirror_mode": {
    "name": "ipython",
    "version": 3
   },
   "file_extension": ".py",
   "mimetype": "text/x-python",
   "name": "python",
   "nbconvert_exporter": "python",
   "pygments_lexer": "ipython3",
   "version": "3.8.8"
  }
 },
 "nbformat": 4,
 "nbformat_minor": 5
}
