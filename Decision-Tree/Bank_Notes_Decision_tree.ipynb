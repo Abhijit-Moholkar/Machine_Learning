{
 "cells": [
  {
   "cell_type": "markdown",
   "metadata": {},
   "source": [
    "# Decision Tree\n",
    "Decision Tree is a Supervised learning technique that can be applicable for both classification and Regression problems, but generally it is preferred for solving Classification problems. It is a tree-structured classifier, where internal nodes represent the features of a dataset, edges represent the decision rules and each leaf node represents the outcome.    \n",
    "It is a graphical representation for all the possible solutions to a problem based on given conditions.     \n",
    "In tree construction, we use the Classification and Regression Tree (CART) algorithm.\n",
    "\n",
    "Steps of Algorithm:\n",
    "\n",
    "Step-1: Begin the tree with the root node, says S, which contains the dataset as a whole.    \n",
    "Step-2: Find the best attribute in the dataset using Attribute Selection Measure (ASM).    \n",
    "Step-3: Divide the S into subsets that contains possible values for the best attributes.    \n",
    "Step-4: Generate the decision tree node, which havings the best attribute.    \n",
    "Step-5: Recursively make new decision trees using the subsets of the dataset created in step -3. Continue this process until a stage is reached where you cannot further split the nodes and called the final node as a leaf node."
   ]
  },
  {
   "cell_type": "markdown",
   "metadata": {
    "id": "LKNjuJhqCGFo"
   },
   "source": [
    "## Decision tree to find out fake or genuine note\n",
    "    We have bank notes dataset It includes 4 features and one target variable\n",
    "    features: Variance, Skewness, Curtosis, Entropy\n",
    "    target: class "
   ]
  },
  {
   "cell_type": "markdown",
   "metadata": {},
   "source": [
    "##### Import required libraries"
   ]
  },
  {
   "cell_type": "code",
   "execution_count": 1,
   "metadata": {
    "id": "tNBosBQECGFw"
   },
   "outputs": [],
   "source": [
    "import numpy as np\n",
    "import pandas as pd\n",
    "import matplotlib.pyplot as plt\n",
    "from sklearn.model_selection import train_test_split\n",
    "from sklearn.tree import DecisionTreeClassifier\n",
    "from sklearn.metrics import confusion_matrix\n",
    "from sklearn.metrics import classification_report\n",
    "from sklearn import tree"
   ]
  },
  {
   "cell_type": "markdown",
   "metadata": {},
   "source": [
    "##### Read data from csv file"
   ]
  },
  {
   "cell_type": "code",
   "execution_count": 2,
   "metadata": {
    "id": "Xn_ikYM4CGFy",
    "outputId": "ad4d871e-dcf1-4fde-bc72-a0d4651d413e"
   },
   "outputs": [
    {
     "data": {
      "text/html": [
       "<div>\n",
       "<style scoped>\n",
       "    .dataframe tbody tr th:only-of-type {\n",
       "        vertical-align: middle;\n",
       "    }\n",
       "\n",
       "    .dataframe tbody tr th {\n",
       "        vertical-align: top;\n",
       "    }\n",
       "\n",
       "    .dataframe thead th {\n",
       "        text-align: right;\n",
       "    }\n",
       "</style>\n",
       "<table border=\"1\" class=\"dataframe\">\n",
       "  <thead>\n",
       "    <tr style=\"text-align: right;\">\n",
       "      <th></th>\n",
       "      <th>Variance</th>\n",
       "      <th>Skewness</th>\n",
       "      <th>Curtosis</th>\n",
       "      <th>Entropy</th>\n",
       "      <th>Class</th>\n",
       "    </tr>\n",
       "  </thead>\n",
       "  <tbody>\n",
       "    <tr>\n",
       "      <th>0</th>\n",
       "      <td>3.6216</td>\n",
       "      <td>8.6661</td>\n",
       "      <td>-2.8073</td>\n",
       "      <td>-0.44699</td>\n",
       "      <td>0</td>\n",
       "    </tr>\n",
       "    <tr>\n",
       "      <th>1</th>\n",
       "      <td>4.5459</td>\n",
       "      <td>8.1674</td>\n",
       "      <td>-2.4586</td>\n",
       "      <td>-1.46210</td>\n",
       "      <td>0</td>\n",
       "    </tr>\n",
       "    <tr>\n",
       "      <th>2</th>\n",
       "      <td>3.8660</td>\n",
       "      <td>-2.6383</td>\n",
       "      <td>1.9242</td>\n",
       "      <td>0.10645</td>\n",
       "      <td>0</td>\n",
       "    </tr>\n",
       "  </tbody>\n",
       "</table>\n",
       "</div>"
      ],
      "text/plain": [
       "   Variance  Skewness  Curtosis  Entropy  Class\n",
       "0    3.6216    8.6661   -2.8073 -0.44699      0\n",
       "1    4.5459    8.1674   -2.4586 -1.46210      0\n",
       "2    3.8660   -2.6383    1.9242  0.10645      0"
      ]
     },
     "execution_count": 2,
     "metadata": {},
     "output_type": "execute_result"
    }
   ],
   "source": [
    "df = pd.read_csv('banknotes.csv')\n",
    "df.head(3)"
   ]
  },
  {
   "cell_type": "markdown",
   "metadata": {
    "id": "1DS4jefiCGF0"
   },
   "source": [
    "##### Explore data"
   ]
  },
  {
   "cell_type": "code",
   "execution_count": 3,
   "metadata": {
    "id": "s_u9Fi2JCGF1",
    "outputId": "c1e22fb4-f099-4374-e584-cec8dad06538"
   },
   "outputs": [
    {
     "data": {
      "text/plain": [
       "(1372, 5)"
      ]
     },
     "execution_count": 3,
     "metadata": {},
     "output_type": "execute_result"
    }
   ],
   "source": [
    "# Check number of records and columns in data\n",
    "\n",
    "df.shape"
   ]
  },
  {
   "cell_type": "code",
   "execution_count": 4,
   "metadata": {
    "id": "cV0KYdFtCGF2",
    "outputId": "605c06c1-440d-4377-d558-6161412f78cf"
   },
   "outputs": [
    {
     "data": {
      "text/plain": [
       "array([0, 1], dtype=int64)"
      ]
     },
     "execution_count": 4,
     "metadata": {},
     "output_type": "execute_result"
    }
   ],
   "source": [
    "# Check for the unique categories in target\n",
    "\n",
    "df.Class.unique()"
   ]
  },
  {
   "cell_type": "code",
   "execution_count": 5,
   "metadata": {
    "id": "JIOdtadNCGF3",
    "outputId": "292bbc0f-1eba-45b7-af58-5602f713fa20"
   },
   "outputs": [
    {
     "data": {
      "text/plain": [
       "610"
      ]
     },
     "execution_count": 5,
     "metadata": {},
     "output_type": "execute_result"
    }
   ],
   "source": [
    "# Count of fake notes\n",
    "\n",
    "df.Class.sum()"
   ]
  },
  {
   "cell_type": "code",
   "execution_count": 6,
   "metadata": {
    "id": "TG5iK96-CGF5",
    "outputId": "94896251-19d1-4b4f-df69-67617ee522eb"
   },
   "outputs": [
    {
     "data": {
      "text/plain": [
       "0    762\n",
       "1    610\n",
       "Name: Class, dtype: int64"
      ]
     },
     "execution_count": 6,
     "metadata": {},
     "output_type": "execute_result"
    }
   ],
   "source": [
    "# Count of each class\n",
    "\n",
    "df.Class.value_counts()"
   ]
  },
  {
   "cell_type": "raw",
   "metadata": {
    "id": "cdRdfmzICGF6"
   },
   "source": [
    "Here, dataset is balanaced as count of both the classes is nearly same"
   ]
  },
  {
   "cell_type": "code",
   "execution_count": 7,
   "metadata": {
    "id": "v0E7p85-CGF7",
    "outputId": "2c841df5-c213-49cb-d0ea-7d27c40a0b2c"
   },
   "outputs": [
    {
     "name": "stdout",
     "output_type": "stream",
     "text": [
      "<class 'pandas.core.frame.DataFrame'>\n",
      "RangeIndex: 1372 entries, 0 to 1371\n",
      "Data columns (total 5 columns):\n",
      " #   Column    Non-Null Count  Dtype  \n",
      "---  ------    --------------  -----  \n",
      " 0   Variance  1372 non-null   float64\n",
      " 1   Skewness  1372 non-null   float64\n",
      " 2   Curtosis  1372 non-null   float64\n",
      " 3   Entropy   1372 non-null   float64\n",
      " 4   Class     1372 non-null   int64  \n",
      "dtypes: float64(4), int64(1)\n",
      "memory usage: 53.7 KB\n"
     ]
    }
   ],
   "source": [
    "# Describe data to check number of records and columns, data type, amd memory usage of data\n",
    "\n",
    "df.info()"
   ]
  },
  {
   "cell_type": "code",
   "execution_count": 8,
   "metadata": {
    "id": "27-jjYyACGF8",
    "outputId": "1ecc36a4-36cd-4814-a7a2-c9a710276c6a"
   },
   "outputs": [
    {
     "data": {
      "text/plain": [
       "Variance    0\n",
       "Skewness    0\n",
       "Curtosis    0\n",
       "Entropy     0\n",
       "Class       0\n",
       "dtype: int64"
      ]
     },
     "execution_count": 8,
     "metadata": {},
     "output_type": "execute_result"
    }
   ],
   "source": [
    "# Check number of missing records in data\n",
    "\n",
    "df.isna().sum()"
   ]
  },
  {
   "cell_type": "code",
   "execution_count": 9,
   "metadata": {
    "id": "JAQWI8l7CGF8",
    "outputId": "9376755b-593b-4f77-c8ff-a79db134f4fc"
   },
   "outputs": [
    {
     "data": {
      "image/png": "[encoded data removed]",
      "text/plain": [
       "<Figure size 432x288 with 6 Axes>"
      ]
     },
     "metadata": {
      "needs_background": "light"
     },
     "output_type": "display_data"
    }
   ],
   "source": [
    "# Plot hist plot to see data distribution\n",
    "\n",
    "df.hist()\n",
    "plt.show()"
   ]
  },
  {
   "cell_type": "markdown",
   "metadata": {},
   "source": [
    "##### Check for the outlayers"
   ]
  },
  {
   "cell_type": "code",
   "execution_count": 10,
   "metadata": {
    "id": "akYn8HFECGF-",
    "outputId": "2edf3a82-e4f0-4a2e-f07f-4637b82b215b"
   },
   "outputs": [
    {
     "data": {
      "image/png": "[encoded data removed]",
      "text/plain": [
       "<Figure size 432x288 with 1 Axes>"
      ]
     },
     "metadata": {
      "needs_background": "light"
     },
     "output_type": "display_data"
    }
   ],
   "source": [
    "df.plot(kind = 'box')\n",
    "plt.show()"
   ]
  },
  {
   "cell_type": "raw",
   "metadata": {},
   "source": [
    "There are outlayers in Curtosis and entropy column so remove it "
   ]
  },
  {
   "cell_type": "code",
   "execution_count": 11,
   "metadata": {
    "id": "rimykikeCGF9",
    "outputId": "04f638cb-5261-444e-c6c2-f77cad6166fc"
   },
   "outputs": [
    {
     "data": {
      "image/png": "[encoded data removed]",
      "text/plain": [
       "<Figure size 432x288 with 1 Axes>"
      ]
     },
     "metadata": {
      "needs_background": "light"
     },
     "output_type": "display_data"
    }
   ],
   "source": [
    "# Check data of Curtosis\n",
    "\n",
    "df.Curtosis.plot(kind = 'box')\n",
    "plt.show()"
   ]
  },
  {
   "cell_type": "raw",
   "metadata": {},
   "source": [
    "Here lot of outlayers present so remove them"
   ]
  },
  {
   "cell_type": "code",
   "execution_count": 12,
   "metadata": {},
   "outputs": [],
   "source": [
    "df = df[df.Curtosis < 8.8]"
   ]
  },
  {
   "cell_type": "code",
   "execution_count": 13,
   "metadata": {},
   "outputs": [
    {
     "data": {
      "image/png": "[encoded data removed]",
      "text/plain": [
       "<Figure size 432x288 with 1 Axes>"
      ]
     },
     "metadata": {
      "needs_background": "light"
     },
     "output_type": "display_data"
    }
   ],
   "source": [
    "df.Curtosis.plot(kind = 'box')\n",
    "plt.show()"
   ]
  },
  {
   "cell_type": "code",
   "execution_count": 14,
   "metadata": {},
   "outputs": [
    {
     "data": {
      "image/png": "[encoded data removed]",
      "text/plain": [
       "<Figure size 432x288 with 1 Axes>"
      ]
     },
     "metadata": {
      "needs_background": "light"
     },
     "output_type": "display_data"
    }
   ],
   "source": [
    "# Check data of Entropy\n",
    "\n",
    "df.Entropy.plot(kind = 'box')\n",
    "plt.show()"
   ]
  },
  {
   "cell_type": "raw",
   "metadata": {},
   "source": [
    "Here, also lot of outlayers present so remove them"
   ]
  },
  {
   "cell_type": "code",
   "execution_count": 15,
   "metadata": {},
   "outputs": [],
   "source": [
    "df = df[df.Entropy >- 5.8]"
   ]
  },
  {
   "cell_type": "code",
   "execution_count": 16,
   "metadata": {},
   "outputs": [
    {
     "data": {
      "image/png": "[encoded data removed]",
      "text/plain": [
       "<Figure size 432x288 with 1 Axes>"
      ]
     },
     "metadata": {
      "needs_background": "light"
     },
     "output_type": "display_data"
    }
   ],
   "source": [
    "df.Entropy.plot(kind = 'box')\n",
    "plt.show()"
   ]
  },
  {
   "cell_type": "code",
   "execution_count": 17,
   "metadata": {},
   "outputs": [
    {
     "data": {
      "image/png": "[encoded data removed]",
      "text/plain": [
       "<Figure size 432x288 with 1 Axes>"
      ]
     },
     "metadata": {
      "needs_background": "light"
     },
     "output_type": "display_data"
    }
   ],
   "source": [
    "# Check for the whole dataset\n",
    "\n",
    "df.plot(kind='box')\n",
    "plt.show()"
   ]
  },
  {
   "cell_type": "markdown",
   "metadata": {
    "id": "1otXWBQZCGF_"
   },
   "source": [
    "##### Lets create input and output"
   ]
  },
  {
   "cell_type": "code",
   "execution_count": 18,
   "metadata": {
    "id": "YGLZGoKpCGF_"
   },
   "outputs": [
    {
     "data": {
      "text/plain": [
       "Index(['Variance', 'Skewness', 'Curtosis', 'Entropy', 'Class'], dtype='object')"
      ]
     },
     "execution_count": 18,
     "metadata": {},
     "output_type": "execute_result"
    }
   ],
   "source": [
    "df.columns"
   ]
  },
  {
   "cell_type": "code",
   "execution_count": 19,
   "metadata": {
    "id": "1Na9qi3ACGGA"
   },
   "outputs": [],
   "source": [
    "#Feature creation: It can be possible in different ways\n",
    "\n",
    "#df.drop(columns = 'Class')\n",
    "#df.iloc[:,:-1]\n",
    "#df.loc[:,['Variance', 'Skewness', 'Curtosis', 'Entropy']]\n",
    "#df.loc[:,'Variance':'Entropy']\n",
    "X = df[['Variance', 'Skewness', 'Curtosis', 'Entropy']]"
   ]
  },
  {
   "cell_type": "code",
   "execution_count": 20,
   "metadata": {
    "id": "_XVGfvT8CGGA",
    "outputId": "de35e054-d5e7-4b05-cea9-5dcabbd1e1f2"
   },
   "outputs": [
    {
     "data": {
      "text/html": [
       "<div>\n",
       "<style scoped>\n",
       "    .dataframe tbody tr th:only-of-type {\n",
       "        vertical-align: middle;\n",
       "    }\n",
       "\n",
       "    .dataframe tbody tr th {\n",
       "        vertical-align: top;\n",
       "    }\n",
       "\n",
       "    .dataframe thead th {\n",
       "        text-align: right;\n",
       "    }\n",
       "</style>\n",
       "<table border=\"1\" class=\"dataframe\">\n",
       "  <thead>\n",
       "    <tr style=\"text-align: right;\">\n",
       "      <th></th>\n",
       "      <th>Variance</th>\n",
       "      <th>Skewness</th>\n",
       "      <th>Curtosis</th>\n",
       "      <th>Entropy</th>\n",
       "    </tr>\n",
       "  </thead>\n",
       "  <tbody>\n",
       "    <tr>\n",
       "      <th>0</th>\n",
       "      <td>3.6216</td>\n",
       "      <td>8.6661</td>\n",
       "      <td>-2.8073</td>\n",
       "      <td>-0.44699</td>\n",
       "    </tr>\n",
       "    <tr>\n",
       "      <th>1</th>\n",
       "      <td>4.5459</td>\n",
       "      <td>8.1674</td>\n",
       "      <td>-2.4586</td>\n",
       "      <td>-1.46210</td>\n",
       "    </tr>\n",
       "  </tbody>\n",
       "</table>\n",
       "</div>"
      ],
      "text/plain": [
       "   Variance  Skewness  Curtosis  Entropy\n",
       "0    3.6216    8.6661   -2.8073 -0.44699\n",
       "1    4.5459    8.1674   -2.4586 -1.46210"
      ]
     },
     "execution_count": 20,
     "metadata": {},
     "output_type": "execute_result"
    }
   ],
   "source": [
    "# Check first two records of feature\n",
    "\n",
    "X.head(2)"
   ]
  },
  {
   "cell_type": "code",
   "execution_count": 21,
   "metadata": {
    "id": "TDTdab3nCGGB",
    "outputId": "29ecff7b-4c53-461b-a1ae-05411d4426a8"
   },
   "outputs": [
    {
     "data": {
      "text/plain": [
       "0    0\n",
       "1    0\n",
       "Name: Class, dtype: int64"
      ]
     },
     "execution_count": 21,
     "metadata": {},
     "output_type": "execute_result"
    }
   ],
   "source": [
    "# Create target and check first two records\n",
    "\n",
    "y = df.Class\n",
    "y[:2]"
   ]
  },
  {
   "cell_type": "markdown",
   "metadata": {},
   "source": [
    "##### Split data into training and testing"
   ]
  },
  {
   "cell_type": "code",
   "execution_count": 22,
   "metadata": {
    "id": "vhbm8L9FCGGC"
   },
   "outputs": [],
   "source": [
    "# 80% records are applied for training and remaining are for testing\n",
    "\n",
    "X_train,X_test,y_train,y_test = train_test_split(X,y,test_size = .20)"
   ]
  },
  {
   "cell_type": "code",
   "execution_count": 23,
   "metadata": {
    "id": "ytWnUf-rCGGC",
    "outputId": "bf27304d-5988-467d-f7ba-2f3f4c250e63"
   },
   "outputs": [
    {
     "data": {
      "text/plain": [
       "(973, 4)"
      ]
     },
     "execution_count": 23,
     "metadata": {},
     "output_type": "execute_result"
    }
   ],
   "source": [
    "# Check number of records and columns in training data\n",
    "\n",
    "X_train.shape"
   ]
  },
  {
   "cell_type": "code",
   "execution_count": 24,
   "metadata": {},
   "outputs": [
    {
     "data": {
      "text/plain": [
       "(244, 4)"
      ]
     },
     "execution_count": 24,
     "metadata": {},
     "output_type": "execute_result"
    }
   ],
   "source": [
    "# Check number of records and columns in testing data\n",
    "\n",
    "X_test.shape"
   ]
  },
  {
   "cell_type": "code",
   "execution_count": 25,
   "metadata": {
    "id": "Ss-NQbDeCGGD",
    "outputId": "0187ed0f-03b8-411d-cb68-446afdafadea"
   },
   "outputs": [
    {
     "data": {
      "text/plain": [
       "(1217, 4)"
      ]
     },
     "execution_count": 25,
     "metadata": {},
     "output_type": "execute_result"
    }
   ],
   "source": [
    "# Check number of records and columns in feature / input\n",
    "\n",
    "X.shape"
   ]
  },
  {
   "cell_type": "markdown",
   "metadata": {
    "id": "GDHIacKhCGGD"
   },
   "source": [
    "##### Training of model"
   ]
  },
  {
   "cell_type": "code",
   "execution_count": 26,
   "metadata": {
    "id": "akrmF3XsCGGE"
   },
   "outputs": [],
   "source": [
    "# Create object of model for entropy criteria\n",
    "\n",
    "model = DecisionTreeClassifier(criterion = 'entropy')"
   ]
  },
  {
   "cell_type": "code",
   "execution_count": 27,
   "metadata": {
    "id": "EiP_aRk6CGGE",
    "outputId": "16457fac-5ad1-447b-ad41-3c2db6a0101e"
   },
   "outputs": [
    {
     "data": {
      "text/plain": [
       "DecisionTreeClassifier(criterion='entropy')"
      ]
     },
     "execution_count": 27,
     "metadata": {},
     "output_type": "execute_result"
    }
   ],
   "source": [
    "# Check model\n",
    "\n",
    "model"
   ]
  },
  {
   "cell_type": "code",
   "execution_count": 28,
   "metadata": {
    "id": "ikxFnEHYCGGF",
    "outputId": "722d6224-32b4-4f6d-b040-4072987992b7"
   },
   "outputs": [
    {
     "data": {
      "text/plain": [
       "DecisionTreeClassifier(criterion='entropy')"
      ]
     },
     "execution_count": 28,
     "metadata": {},
     "output_type": "execute_result"
    }
   ],
   "source": [
    "# Train the model\n",
    "\n",
    "model.fit(X_train, y_train)"
   ]
  },
  {
   "cell_type": "markdown",
   "metadata": {
    "id": "Wy5izbgfCGGF"
   },
   "source": [
    "##### Check accuracy of training data"
   ]
  },
  {
   "cell_type": "code",
   "execution_count": 29,
   "metadata": {
    "id": "Ge1oNBFACGGF",
    "outputId": "f3fe88ac-15ff-4486-ab07-2529d308d2a1"
   },
   "outputs": [
    {
     "data": {
      "text/plain": [
       "100.0"
      ]
     },
     "execution_count": 29,
     "metadata": {},
     "output_type": "execute_result"
    }
   ],
   "source": [
    "model.score(X_train, y_train) * 100"
   ]
  },
  {
   "cell_type": "markdown",
   "metadata": {},
   "source": [
    "##### Check accuracy of testing data"
   ]
  },
  {
   "cell_type": "code",
   "execution_count": 30,
   "metadata": {},
   "outputs": [
    {
     "data": {
      "text/plain": [
       "97.1311475409836"
      ]
     },
     "execution_count": 30,
     "metadata": {},
     "output_type": "execute_result"
    }
   ],
   "source": [
    "model.score(X_test, y_test) * 100"
   ]
  },
  {
   "cell_type": "markdown",
   "metadata": {},
   "source": [
    "##### Check accuracy of the whole data"
   ]
  },
  {
   "cell_type": "code",
   "execution_count": 31,
   "metadata": {
    "id": "Xgy0Kk3yCGGF",
    "outputId": "8674dfc2-848a-4532-f107-ef941f2c2269"
   },
   "outputs": [
    {
     "data": {
      "text/plain": [
       "99.42481511914544"
      ]
     },
     "execution_count": 31,
     "metadata": {},
     "output_type": "execute_result"
    }
   ],
   "source": [
    "model.score(X, y) * 100"
   ]
  },
  {
   "cell_type": "markdown",
   "metadata": {
    "id": "RCCva3jzCGGG"
   },
   "source": [
    "##### Testing / Prediction"
   ]
  },
  {
   "cell_type": "code",
   "execution_count": 32,
   "metadata": {
    "id": "q2wU3hxYCGGG",
    "outputId": "4e6bdd21-a612-4472-c630-c8d268479956"
   },
   "outputs": [
    {
     "data": {
      "text/html": [
       "<div>\n",
       "<style scoped>\n",
       "    .dataframe tbody tr th:only-of-type {\n",
       "        vertical-align: middle;\n",
       "    }\n",
       "\n",
       "    .dataframe tbody tr th {\n",
       "        vertical-align: top;\n",
       "    }\n",
       "\n",
       "    .dataframe thead th {\n",
       "        text-align: right;\n",
       "    }\n",
       "</style>\n",
       "<table border=\"1\" class=\"dataframe\">\n",
       "  <thead>\n",
       "    <tr style=\"text-align: right;\">\n",
       "      <th></th>\n",
       "      <th>Variance</th>\n",
       "      <th>Skewness</th>\n",
       "      <th>Curtosis</th>\n",
       "      <th>Entropy</th>\n",
       "    </tr>\n",
       "  </thead>\n",
       "  <tbody>\n",
       "    <tr>\n",
       "      <th>84</th>\n",
       "      <td>3.2450</td>\n",
       "      <td>6.63000</td>\n",
       "      <td>-0.63435</td>\n",
       "      <td>0.86937</td>\n",
       "    </tr>\n",
       "    <tr>\n",
       "      <th>12</th>\n",
       "      <td>1.8993</td>\n",
       "      <td>7.66250</td>\n",
       "      <td>0.15394</td>\n",
       "      <td>-3.11080</td>\n",
       "    </tr>\n",
       "    <tr>\n",
       "      <th>869</th>\n",
       "      <td>-3.3125</td>\n",
       "      <td>0.10139</td>\n",
       "      <td>0.55323</td>\n",
       "      <td>-0.29570</td>\n",
       "    </tr>\n",
       "  </tbody>\n",
       "</table>\n",
       "</div>"
      ],
      "text/plain": [
       "     Variance  Skewness  Curtosis  Entropy\n",
       "84     3.2450   6.63000  -0.63435  0.86937\n",
       "12     1.8993   7.66250   0.15394 -3.11080\n",
       "869   -3.3125   0.10139   0.55323 -0.29570"
      ]
     },
     "execution_count": 32,
     "metadata": {},
     "output_type": "execute_result"
    }
   ],
   "source": [
    "# Data for testing\n",
    "\n",
    "X_test[:3]"
   ]
  },
  {
   "cell_type": "code",
   "execution_count": 33,
   "metadata": {
    "id": "bsU19ftJCGGG",
    "outputId": "0cd646ec-92b9-4185-de92-8bb2dee04c94"
   },
   "outputs": [
    {
     "data": {
      "text/plain": [
       "array([0, 0, 1], dtype=int64)"
      ]
     },
     "execution_count": 33,
     "metadata": {},
     "output_type": "execute_result"
    }
   ],
   "source": [
    "# Predicted output\n",
    "y_pred = model.predict(X_test)\n",
    "y_pred[:3]"
   ]
  },
  {
   "cell_type": "code",
   "execution_count": 34,
   "metadata": {
    "id": "8t4km0Z1CGGH",
    "outputId": "e775a5e5-bd7c-4c02-85e3-b9c00702fba3"
   },
   "outputs": [
    {
     "data": {
      "text/plain": [
       "84     0\n",
       "12     0\n",
       "869    1\n",
       "Name: Class, dtype: int64"
      ]
     },
     "execution_count": 34,
     "metadata": {},
     "output_type": "execute_result"
    }
   ],
   "source": [
    "# Actual output\n",
    "y_test[:3]"
   ]
  },
  {
   "cell_type": "markdown",
   "metadata": {
    "id": "8lmjF8rSCGGH"
   },
   "source": [
    "##### Confusion matrix\n",
    "It is to check different accuracy metrix for data"
   ]
  },
  {
   "cell_type": "code",
   "execution_count": 35,
   "metadata": {
    "id": "r_2E6AX8CGGI",
    "outputId": "5c274728-061e-45d5-cf03-086bf08e7042"
   },
   "outputs": [
    {
     "data": {
      "text/plain": [
       "array([[157,   5],\n",
       "       [  2,  80]], dtype=int64)"
      ]
     },
     "execution_count": 35,
     "metadata": {},
     "output_type": "execute_result"
    }
   ],
   "source": [
    "confusion_matrix(y_test, y_pred)"
   ]
  },
  {
   "cell_type": "code",
   "execution_count": 36,
   "metadata": {
    "id": "uPzToZeuCGGI",
    "outputId": "3059b8ad-02e8-4456-8432-991a5f206b32"
   },
   "outputs": [
    {
     "data": {
      "text/plain": [
       "162"
      ]
     },
     "execution_count": 36,
     "metadata": {},
     "output_type": "execute_result"
    }
   ],
   "source": [
    "len(y_test[y_test == 0])"
   ]
  },
  {
   "cell_type": "code",
   "execution_count": 37,
   "metadata": {
    "id": "nsQWwiY0CGGI",
    "outputId": "a731f239-b444-4871-8226-539fedd90f43"
   },
   "outputs": [
    {
     "data": {
      "text/plain": [
       "85"
      ]
     },
     "execution_count": 37,
     "metadata": {},
     "output_type": "execute_result"
    }
   ],
   "source": [
    "len(y_pred[y_pred == 1])"
   ]
  },
  {
   "cell_type": "code",
   "execution_count": 38,
   "metadata": {
    "id": "HeZPVFmHCGGJ",
    "outputId": "ad264dd0-07fb-435c-f47e-9a20bb654cbf"
   },
   "outputs": [
    {
     "name": "stdout",
     "output_type": "stream",
     "text": [
      "              precision    recall  f1-score   support\n",
      "\n",
      "           0       0.99      0.97      0.98       162\n",
      "           1       0.94      0.98      0.96        82\n",
      "\n",
      "    accuracy                           0.97       244\n",
      "   macro avg       0.96      0.97      0.97       244\n",
      "weighted avg       0.97      0.97      0.97       244\n",
      "\n"
     ]
    }
   ],
   "source": [
    "# Check classification report to see different matrix for data\n",
    "\n",
    "print(classification_report(y_test, y_pred))"
   ]
  },
  {
   "cell_type": "raw",
   "metadata": {},
   "source": [
    "Score of all matrix is too good"
   ]
  },
  {
   "cell_type": "raw",
   "metadata": {
    "id": "zh86j8XyCGGJ"
   },
   "source": [
    "There are two criterias in decission tree ine is gini and other is entropy.     \n",
    "gini- Is faster in processing speed but it's result is slightly poor.\n",
    "Information gain (entropy)- Is slower in processing speed but it's result is little bit better.    \n",
    "If application requires quick result by quite compramising accuracy then prefer gini criteria, otherwise prefer information gain (entropy)"
   ]
  },
  {
   "cell_type": "markdown",
   "metadata": {
    "id": "A3RpRatgCGGJ"
   },
   "source": [
    "##### Plot the tree"
   ]
  },
  {
   "cell_type": "code",
   "execution_count": 39,
   "metadata": {
    "id": "Eg94bhp-CGGK"
   },
   "outputs": [
    {
     "data": {
      "image/png": "[encoded data removed]",
      "text/plain": [
       "<Figure size 1080x864 with 1 Axes>"
      ]
     },
     "metadata": {
      "needs_background": "light"
     },
     "output_type": "display_data"
    }
   ],
   "source": [
    "plt.figure(figsize = (15,12))\n",
    "tree.plot_tree(model,filled = True)\n",
    "plt.show()"
   ]
  },
  {
   "cell_type": "raw",
   "metadata": {
    "id": "dHL2S8uHCGGK"
   },
   "source": [
    "Here, Entropy measures impurity or randomness of data for classification. Entropy is minimal means the attribute appears near to one class and have a good discriminatory power for classification.\n",
    "Information Gain is measure of effectiveness of an attribute in classification. The ranking is based on high information gain entropy in decreasing order.\n",
    "It give number of possible paths in tree."
   ]
  }
 ],
 "metadata": {
  "colab": {
   "name": "M_Decision_tree.ipynb",
   "provenance": []
  },
  "kernelspec": {
   "display_name": "Python 3",
   "language": "python",
   "name": "python3"
  },
  "language_info": {
   "codemirror_mode": {
    "name": "ipython",
    "version": 3
   },
   "file_extension": ".py",
   "mimetype": "text/x-python",
   "name": "python",
   "nbconvert_exporter": "python",
   "pygments_lexer": "ipython3",
   "version": "3.8.8"
  }
 },
 "nbformat": 4,
 "nbformat_minor": 1
}
