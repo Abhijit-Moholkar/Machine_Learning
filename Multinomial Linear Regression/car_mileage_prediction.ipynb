{
 "cells": [
  {
   "cell_type": "raw",
   "id": "b8ff0edd",
   "metadata": {},
   "source": [
    "#Regresion:\n",
    "    - Linear [1 input and 1 output] ==> y = mx+c\n",
    "    \n",
    "    - Multilinear [more than 1 input and 1 output] y = m1x1 + m2x2 +......+ c\n",
    "    \n",
    "    - Logistic [binary output:1/0 True/False]"
   ]
  },
  {
   "cell_type": "markdown",
   "id": "3489cf05",
   "metadata": {},
   "source": [
    "##### MultilinearRegression"
   ]
  },
  {
   "cell_type": "markdown",
   "id": "b347e932",
   "metadata": {},
   "source": [
    "###### Perform predictive modeling on mtcars.csv dataset from which select few columns as an input and  output as mpg(mileage per gallon)\n",
    "###### So on the basis of inputs selected we have to predict its mileage"
   ]
  },
  {
   "cell_type": "markdown",
   "id": "b9ae4a4b",
   "metadata": {},
   "source": [
    "##### This is a multilinear regression problem as it has multiple inputs and single output "
   ]
  },
  {
   "cell_type": "markdown",
   "id": "136feccf",
   "metadata": {},
   "source": [
    "##### Import required pachages"
   ]
  },
  {
   "cell_type": "code",
   "execution_count": 1,
   "id": "7a3ff29c",
   "metadata": {},
   "outputs": [],
   "source": [
    "import numpy as np\n",
    "import pandas as pd\n",
    "from matplotlib import pyplot as plt \n",
    "import seaborn as sns\n",
    "from sklearn.model_selection import train_test_split\n",
    "from sklearn.linear_model import LinearRegression"
   ]
  },
  {
   "cell_type": "markdown",
   "id": "acb6dfcb",
   "metadata": {},
   "source": [
    "##### Read data and create Data Frame for it"
   ]
  },
  {
   "cell_type": "code",
   "execution_count": 2,
   "id": "dccdd027",
   "metadata": {},
   "outputs": [
    {
     "data": {
      "text/html": [
       "<div>\n",
       "<style scoped>\n",
       "    .dataframe tbody tr th:only-of-type {\n",
       "        vertical-align: middle;\n",
       "    }\n",
       "\n",
       "    .dataframe tbody tr th {\n",
       "        vertical-align: top;\n",
       "    }\n",
       "\n",
       "    .dataframe thead th {\n",
       "        text-align: right;\n",
       "    }\n",
       "</style>\n",
       "<table border=\"1\" class=\"dataframe\">\n",
       "  <thead>\n",
       "    <tr style=\"text-align: right;\">\n",
       "      <th></th>\n",
       "      <th>mpg</th>\n",
       "      <th>cyl</th>\n",
       "      <th>disp</th>\n",
       "      <th>hp</th>\n",
       "      <th>drat</th>\n",
       "      <th>wt</th>\n",
       "      <th>qsec</th>\n",
       "      <th>vs</th>\n",
       "      <th>am</th>\n",
       "      <th>gear</th>\n",
       "      <th>carb</th>\n",
       "    </tr>\n",
       "  </thead>\n",
       "  <tbody>\n",
       "    <tr>\n",
       "      <th>0</th>\n",
       "      <td>21.0</td>\n",
       "      <td>6</td>\n",
       "      <td>160.0</td>\n",
       "      <td>110</td>\n",
       "      <td>3.90</td>\n",
       "      <td>2.620</td>\n",
       "      <td>16.46</td>\n",
       "      <td>0</td>\n",
       "      <td>1</td>\n",
       "      <td>4</td>\n",
       "      <td>4</td>\n",
       "    </tr>\n",
       "    <tr>\n",
       "      <th>1</th>\n",
       "      <td>21.0</td>\n",
       "      <td>6</td>\n",
       "      <td>160.0</td>\n",
       "      <td>110</td>\n",
       "      <td>3.90</td>\n",
       "      <td>2.875</td>\n",
       "      <td>17.02</td>\n",
       "      <td>0</td>\n",
       "      <td>1</td>\n",
       "      <td>4</td>\n",
       "      <td>4</td>\n",
       "    </tr>\n",
       "    <tr>\n",
       "      <th>2</th>\n",
       "      <td>22.8</td>\n",
       "      <td>4</td>\n",
       "      <td>108.0</td>\n",
       "      <td>93</td>\n",
       "      <td>3.85</td>\n",
       "      <td>2.320</td>\n",
       "      <td>18.61</td>\n",
       "      <td>1</td>\n",
       "      <td>1</td>\n",
       "      <td>4</td>\n",
       "      <td>1</td>\n",
       "    </tr>\n",
       "    <tr>\n",
       "      <th>3</th>\n",
       "      <td>21.4</td>\n",
       "      <td>6</td>\n",
       "      <td>258.0</td>\n",
       "      <td>110</td>\n",
       "      <td>3.08</td>\n",
       "      <td>3.215</td>\n",
       "      <td>19.44</td>\n",
       "      <td>1</td>\n",
       "      <td>0</td>\n",
       "      <td>3</td>\n",
       "      <td>1</td>\n",
       "    </tr>\n",
       "    <tr>\n",
       "      <th>4</th>\n",
       "      <td>18.7</td>\n",
       "      <td>8</td>\n",
       "      <td>360.0</td>\n",
       "      <td>175</td>\n",
       "      <td>3.15</td>\n",
       "      <td>3.440</td>\n",
       "      <td>17.02</td>\n",
       "      <td>0</td>\n",
       "      <td>0</td>\n",
       "      <td>3</td>\n",
       "      <td>2</td>\n",
       "    </tr>\n",
       "  </tbody>\n",
       "</table>\n",
       "</div>"
      ],
      "text/plain": [
       "    mpg  cyl   disp   hp  drat     wt   qsec  vs  am  gear  carb\n",
       "0  21.0    6  160.0  110  3.90  2.620  16.46   0   1     4     4\n",
       "1  21.0    6  160.0  110  3.90  2.875  17.02   0   1     4     4\n",
       "2  22.8    4  108.0   93  3.85  2.320  18.61   1   1     4     1\n",
       "3  21.4    6  258.0  110  3.08  3.215  19.44   1   0     3     1\n",
       "4  18.7    8  360.0  175  3.15  3.440  17.02   0   0     3     2"
      ]
     },
     "execution_count": 2,
     "metadata": {},
     "output_type": "execute_result"
    }
   ],
   "source": [
    "df = pd.read_csv('mtcars.csv')\n",
    "df.head()"
   ]
  },
  {
   "cell_type": "markdown",
   "id": "8a43a6ba",
   "metadata": {},
   "source": [
    "##### check size od data "
   ]
  },
  {
   "cell_type": "code",
   "execution_count": 3,
   "id": "a7bc2f14",
   "metadata": {},
   "outputs": [
    {
     "data": {
      "text/plain": [
       "(32, 11)"
      ]
     },
     "execution_count": 3,
     "metadata": {},
     "output_type": "execute_result"
    }
   ],
   "source": [
    "df.shape"
   ]
  },
  {
   "cell_type": "markdown",
   "id": "59a41559",
   "metadata": {},
   "source": [
    "##### Describe Data to check missing values\n",
    "As all columns of data frame havinf 32 non-null entries there are no any missing values"
   ]
  },
  {
   "cell_type": "code",
   "execution_count": 4,
   "id": "98611d05",
   "metadata": {},
   "outputs": [
    {
     "name": "stdout",
     "output_type": "stream",
     "text": [
      "<class 'pandas.core.frame.DataFrame'>\n",
      "RangeIndex: 32 entries, 0 to 31\n",
      "Data columns (total 11 columns):\n",
      " #   Column  Non-Null Count  Dtype  \n",
      "---  ------  --------------  -----  \n",
      " 0   mpg     32 non-null     float64\n",
      " 1   cyl     32 non-null     int64  \n",
      " 2   disp    32 non-null     float64\n",
      " 3   hp      32 non-null     int64  \n",
      " 4   drat    32 non-null     float64\n",
      " 5   wt      32 non-null     float64\n",
      " 6   qsec    32 non-null     float64\n",
      " 7   vs      32 non-null     int64  \n",
      " 8   am      32 non-null     int64  \n",
      " 9   gear    32 non-null     int64  \n",
      " 10  carb    32 non-null     int64  \n",
      "dtypes: float64(5), int64(6)\n",
      "memory usage: 2.9 KB\n"
     ]
    }
   ],
   "source": [
    "df.info()"
   ]
  },
  {
   "cell_type": "markdown",
   "id": "9028da40",
   "metadata": {},
   "source": [
    "##### Get the count of NaN values from data Frame"
   ]
  },
  {
   "cell_type": "code",
   "execution_count": 5,
   "id": "588a4803",
   "metadata": {},
   "outputs": [
    {
     "data": {
      "text/plain": [
       "mpg     0\n",
       "cyl     0\n",
       "disp    0\n",
       "hp      0\n",
       "drat    0\n",
       "wt      0\n",
       "qsec    0\n",
       "vs      0\n",
       "am      0\n",
       "gear    0\n",
       "carb    0\n",
       "dtype: int64"
      ]
     },
     "execution_count": 5,
     "metadata": {},
     "output_type": "execute_result"
    }
   ],
   "source": [
    "df.isna().sum()"
   ]
  },
  {
   "cell_type": "code",
   "execution_count": 6,
   "id": "a0f29f25",
   "metadata": {},
   "outputs": [
    {
     "data": {
      "text/plain": [
       "Index(['mpg', 'cyl', 'disp', 'hp', 'drat', 'wt', 'qsec', 'vs', 'am', 'gear',\n",
       "       'carb'],\n",
       "      dtype='object')"
      ]
     },
     "execution_count": 6,
     "metadata": {},
     "output_type": "execute_result"
    }
   ],
   "source": [
    "df.columns"
   ]
  },
  {
   "cell_type": "markdown",
   "id": "96ce7649",
   "metadata": {},
   "source": [
    "##### Here mileage per gallon (mpg) is output\n",
    "##### To select input features we go for scatter plot"
   ]
  },
  {
   "cell_type": "code",
   "execution_count": 7,
   "id": "8ee74843",
   "metadata": {},
   "outputs": [
    {
     "data": {
      "image/png": "[encoded data removed]",
      "text/plain": [
       "<Figure size 432x288 with 1 Axes>"
      ]
     },
     "metadata": {
      "needs_background": "light"
     },
     "output_type": "display_data"
    }
   ],
   "source": [
    "plt.scatter(df.mpg,df.cyl,color = 'r')     # Non linear relationship\n",
    "plt.show()"
   ]
  },
  {
   "cell_type": "code",
   "execution_count": 8,
   "id": "98ed4e4a",
   "metadata": {},
   "outputs": [
    {
     "data": {
      "image/png": "[encoded data removed]",
      "text/plain": [
       "<Figure size 432x288 with 1 Axes>"
      ]
     },
     "metadata": {
      "needs_background": "light"
     },
     "output_type": "display_data"
    }
   ],
   "source": [
    "plt.scatter(df.mpg,df.disp,color = 'b')    # Linear rerlationship\n",
    "plt.show()"
   ]
  },
  {
   "cell_type": "code",
   "execution_count": 9,
   "id": "f6a33b5f",
   "metadata": {},
   "outputs": [
    {
     "data": {
      "image/png": "[encoded data removed]",
      "text/plain": [
       "<Figure size 432x288 with 1 Axes>"
      ]
     },
     "metadata": {
      "needs_background": "light"
     },
     "output_type": "display_data"
    }
   ],
   "source": [
    "plt.scatter(df.mpg,df.hp,color = 'g')      # Linear relationship\n",
    "plt.show()"
   ]
  },
  {
   "cell_type": "code",
   "execution_count": 10,
   "id": "1cce9ee8",
   "metadata": {},
   "outputs": [
    {
     "data": {
      "image/png": "[encoded data removed]",
      "text/plain": [
       "<Figure size 432x288 with 1 Axes>"
      ]
     },
     "metadata": {
      "needs_background": "light"
     },
     "output_type": "display_data"
    }
   ],
   "source": [
    "plt.scatter(df.mpg,df.drat,color = 'm')    # linear relationship\n",
    "plt.show()"
   ]
  },
  {
   "cell_type": "code",
   "execution_count": 11,
   "id": "8b61b507",
   "metadata": {},
   "outputs": [
    {
     "data": {
      "image/png": "[encoded data removed]",
      "text/plain": [
       "<Figure size 432x288 with 1 Axes>"
      ]
     },
     "metadata": {
      "needs_background": "light"
     },
     "output_type": "display_data"
    }
   ],
   "source": [
    "plt.scatter(df.mpg,df.carb,color = 'y')    # Non linear relationship\n",
    "plt.show()"
   ]
  },
  {
   "cell_type": "code",
   "execution_count": 12,
   "id": "30f48c2d",
   "metadata": {},
   "outputs": [
    {
     "data": {
      "image/png": "[encoded data removed]",
      "text/plain": [
       "<Figure size 432x288 with 1 Axes>"
      ]
     },
     "metadata": {
      "needs_background": "light"
     },
     "output_type": "display_data"
    }
   ],
   "source": [
    "plt.scatter(df.mpg,df.qsec,color = 'r')    # Non linear relationship\n",
    "plt.show()"
   ]
  },
  {
   "cell_type": "code",
   "execution_count": 13,
   "id": "d0c44002",
   "metadata": {},
   "outputs": [
    {
     "data": {
      "image/png": "[encoded data removed]",
      "text/plain": [
       "<Figure size 432x288 with 1 Axes>"
      ]
     },
     "metadata": {
      "needs_background": "light"
     },
     "output_type": "display_data"
    }
   ],
   "source": [
    "plt.scatter(df.mpg,df.vs,color = 'b')      # Non linear relationship\n",
    "plt.show()"
   ]
  },
  {
   "cell_type": "code",
   "execution_count": 14,
   "id": "74ae59b1",
   "metadata": {},
   "outputs": [
    {
     "data": {
      "image/png": "[encoded data removed]",
      "text/plain": [
       "<Figure size 432x288 with 1 Axes>"
      ]
     },
     "metadata": {
      "needs_background": "light"
     },
     "output_type": "display_data"
    }
   ],
   "source": [
    "plt.scatter(df.mpg,df.am,color = 'g')      # Non linear relationship\n",
    "plt.show()"
   ]
  },
  {
   "cell_type": "code",
   "execution_count": 15,
   "id": "d2abe7d8",
   "metadata": {},
   "outputs": [
    {
     "data": {
      "image/png": "[encoded data removed]",
      "text/plain": [
       "<Figure size 432x288 with 1 Axes>"
      ]
     },
     "metadata": {
      "needs_background": "light"
     },
     "output_type": "display_data"
    }
   ],
   "source": [
    "plt.scatter(df.mpg,df.gear,color = 'm')    # Non Linear relationship\n",
    "plt.show()"
   ]
  },
  {
   "cell_type": "code",
   "execution_count": 16,
   "id": "174b4b68",
   "metadata": {},
   "outputs": [
    {
     "data": {
      "image/png": "[encoded data removed]",
      "text/plain": [
       "<Figure size 432x288 with 1 Axes>"
      ]
     },
     "metadata": {
      "needs_background": "light"
     },
     "output_type": "display_data"
    }
   ],
   "source": [
    "plt.scatter(df.mpg,df.wt,color = 'y')      # Linear relationship\n",
    "plt.show()"
   ]
  },
  {
   "cell_type": "markdown",
   "id": "fa7c95b6",
   "metadata": {},
   "source": [
    "##### Like scatter plot we can also use lmplot, regression plot, heat map"
   ]
  },
  {
   "cell_type": "markdown",
   "id": "7362940e",
   "metadata": {},
   "source": [
    "##### Columns disp,hp,wt are linear, Select them as input and mpg be the output"
   ]
  },
  {
   "cell_type": "code",
   "execution_count": 17,
   "id": "9b1a3db6",
   "metadata": {},
   "outputs": [
    {
     "data": {
      "text/html": [
       "<div>\n",
       "<style scoped>\n",
       "    .dataframe tbody tr th:only-of-type {\n",
       "        vertical-align: middle;\n",
       "    }\n",
       "\n",
       "    .dataframe tbody tr th {\n",
       "        vertical-align: top;\n",
       "    }\n",
       "\n",
       "    .dataframe thead th {\n",
       "        text-align: right;\n",
       "    }\n",
       "</style>\n",
       "<table border=\"1\" class=\"dataframe\">\n",
       "  <thead>\n",
       "    <tr style=\"text-align: right;\">\n",
       "      <th></th>\n",
       "      <th>disp</th>\n",
       "      <th>hp</th>\n",
       "      <th>wt</th>\n",
       "    </tr>\n",
       "  </thead>\n",
       "  <tbody>\n",
       "    <tr>\n",
       "      <th>0</th>\n",
       "      <td>160.0</td>\n",
       "      <td>110</td>\n",
       "      <td>2.620</td>\n",
       "    </tr>\n",
       "    <tr>\n",
       "      <th>1</th>\n",
       "      <td>160.0</td>\n",
       "      <td>110</td>\n",
       "      <td>2.875</td>\n",
       "    </tr>\n",
       "    <tr>\n",
       "      <th>2</th>\n",
       "      <td>108.0</td>\n",
       "      <td>93</td>\n",
       "      <td>2.320</td>\n",
       "    </tr>\n",
       "  </tbody>\n",
       "</table>\n",
       "</div>"
      ],
      "text/plain": [
       "    disp   hp     wt\n",
       "0  160.0  110  2.620\n",
       "1  160.0  110  2.875\n",
       "2  108.0   93  2.320"
      ]
     },
     "execution_count": 17,
     "metadata": {},
     "output_type": "execute_result"
    }
   ],
   "source": [
    "X = df[['disp','hp','wt']]\n",
    "X[:3]"
   ]
  },
  {
   "cell_type": "code",
   "execution_count": 18,
   "id": "72dcaa63",
   "metadata": {},
   "outputs": [
    {
     "data": {
      "text/plain": [
       "0    21.0\n",
       "1    21.0\n",
       "2    22.8\n",
       "Name: mpg, dtype: float64"
      ]
     },
     "execution_count": 18,
     "metadata": {},
     "output_type": "execute_result"
    }
   ],
   "source": [
    "y = df.mpg\n",
    "y[:3]"
   ]
  },
  {
   "cell_type": "markdown",
   "id": "a010c66f",
   "metadata": {},
   "source": [
    "##### Check for the outlayers in selected columns"
   ]
  },
  {
   "cell_type": "code",
   "execution_count": 19,
   "id": "f4cd3152",
   "metadata": {},
   "outputs": [
    {
     "data": {
      "image/png": "[encoded data removed]",
      "text/plain": [
       "<Figure size 432x288 with 1 Axes>"
      ]
     },
     "metadata": {
      "needs_background": "light"
     },
     "output_type": "display_data"
    }
   ],
   "source": [
    "plt.boxplot(y)\n",
    "plt.show()"
   ]
  },
  {
   "cell_type": "code",
   "execution_count": 20,
   "id": "58eb6eed",
   "metadata": {},
   "outputs": [],
   "source": [
    "df['mpg'] = df[y<33]['mpg']"
   ]
  },
  {
   "cell_type": "code",
   "execution_count": 21,
   "id": "703161d8",
   "metadata": {},
   "outputs": [],
   "source": [
    "df.dropna(inplace = True)"
   ]
  },
  {
   "cell_type": "code",
   "execution_count": 22,
   "id": "8861bdbe",
   "metadata": {},
   "outputs": [
    {
     "data": {
      "image/png": "[encoded data removed]",
      "text/plain": [
       "<Figure size 432x288 with 1 Axes>"
      ]
     },
     "metadata": {
      "needs_background": "light"
     },
     "output_type": "display_data"
    }
   ],
   "source": [
    "plt.boxplot(df.mpg)\n",
    "plt.show()"
   ]
  },
  {
   "cell_type": "code",
   "execution_count": 23,
   "id": "a3ce5bf4",
   "metadata": {},
   "outputs": [
    {
     "data": {
      "image/png": "[encoded data removed]",
      "text/plain": [
       "<Figure size 432x288 with 1 Axes>"
      ]
     },
     "metadata": {
      "needs_background": "light"
     },
     "output_type": "display_data"
    }
   ],
   "source": [
    "plt.boxplot(df.disp)\n",
    "plt.show()"
   ]
  },
  {
   "cell_type": "code",
   "execution_count": 24,
   "id": "d7ff1177",
   "metadata": {},
   "outputs": [
    {
     "data": {
      "image/png": "[encoded data removed]",
      "text/plain": [
       "<Figure size 432x288 with 1 Axes>"
      ]
     },
     "metadata": {
      "needs_background": "light"
     },
     "output_type": "display_data"
    }
   ],
   "source": [
    "plt.boxplot(df.hp)\n",
    "plt.show()"
   ]
  },
  {
   "cell_type": "code",
   "execution_count": 25,
   "id": "7ade9ef7",
   "metadata": {},
   "outputs": [],
   "source": [
    "df.hp = df[df.hp<300].hp"
   ]
  },
  {
   "cell_type": "code",
   "execution_count": 26,
   "id": "49500a33",
   "metadata": {},
   "outputs": [],
   "source": [
    "df.dropna(inplace = True)"
   ]
  },
  {
   "cell_type": "code",
   "execution_count": 27,
   "id": "036cac4a",
   "metadata": {},
   "outputs": [
    {
     "data": {
      "image/png": "[encoded data removed]",
      "text/plain": [
       "<Figure size 432x288 with 1 Axes>"
      ]
     },
     "metadata": {
      "needs_background": "light"
     },
     "output_type": "display_data"
    }
   ],
   "source": [
    "plt.boxplot(df.hp)\n",
    "plt.show()"
   ]
  },
  {
   "cell_type": "code",
   "execution_count": 28,
   "id": "4f85cfd0",
   "metadata": {},
   "outputs": [
    {
     "data": {
      "image/png": "[encoded data removed]",
      "text/plain": [
       "<Figure size 432x288 with 1 Axes>"
      ]
     },
     "metadata": {
      "needs_background": "light"
     },
     "output_type": "display_data"
    }
   ],
   "source": [
    "plt.boxplot(df.wt)\n",
    "plt.show()"
   ]
  },
  {
   "cell_type": "code",
   "execution_count": 29,
   "id": "61c599e1",
   "metadata": {},
   "outputs": [],
   "source": [
    "df.wt = df[df.wt<4.2].wt"
   ]
  },
  {
   "cell_type": "code",
   "execution_count": 30,
   "id": "7b5e2d25",
   "metadata": {},
   "outputs": [],
   "source": [
    "df.dropna(inplace = True)"
   ]
  },
  {
   "cell_type": "code",
   "execution_count": 31,
   "id": "8cb8f1f7",
   "metadata": {},
   "outputs": [
    {
     "data": {
      "image/png": "[encoded data removed]",
      "text/plain": [
       "<Figure size 432x288 with 1 Axes>"
      ]
     },
     "metadata": {
      "needs_background": "light"
     },
     "output_type": "display_data"
    }
   ],
   "source": [
    "plt.boxplot(df.wt)\n",
    "plt.show()"
   ]
  },
  {
   "cell_type": "code",
   "execution_count": 32,
   "id": "248dfed7",
   "metadata": {},
   "outputs": [
    {
     "data": {
      "text/html": [
       "<div>\n",
       "<style scoped>\n",
       "    .dataframe tbody tr th:only-of-type {\n",
       "        vertical-align: middle;\n",
       "    }\n",
       "\n",
       "    .dataframe tbody tr th {\n",
       "        vertical-align: top;\n",
       "    }\n",
       "\n",
       "    .dataframe thead th {\n",
       "        text-align: right;\n",
       "    }\n",
       "</style>\n",
       "<table border=\"1\" class=\"dataframe\">\n",
       "  <thead>\n",
       "    <tr style=\"text-align: right;\">\n",
       "      <th></th>\n",
       "      <th>disp</th>\n",
       "      <th>hp</th>\n",
       "      <th>wt</th>\n",
       "    </tr>\n",
       "  </thead>\n",
       "  <tbody>\n",
       "    <tr>\n",
       "      <th>0</th>\n",
       "      <td>160.0</td>\n",
       "      <td>110.0</td>\n",
       "      <td>2.620</td>\n",
       "    </tr>\n",
       "    <tr>\n",
       "      <th>1</th>\n",
       "      <td>160.0</td>\n",
       "      <td>110.0</td>\n",
       "      <td>2.875</td>\n",
       "    </tr>\n",
       "    <tr>\n",
       "      <th>2</th>\n",
       "      <td>108.0</td>\n",
       "      <td>93.0</td>\n",
       "      <td>2.320</td>\n",
       "    </tr>\n",
       "    <tr>\n",
       "      <th>3</th>\n",
       "      <td>258.0</td>\n",
       "      <td>110.0</td>\n",
       "      <td>3.215</td>\n",
       "    </tr>\n",
       "    <tr>\n",
       "      <th>4</th>\n",
       "      <td>360.0</td>\n",
       "      <td>175.0</td>\n",
       "      <td>3.440</td>\n",
       "    </tr>\n",
       "    <tr>\n",
       "      <th>5</th>\n",
       "      <td>225.0</td>\n",
       "      <td>105.0</td>\n",
       "      <td>3.460</td>\n",
       "    </tr>\n",
       "    <tr>\n",
       "      <th>6</th>\n",
       "      <td>360.0</td>\n",
       "      <td>245.0</td>\n",
       "      <td>3.570</td>\n",
       "    </tr>\n",
       "    <tr>\n",
       "      <th>7</th>\n",
       "      <td>146.7</td>\n",
       "      <td>62.0</td>\n",
       "      <td>3.190</td>\n",
       "    </tr>\n",
       "    <tr>\n",
       "      <th>8</th>\n",
       "      <td>140.8</td>\n",
       "      <td>95.0</td>\n",
       "      <td>3.150</td>\n",
       "    </tr>\n",
       "    <tr>\n",
       "      <th>9</th>\n",
       "      <td>167.6</td>\n",
       "      <td>123.0</td>\n",
       "      <td>3.440</td>\n",
       "    </tr>\n",
       "    <tr>\n",
       "      <th>10</th>\n",
       "      <td>167.6</td>\n",
       "      <td>123.0</td>\n",
       "      <td>3.440</td>\n",
       "    </tr>\n",
       "    <tr>\n",
       "      <th>11</th>\n",
       "      <td>275.8</td>\n",
       "      <td>180.0</td>\n",
       "      <td>4.070</td>\n",
       "    </tr>\n",
       "    <tr>\n",
       "      <th>12</th>\n",
       "      <td>275.8</td>\n",
       "      <td>180.0</td>\n",
       "      <td>3.730</td>\n",
       "    </tr>\n",
       "    <tr>\n",
       "      <th>13</th>\n",
       "      <td>275.8</td>\n",
       "      <td>180.0</td>\n",
       "      <td>3.780</td>\n",
       "    </tr>\n",
       "    <tr>\n",
       "      <th>17</th>\n",
       "      <td>78.7</td>\n",
       "      <td>66.0</td>\n",
       "      <td>2.200</td>\n",
       "    </tr>\n",
       "    <tr>\n",
       "      <th>18</th>\n",
       "      <td>75.7</td>\n",
       "      <td>52.0</td>\n",
       "      <td>1.615</td>\n",
       "    </tr>\n",
       "    <tr>\n",
       "      <th>20</th>\n",
       "      <td>120.1</td>\n",
       "      <td>97.0</td>\n",
       "      <td>2.465</td>\n",
       "    </tr>\n",
       "    <tr>\n",
       "      <th>21</th>\n",
       "      <td>318.0</td>\n",
       "      <td>150.0</td>\n",
       "      <td>3.520</td>\n",
       "    </tr>\n",
       "    <tr>\n",
       "      <th>22</th>\n",
       "      <td>304.0</td>\n",
       "      <td>150.0</td>\n",
       "      <td>3.435</td>\n",
       "    </tr>\n",
       "    <tr>\n",
       "      <th>23</th>\n",
       "      <td>350.0</td>\n",
       "      <td>245.0</td>\n",
       "      <td>3.840</td>\n",
       "    </tr>\n",
       "    <tr>\n",
       "      <th>24</th>\n",
       "      <td>400.0</td>\n",
       "      <td>175.0</td>\n",
       "      <td>3.845</td>\n",
       "    </tr>\n",
       "    <tr>\n",
       "      <th>25</th>\n",
       "      <td>79.0</td>\n",
       "      <td>66.0</td>\n",
       "      <td>1.935</td>\n",
       "    </tr>\n",
       "    <tr>\n",
       "      <th>26</th>\n",
       "      <td>120.3</td>\n",
       "      <td>91.0</td>\n",
       "      <td>2.140</td>\n",
       "    </tr>\n",
       "    <tr>\n",
       "      <th>27</th>\n",
       "      <td>95.1</td>\n",
       "      <td>113.0</td>\n",
       "      <td>1.513</td>\n",
       "    </tr>\n",
       "    <tr>\n",
       "      <th>28</th>\n",
       "      <td>351.0</td>\n",
       "      <td>264.0</td>\n",
       "      <td>3.170</td>\n",
       "    </tr>\n",
       "    <tr>\n",
       "      <th>29</th>\n",
       "      <td>145.0</td>\n",
       "      <td>175.0</td>\n",
       "      <td>2.770</td>\n",
       "    </tr>\n",
       "    <tr>\n",
       "      <th>31</th>\n",
       "      <td>121.0</td>\n",
       "      <td>109.0</td>\n",
       "      <td>2.780</td>\n",
       "    </tr>\n",
       "  </tbody>\n",
       "</table>\n",
       "</div>"
      ],
      "text/plain": [
       "     disp     hp     wt\n",
       "0   160.0  110.0  2.620\n",
       "1   160.0  110.0  2.875\n",
       "2   108.0   93.0  2.320\n",
       "3   258.0  110.0  3.215\n",
       "4   360.0  175.0  3.440\n",
       "5   225.0  105.0  3.460\n",
       "6   360.0  245.0  3.570\n",
       "7   146.7   62.0  3.190\n",
       "8   140.8   95.0  3.150\n",
       "9   167.6  123.0  3.440\n",
       "10  167.6  123.0  3.440\n",
       "11  275.8  180.0  4.070\n",
       "12  275.8  180.0  3.730\n",
       "13  275.8  180.0  3.780\n",
       "17   78.7   66.0  2.200\n",
       "18   75.7   52.0  1.615\n",
       "20  120.1   97.0  2.465\n",
       "21  318.0  150.0  3.520\n",
       "22  304.0  150.0  3.435\n",
       "23  350.0  245.0  3.840\n",
       "24  400.0  175.0  3.845\n",
       "25   79.0   66.0  1.935\n",
       "26  120.3   91.0  2.140\n",
       "27   95.1  113.0  1.513\n",
       "28  351.0  264.0  3.170\n",
       "29  145.0  175.0  2.770\n",
       "31  121.0  109.0  2.780"
      ]
     },
     "execution_count": 32,
     "metadata": {},
     "output_type": "execute_result"
    }
   ],
   "source": [
    "X = df[['disp','hp','wt']]\n",
    "X"
   ]
  },
  {
   "cell_type": "code",
   "execution_count": 33,
   "id": "2b67f082",
   "metadata": {},
   "outputs": [
    {
     "data": {
      "text/plain": [
       "0     21.0\n",
       "1     21.0\n",
       "2     22.8\n",
       "3     21.4\n",
       "4     18.7\n",
       "5     18.1\n",
       "6     14.3\n",
       "7     24.4\n",
       "8     22.8\n",
       "9     19.2\n",
       "10    17.8\n",
       "11    16.4\n",
       "12    17.3\n",
       "13    15.2\n",
       "17    32.4\n",
       "18    30.4\n",
       "20    21.5\n",
       "21    15.5\n",
       "22    15.2\n",
       "23    13.3\n",
       "24    19.2\n",
       "25    27.3\n",
       "26    26.0\n",
       "27    30.4\n",
       "28    15.8\n",
       "29    19.7\n",
       "31    21.4\n",
       "Name: mpg, dtype: float64"
      ]
     },
     "execution_count": 33,
     "metadata": {},
     "output_type": "execute_result"
    }
   ],
   "source": [
    "y = df.mpg\n",
    "y"
   ]
  },
  {
   "cell_type": "code",
   "execution_count": 34,
   "id": "3824b081",
   "metadata": {},
   "outputs": [],
   "source": [
    "model = LinearRegression()"
   ]
  },
  {
   "cell_type": "code",
   "execution_count": 35,
   "id": "b58a0827",
   "metadata": {},
   "outputs": [
    {
     "data": {
      "text/plain": [
       "LinearRegression()"
      ]
     },
     "execution_count": 35,
     "metadata": {},
     "output_type": "execute_result"
    }
   ],
   "source": [
    "model"
   ]
  },
  {
   "cell_type": "code",
   "execution_count": 53,
   "id": "5ec192c0",
   "metadata": {},
   "outputs": [],
   "source": [
    "X_train,X_test,y_train,y_test = train_test_split(X,y,train_size = 0.8,shuffle = False)"
   ]
  },
  {
   "cell_type": "code",
   "execution_count": 54,
   "id": "d2f65d99",
   "metadata": {},
   "outputs": [
    {
     "data": {
      "text/plain": [
       "(27, 3)"
      ]
     },
     "execution_count": 54,
     "metadata": {},
     "output_type": "execute_result"
    }
   ],
   "source": [
    "X.shape"
   ]
  },
  {
   "cell_type": "code",
   "execution_count": 55,
   "id": "50363180",
   "metadata": {},
   "outputs": [
    {
     "data": {
      "text/plain": [
       "(27,)"
      ]
     },
     "execution_count": 55,
     "metadata": {},
     "output_type": "execute_result"
    }
   ],
   "source": [
    "y.shape"
   ]
  },
  {
   "cell_type": "code",
   "execution_count": 56,
   "id": "fbf21bb0",
   "metadata": {},
   "outputs": [
    {
     "data": {
      "text/plain": [
       "(21, 3)"
      ]
     },
     "execution_count": 56,
     "metadata": {},
     "output_type": "execute_result"
    }
   ],
   "source": [
    "X_train.shape"
   ]
  },
  {
   "cell_type": "code",
   "execution_count": 57,
   "id": "c617177b",
   "metadata": {},
   "outputs": [
    {
     "data": {
      "text/plain": [
       "(6, 3)"
      ]
     },
     "execution_count": 57,
     "metadata": {},
     "output_type": "execute_result"
    }
   ],
   "source": [
    "X_test.shape"
   ]
  },
  {
   "cell_type": "code",
   "execution_count": 58,
   "id": "bc7a5259",
   "metadata": {},
   "outputs": [
    {
     "data": {
      "text/plain": [
       "(21,)"
      ]
     },
     "execution_count": 58,
     "metadata": {},
     "output_type": "execute_result"
    }
   ],
   "source": [
    "y_train.shape"
   ]
  },
  {
   "cell_type": "code",
   "execution_count": 59,
   "id": "d8620de7",
   "metadata": {},
   "outputs": [
    {
     "data": {
      "text/plain": [
       "(6,)"
      ]
     },
     "execution_count": 59,
     "metadata": {},
     "output_type": "execute_result"
    }
   ],
   "source": [
    "y_test.shape"
   ]
  },
  {
   "cell_type": "code",
   "execution_count": 60,
   "id": "ae5735cc",
   "metadata": {},
   "outputs": [
    {
     "data": {
      "text/html": [
       "<div>\n",
       "<style scoped>\n",
       "    .dataframe tbody tr th:only-of-type {\n",
       "        vertical-align: middle;\n",
       "    }\n",
       "\n",
       "    .dataframe tbody tr th {\n",
       "        vertical-align: top;\n",
       "    }\n",
       "\n",
       "    .dataframe thead th {\n",
       "        text-align: right;\n",
       "    }\n",
       "</style>\n",
       "<table border=\"1\" class=\"dataframe\">\n",
       "  <thead>\n",
       "    <tr style=\"text-align: right;\">\n",
       "      <th></th>\n",
       "      <th>disp</th>\n",
       "      <th>hp</th>\n",
       "      <th>wt</th>\n",
       "    </tr>\n",
       "  </thead>\n",
       "  <tbody>\n",
       "    <tr>\n",
       "      <th>0</th>\n",
       "      <td>160.0</td>\n",
       "      <td>110.0</td>\n",
       "      <td>2.620</td>\n",
       "    </tr>\n",
       "    <tr>\n",
       "      <th>1</th>\n",
       "      <td>160.0</td>\n",
       "      <td>110.0</td>\n",
       "      <td>2.875</td>\n",
       "    </tr>\n",
       "    <tr>\n",
       "      <th>2</th>\n",
       "      <td>108.0</td>\n",
       "      <td>93.0</td>\n",
       "      <td>2.320</td>\n",
       "    </tr>\n",
       "  </tbody>\n",
       "</table>\n",
       "</div>"
      ],
      "text/plain": [
       "    disp     hp     wt\n",
       "0  160.0  110.0  2.620\n",
       "1  160.0  110.0  2.875\n",
       "2  108.0   93.0  2.320"
      ]
     },
     "execution_count": 60,
     "metadata": {},
     "output_type": "execute_result"
    }
   ],
   "source": [
    "X_train[:3]"
   ]
  },
  {
   "cell_type": "code",
   "execution_count": 61,
   "id": "a2bbd19f",
   "metadata": {},
   "outputs": [
    {
     "data": {
      "text/plain": [
       "0    21.0\n",
       "1    21.0\n",
       "2    22.8\n",
       "Name: mpg, dtype: float64"
      ]
     },
     "execution_count": 61,
     "metadata": {},
     "output_type": "execute_result"
    }
   ],
   "source": [
    "y_train[:3]"
   ]
  },
  {
   "cell_type": "markdown",
   "id": "51e445dc",
   "metadata": {},
   "source": [
    "##### Training / fitting of model"
   ]
  },
  {
   "cell_type": "code",
   "execution_count": 62,
   "id": "8e003d7d",
   "metadata": {},
   "outputs": [
    {
     "data": {
      "text/plain": [
       "LinearRegression()"
      ]
     },
     "execution_count": 62,
     "metadata": {},
     "output_type": "execute_result"
    }
   ],
   "source": [
    "model.fit(X_train,y_train)"
   ]
  },
  {
   "cell_type": "code",
   "execution_count": 63,
   "id": "10e762ab",
   "metadata": {},
   "outputs": [
    {
     "data": {
      "text/plain": [
       "array([ 0.00425278, -0.04627533, -4.01237155])"
      ]
     },
     "execution_count": 63,
     "metadata": {},
     "output_type": "execute_result"
    }
   ],
   "source": [
    "model.coef_"
   ]
  },
  {
   "cell_type": "code",
   "execution_count": 64,
   "id": "5b2621be",
   "metadata": {},
   "outputs": [
    {
     "data": {
      "text/plain": [
       "38.013344694365685"
      ]
     },
     "execution_count": 64,
     "metadata": {},
     "output_type": "execute_result"
    }
   ],
   "source": [
    "model.intercept_"
   ]
  },
  {
   "cell_type": "markdown",
   "id": "257bdb81",
   "metadata": {},
   "source": [
    "##### Prediction / Testing of model"
   ]
  },
  {
   "cell_type": "code",
   "execution_count": 65,
   "id": "d0c8dce0",
   "metadata": {},
   "outputs": [
    {
     "data": {
      "text/plain": [
       "array([27.53120392, 25.72742446, 27.11795412, 14.57016693, 19.41754661,\n",
       "       22.32952773])"
      ]
     },
     "execution_count": 65,
     "metadata": {},
     "output_type": "execute_result"
    }
   ],
   "source": [
    "model.predict(X_test)"
   ]
  },
  {
   "cell_type": "markdown",
   "id": "b697bb0d",
   "metadata": {},
   "source": [
    "##### Accuracy / Score checking"
   ]
  },
  {
   "cell_type": "code",
   "execution_count": 66,
   "id": "64cc8017",
   "metadata": {},
   "outputs": [
    {
     "data": {
      "text/plain": [
       "90.877969503706"
      ]
     },
     "execution_count": 66,
     "metadata": {},
     "output_type": "execute_result"
    }
   ],
   "source": [
    "model.score(X_test,y_test) * 100"
   ]
  },
  {
   "cell_type": "code",
   "execution_count": 67,
   "id": "944ee72a",
   "metadata": {},
   "outputs": [
    {
     "data": {
      "text/plain": [
       "79.35733926926291"
      ]
     },
     "execution_count": 67,
     "metadata": {},
     "output_type": "execute_result"
    }
   ],
   "source": [
    "model.score(X_train,y_train) * 100"
   ]
  },
  {
   "cell_type": "code",
   "execution_count": 68,
   "id": "92919426",
   "metadata": {},
   "outputs": [
    {
     "data": {
      "text/plain": [
       "83.58775074896072"
      ]
     },
     "execution_count": 68,
     "metadata": {},
     "output_type": "execute_result"
    }
   ],
   "source": [
    "model.score(X,y) * 100"
   ]
  },
  {
   "cell_type": "raw",
   "id": "c7067ed1",
   "metadata": {},
   "source": [
    "From above we conclude that accuracy of trainning data is 79.35 , whole data is 83.58, and testing data is 90.87. Accuracy oftesting data is too low."
   ]
  },
  {
   "cell_type": "code",
   "execution_count": 80,
   "id": "7db082a8",
   "metadata": {},
   "outputs": [
    {
     "data": {
      "text/plain": [
       "<AxesSubplot:xlabel='wt', ylabel='mpg'>"
      ]
     },
     "execution_count": 80,
     "metadata": {},
     "output_type": "execute_result"
    },
    {
     "data": {
      "image/png": "[encoded data removed]",
      "text/plain": [
       "<Figure size 432x288 with 1 Axes>"
      ]
     },
     "metadata": {
      "needs_background": "light"
     },
     "output_type": "display_data"
    }
   ],
   "source": [
    "sns.regplot(x = 'disp',y = 'mpg',data = df)\n",
    "sns.regplot(x = 'hp',y = 'mpg',data = df)\n",
    "sns.regplot(x = 'wt',y = 'mpg',data = df)"
   ]
  },
  {
   "cell_type": "raw",
   "id": "267d62dd",
   "metadata": {},
   "source": [
    "As few points are apart from the range of regression line, it degrades accuracy of the model "
   ]
  },
  {
   "cell_type": "markdown",
   "id": "07a387f1",
   "metadata": {},
   "source": [
    "##### Use heat map to check correlation of columns"
   ]
  },
  {
   "cell_type": "code",
   "execution_count": 81,
   "id": "6b4e2a05",
   "metadata": {},
   "outputs": [
    {
     "data": {
      "text/html": [
       "<div>\n",
       "<style scoped>\n",
       "    .dataframe tbody tr th:only-of-type {\n",
       "        vertical-align: middle;\n",
       "    }\n",
       "\n",
       "    .dataframe tbody tr th {\n",
       "        vertical-align: top;\n",
       "    }\n",
       "\n",
       "    .dataframe thead th {\n",
       "        text-align: right;\n",
       "    }\n",
       "</style>\n",
       "<table border=\"1\" class=\"dataframe\">\n",
       "  <thead>\n",
       "    <tr style=\"text-align: right;\">\n",
       "      <th></th>\n",
       "      <th>mpg</th>\n",
       "      <th>cyl</th>\n",
       "      <th>disp</th>\n",
       "      <th>hp</th>\n",
       "      <th>drat</th>\n",
       "      <th>wt</th>\n",
       "      <th>qsec</th>\n",
       "      <th>vs</th>\n",
       "      <th>am</th>\n",
       "      <th>gear</th>\n",
       "      <th>carb</th>\n",
       "    </tr>\n",
       "  </thead>\n",
       "  <tbody>\n",
       "    <tr>\n",
       "      <th>mpg</th>\n",
       "      <td>1.000000</td>\n",
       "      <td>-0.842765</td>\n",
       "      <td>-0.799687</td>\n",
       "      <td>-0.786945</td>\n",
       "      <td>0.619219</td>\n",
       "      <td>-0.868308</td>\n",
       "      <td>0.387134</td>\n",
       "      <td>0.604139</td>\n",
       "      <td>0.609410</td>\n",
       "      <td>0.531501</td>\n",
       "      <td>-0.465334</td>\n",
       "    </tr>\n",
       "    <tr>\n",
       "      <th>cyl</th>\n",
       "      <td>-0.842765</td>\n",
       "      <td>1.000000</td>\n",
       "      <td>0.926194</td>\n",
       "      <td>0.844293</td>\n",
       "      <td>-0.657541</td>\n",
       "      <td>0.810085</td>\n",
       "      <td>-0.576481</td>\n",
       "      <td>-0.775128</td>\n",
       "      <td>-0.525487</td>\n",
       "      <td>-0.545112</td>\n",
       "      <td>0.434947</td>\n",
       "    </tr>\n",
       "    <tr>\n",
       "      <th>disp</th>\n",
       "      <td>-0.799687</td>\n",
       "      <td>0.926194</td>\n",
       "      <td>1.000000</td>\n",
       "      <td>0.832842</td>\n",
       "      <td>-0.663349</td>\n",
       "      <td>0.804870</td>\n",
       "      <td>-0.480840</td>\n",
       "      <td>-0.680334</td>\n",
       "      <td>-0.596644</td>\n",
       "      <td>-0.585514</td>\n",
       "      <td>0.237757</td>\n",
       "    </tr>\n",
       "    <tr>\n",
       "      <th>hp</th>\n",
       "      <td>-0.786945</td>\n",
       "      <td>0.844293</td>\n",
       "      <td>0.832842</td>\n",
       "      <td>1.000000</td>\n",
       "      <td>-0.408495</td>\n",
       "      <td>0.647321</td>\n",
       "      <td>-0.697852</td>\n",
       "      <td>-0.714615</td>\n",
       "      <td>-0.316740</td>\n",
       "      <td>-0.250382</td>\n",
       "      <td>0.574488</td>\n",
       "    </tr>\n",
       "    <tr>\n",
       "      <th>drat</th>\n",
       "      <td>0.619219</td>\n",
       "      <td>-0.657541</td>\n",
       "      <td>-0.663349</td>\n",
       "      <td>-0.408495</td>\n",
       "      <td>1.000000</td>\n",
       "      <td>-0.708714</td>\n",
       "      <td>0.043538</td>\n",
       "      <td>0.357790</td>\n",
       "      <td>0.700331</td>\n",
       "      <td>0.722052</td>\n",
       "      <td>0.065650</td>\n",
       "    </tr>\n",
       "    <tr>\n",
       "      <th>wt</th>\n",
       "      <td>-0.868308</td>\n",
       "      <td>0.810085</td>\n",
       "      <td>0.804870</td>\n",
       "      <td>0.647321</td>\n",
       "      <td>-0.708714</td>\n",
       "      <td>1.000000</td>\n",
       "      <td>-0.135265</td>\n",
       "      <td>-0.482949</td>\n",
       "      <td>-0.788723</td>\n",
       "      <td>-0.646149</td>\n",
       "      <td>0.318056</td>\n",
       "    </tr>\n",
       "    <tr>\n",
       "      <th>qsec</th>\n",
       "      <td>0.387134</td>\n",
       "      <td>-0.576481</td>\n",
       "      <td>-0.480840</td>\n",
       "      <td>-0.697852</td>\n",
       "      <td>0.043538</td>\n",
       "      <td>-0.135265</td>\n",
       "      <td>1.000000</td>\n",
       "      <td>0.756835</td>\n",
       "      <td>-0.246974</td>\n",
       "      <td>-0.157242</td>\n",
       "      <td>-0.610275</td>\n",
       "    </tr>\n",
       "    <tr>\n",
       "      <th>vs</th>\n",
       "      <td>0.604139</td>\n",
       "      <td>-0.775128</td>\n",
       "      <td>-0.680334</td>\n",
       "      <td>-0.714615</td>\n",
       "      <td>0.357790</td>\n",
       "      <td>-0.482949</td>\n",
       "      <td>0.756835</td>\n",
       "      <td>1.000000</td>\n",
       "      <td>0.106160</td>\n",
       "      <td>0.193201</td>\n",
       "      <td>-0.531484</td>\n",
       "    </tr>\n",
       "    <tr>\n",
       "      <th>am</th>\n",
       "      <td>0.609410</td>\n",
       "      <td>-0.525487</td>\n",
       "      <td>-0.596644</td>\n",
       "      <td>-0.316740</td>\n",
       "      <td>0.700331</td>\n",
       "      <td>-0.788723</td>\n",
       "      <td>-0.246974</td>\n",
       "      <td>0.106160</td>\n",
       "      <td>1.000000</td>\n",
       "      <td>0.770151</td>\n",
       "      <td>0.052093</td>\n",
       "    </tr>\n",
       "    <tr>\n",
       "      <th>gear</th>\n",
       "      <td>0.531501</td>\n",
       "      <td>-0.545112</td>\n",
       "      <td>-0.585514</td>\n",
       "      <td>-0.250382</td>\n",
       "      <td>0.722052</td>\n",
       "      <td>-0.646149</td>\n",
       "      <td>-0.157242</td>\n",
       "      <td>0.193201</td>\n",
       "      <td>0.770151</td>\n",
       "      <td>1.000000</td>\n",
       "      <td>0.261187</td>\n",
       "    </tr>\n",
       "    <tr>\n",
       "      <th>carb</th>\n",
       "      <td>-0.465334</td>\n",
       "      <td>0.434947</td>\n",
       "      <td>0.237757</td>\n",
       "      <td>0.574488</td>\n",
       "      <td>0.065650</td>\n",
       "      <td>0.318056</td>\n",
       "      <td>-0.610275</td>\n",
       "      <td>-0.531484</td>\n",
       "      <td>0.052093</td>\n",
       "      <td>0.261187</td>\n",
       "      <td>1.000000</td>\n",
       "    </tr>\n",
       "  </tbody>\n",
       "</table>\n",
       "</div>"
      ],
      "text/plain": [
       "           mpg       cyl      disp        hp      drat        wt      qsec  \\\n",
       "mpg   1.000000 -0.842765 -0.799687 -0.786945  0.619219 -0.868308  0.387134   \n",
       "cyl  -0.842765  1.000000  0.926194  0.844293 -0.657541  0.810085 -0.576481   \n",
       "disp -0.799687  0.926194  1.000000  0.832842 -0.663349  0.804870 -0.480840   \n",
       "hp   -0.786945  0.844293  0.832842  1.000000 -0.408495  0.647321 -0.697852   \n",
       "drat  0.619219 -0.657541 -0.663349 -0.408495  1.000000 -0.708714  0.043538   \n",
       "wt   -0.868308  0.810085  0.804870  0.647321 -0.708714  1.000000 -0.135265   \n",
       "qsec  0.387134 -0.576481 -0.480840 -0.697852  0.043538 -0.135265  1.000000   \n",
       "vs    0.604139 -0.775128 -0.680334 -0.714615  0.357790 -0.482949  0.756835   \n",
       "am    0.609410 -0.525487 -0.596644 -0.316740  0.700331 -0.788723 -0.246974   \n",
       "gear  0.531501 -0.545112 -0.585514 -0.250382  0.722052 -0.646149 -0.157242   \n",
       "carb -0.465334  0.434947  0.237757  0.574488  0.065650  0.318056 -0.610275   \n",
       "\n",
       "            vs        am      gear      carb  \n",
       "mpg   0.604139  0.609410  0.531501 -0.465334  \n",
       "cyl  -0.775128 -0.525487 -0.545112  0.434947  \n",
       "disp -0.680334 -0.596644 -0.585514  0.237757  \n",
       "hp   -0.714615 -0.316740 -0.250382  0.574488  \n",
       "drat  0.357790  0.700331  0.722052  0.065650  \n",
       "wt   -0.482949 -0.788723 -0.646149  0.318056  \n",
       "qsec  0.756835 -0.246974 -0.157242 -0.610275  \n",
       "vs    1.000000  0.106160  0.193201 -0.531484  \n",
       "am    0.106160  1.000000  0.770151  0.052093  \n",
       "gear  0.193201  0.770151  1.000000  0.261187  \n",
       "carb -0.531484  0.052093  0.261187  1.000000  "
      ]
     },
     "execution_count": 81,
     "metadata": {},
     "output_type": "execute_result"
    }
   ],
   "source": [
    "df.corr()"
   ]
  },
  {
   "cell_type": "code",
   "execution_count": 82,
   "id": "13de5a48",
   "metadata": {},
   "outputs": [
    {
     "data": {
      "text/plain": [
       "<AxesSubplot:>"
      ]
     },
     "execution_count": 82,
     "metadata": {},
     "output_type": "execute_result"
    },
    {
     "data": {
      "image/png": "[encoded data removed]",
      "text/plain": [
       "<Figure size 720x576 with 2 Axes>"
      ]
     },
     "metadata": {
      "needs_background": "light"
     },
     "output_type": "display_data"
    }
   ],
   "source": [
    "plt.figure(figsize = (10,8))\n",
    "sns.heatmap(df.corr(),annot = True)"
   ]
  },
  {
   "cell_type": "raw",
   "id": "0fc74319",
   "metadata": {},
   "source": [
    "Heatmap provides visualization of correlation of milage per gallon feature with other features. Features with good correlation are selected as input features"
   ]
  },
  {
   "cell_type": "code",
   "execution_count": 87,
   "id": "070e7680",
   "metadata": {},
   "outputs": [],
   "source": [
    "X = df[['drat','vs','am']]"
   ]
  },
  {
   "cell_type": "code",
   "execution_count": 88,
   "id": "1048e03f",
   "metadata": {},
   "outputs": [],
   "source": [
    "y = df.mpg"
   ]
  },
  {
   "cell_type": "code",
   "execution_count": 104,
   "id": "345629f2",
   "metadata": {},
   "outputs": [],
   "source": [
    "X_train,X_test,y_train,y_test = train_test_split(X,y,train_size = 0.8)"
   ]
  },
  {
   "cell_type": "code",
   "execution_count": 105,
   "id": "8fe235b6",
   "metadata": {},
   "outputs": [
    {
     "data": {
      "text/plain": [
       "LinearRegression()"
      ]
     },
     "execution_count": 105,
     "metadata": {},
     "output_type": "execute_result"
    }
   ],
   "source": [
    "model.fit(X_train,y_train)"
   ]
  },
  {
   "cell_type": "code",
   "execution_count": 106,
   "id": "fe9f003d",
   "metadata": {},
   "outputs": [
    {
     "data": {
      "text/plain": [
       "array([15.42872979, 15.42872979, 15.48101735, 21.10056827, 27.02049423,\n",
       "       15.86010215])"
      ]
     },
     "execution_count": 106,
     "metadata": {},
     "output_type": "execute_result"
    }
   ],
   "source": [
    "model.predict(X_test)"
   ]
  },
  {
   "cell_type": "code",
   "execution_count": 107,
   "id": "6804122b",
   "metadata": {},
   "outputs": [
    {
     "data": {
      "text/plain": [
       "60.77031426417684"
      ]
     },
     "execution_count": 107,
     "metadata": {},
     "output_type": "execute_result"
    }
   ],
   "source": [
    "model.score(X_train,y_train) * 100"
   ]
  },
  {
   "cell_type": "code",
   "execution_count": 108,
   "id": "3e149498",
   "metadata": {},
   "outputs": [
    {
     "data": {
      "text/plain": [
       "81.3129139256639"
      ]
     },
     "execution_count": 108,
     "metadata": {},
     "output_type": "execute_result"
    }
   ],
   "source": [
    "model.score(X_test,y_test) * 100"
   ]
  },
  {
   "cell_type": "code",
   "execution_count": 109,
   "id": "86fb5011",
   "metadata": {},
   "outputs": [
    {
     "data": {
      "text/plain": [
       "66.59396222582214"
      ]
     },
     "execution_count": 109,
     "metadata": {},
     "output_type": "execute_result"
    }
   ],
   "source": [
    "model.score(X,y) * 100"
   ]
  },
  {
   "cell_type": "markdown",
   "id": "b483626d",
   "metadata": {},
   "source": [
    "##### From above analysis we conclude that features selected by linear data distribution gives better accuracy"
   ]
  }
 ],
 "metadata": {
  "kernelspec": {
   "display_name": "Python 3",
   "language": "python",
   "name": "python3"
  },
  "language_info": {
   "codemirror_mode": {
    "name": "ipython",
    "version": 3
   },
   "file_extension": ".py",
   "mimetype": "text/x-python",
   "name": "python",
   "nbconvert_exporter": "python",
   "pygments_lexer": "ipython3",
   "version": "3.8.8"
  }
 },
 "nbformat": 4,
 "nbformat_minor": 5
}
