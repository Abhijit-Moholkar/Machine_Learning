{
 "cells": [
  {
   "cell_type": "markdown",
   "metadata": {
    "id": "_LnDxMPngMsx"
   },
   "source": [
    "# KNN- K nearest Neighbors"
   ]
  },
  {
   "cell_type": "raw",
   "metadata": {
    "id": "ta0z9FlagMs5"
   },
   "source": [
    "Supervised machine learning algorithm used to solve both regression and classification problems, but mostly it is used for the Classification problems.     \n",
    "K-NN is a non-parametric algorithm, which means it does not make any assumption on input data.   \n",
    "It is also called a lazy learner algorithm as it performs action on training data at the time of classifiction. It does not learn from the training set instately instead it stores the dataset.     \n",
    "KNN algorithm at the training phase just stores the dataset and when it gets new data, then it classifies that data into a category that is much similar to the new data.     \n",
    "\n",
    "Steps of algorithm:\n",
    "\n",
    "Step-1: Select the number K of the neighbors\n",
    "Step-2: Find the Euclidean distance of K number of neighbors\n",
    "Step-3: Select the K nearest neighbors as per the calculated Euclidean distance.\n",
    "Step-4: Among these k neighbors, count the number of the data points in all category.\n",
    "Step-5: Assign the new data points to that category for which the count of the neighbor is maximum.\n",
    "Step-6: Our model is ready.\n",
    "\n",
    "There is no particular technique to determine the best value for \"K\", so we need to try some values to find the best out of them. The most preferred value for K is 5.\n",
    "A very low value for K such as K=1 or K=2, can be noisy and lead to the effects of outliers in the model.\n",
    "\n",
    "\n",
    "Algorithm assumes that similar things exist in close proximity, so it is based on distance between the two point."
   ]
  },
  {
   "cell_type": "markdown",
   "metadata": {},
   "source": [
    "##### Import required libraries"
   ]
  },
  {
   "cell_type": "code",
   "execution_count": 1,
   "metadata": {},
   "outputs": [],
   "source": [
    "import numpy as np\n",
    "\n",
    "from sklearn.neighbors import KNeighborsClassifier\n",
    "from scipy.spatial import distance"
   ]
  },
  {
   "cell_type": "markdown",
   "metadata": {},
   "source": [
    "##### Initialize inputs"
   ]
  },
  {
   "cell_type": "code",
   "execution_count": 2,
   "metadata": {
    "id": "wMV1hw-CgMs7"
   },
   "outputs": [],
   "source": [
    "# Features:[Sweetness and Crunchiness]\n",
    "\n",
    "X = [[10,9],[1,4],[10,1],[7,10],[3,10],[1,1],[5,10]]"
   ]
  },
  {
   "cell_type": "code",
   "execution_count": 3,
   "metadata": {
    "id": "WYVuGc-LgMs-"
   },
   "outputs": [],
   "source": [
    "# Target: [Fruit, Protine, Vegitable]\n",
    "\n",
    "y = ['fruit','protein','fruit','vegetable','vegetable','protein','vegetable']"
   ]
  },
  {
   "cell_type": "code",
   "execution_count": 4,
   "metadata": {
    "id": "Q6ANelsqgMs_",
    "outputId": "aec411ed-9bc3-4333-8bb1-f372f9ada7e0"
   },
   "outputs": [
    {
     "data": {
      "text/plain": [
       "array(['fruit', 'protein', 'vegetable'], dtype='<U9')"
      ]
     },
     "execution_count": 4,
     "metadata": {},
     "output_type": "execute_result"
    }
   ],
   "source": [
    "# Get categories of target\n",
    "\n",
    "np.unique(y)"
   ]
  },
  {
   "cell_type": "code",
   "execution_count": 5,
   "metadata": {
    "id": "CkNkihSegMtC"
   },
   "outputs": [],
   "source": [
    "# Create object of KNeibhborsClassifier\n",
    "\n",
    "knn = KNeighborsClassifier(n_neighbors=3,metric='euclidean')"
   ]
  },
  {
   "cell_type": "code",
   "execution_count": 6,
   "metadata": {
    "id": "fR9OesfpgMtE",
    "outputId": "9d4bd957-a492-4b06-ee59-7affe73bc0a5"
   },
   "outputs": [
    {
     "data": {
      "text/plain": [
       "KNeighborsClassifier(metric='euclidean', n_neighbors=3)"
      ]
     },
     "execution_count": 6,
     "metadata": {},
     "output_type": "execute_result"
    }
   ],
   "source": [
    "# Trin model\n",
    "\n",
    "knn.fit(X,y)"
   ]
  },
  {
   "cell_type": "code",
   "execution_count": 7,
   "metadata": {
    "id": "aLRNfDW0gMtG",
    "outputId": "3f2969bc-7b6b-4e0f-a2c5-46d8ec3c9a18"
   },
   "outputs": [
    {
     "data": {
      "text/plain": [
       "[[2, 7]]"
      ]
     },
     "execution_count": 7,
     "metadata": {},
     "output_type": "execute_result"
    }
   ],
   "source": [
    "# Take new data\n",
    "\n",
    "tomato = [[2,7]]\n",
    "tomato"
   ]
  },
  {
   "cell_type": "code",
   "execution_count": 8,
   "metadata": {
    "id": "McjcNJBHgMtI",
    "outputId": "37875614-75c2-485a-e51a-16713b57ffe7"
   },
   "outputs": [
    {
     "data": {
      "text/plain": [
       "array(['vegetable'], dtype='<U9')"
      ]
     },
     "execution_count": 8,
     "metadata": {},
     "output_type": "execute_result"
    }
   ],
   "source": [
    "# Get prediction of model on new data\n",
    "\n",
    "knn.predict(tomato)"
   ]
  },
  {
   "cell_type": "code",
   "execution_count": 9,
   "metadata": {
    "id": "tCOchkoqgMtJ",
    "outputId": "f655a0fb-fb11-41bb-9fad-72ac19c91925"
   },
   "outputs": [
    {
     "data": {
      "text/plain": [
       "[[10, 2]]"
      ]
     },
     "execution_count": 9,
     "metadata": {},
     "output_type": "execute_result"
    }
   ],
   "source": [
    "# Take new data\n",
    "\n",
    "kiwi = [[10,2]]\n",
    "kiwi"
   ]
  },
  {
   "cell_type": "code",
   "execution_count": 10,
   "metadata": {
    "id": "520XjWR5gMtK",
    "outputId": "7cfd588f-0609-4c23-ec6e-3a7bd38288cf"
   },
   "outputs": [
    {
     "data": {
      "text/plain": [
       "array(['fruit'], dtype='<U9')"
      ]
     },
     "execution_count": 10,
     "metadata": {},
     "output_type": "execute_result"
    }
   ],
   "source": [
    "# Get prediction of model on new data\n",
    "\n",
    "knn.predict(kiwi)"
   ]
  },
  {
   "cell_type": "code",
   "execution_count": 11,
   "metadata": {
    "id": "6lQI7NLGgMtK",
    "outputId": "1cf9d8b3-4f80-43b9-c949-c13529155d5e"
   },
   "outputs": [
    {
     "data": {
      "text/plain": [
       "array([[0.66666667, 0.        , 0.33333333]])"
      ]
     },
     "execution_count": 11,
     "metadata": {},
     "output_type": "execute_result"
    }
   ],
   "source": [
    "# Get prediction probability of new data fro all target categories\n",
    "\n",
    "knn.predict_proba(kiwi)"
   ]
  },
  {
   "cell_type": "code",
   "execution_count": 12,
   "metadata": {
    "id": "tssIw4w7gMtL",
    "outputId": "bae98c29-3fa1-49f1-8444-dacaf76aa102"
   },
   "outputs": [
    {
     "data": {
      "text/plain": [
       "array(['fruit', 'protein', 'vegetable'], dtype='<U9')"
      ]
     },
     "execution_count": 12,
     "metadata": {},
     "output_type": "execute_result"
    }
   ],
   "source": [
    "# Check unique categories of target\n",
    "\n",
    "np.unique(y)"
   ]
  },
  {
   "cell_type": "raw",
   "metadata": {},
   "source": [
    "It indicate that probability of new data to be fruit is 0.66666667, to be protein is 0.0, and to be vegetable is 0.333333333. As probability to be fruit is large, insrt new data in fruit."
   ]
  },
  {
   "cell_type": "raw",
   "metadata": {},
   "source": [
    "K-NN is classifying new point in one of the class based on distance. It may be euclidean distance or hamming distance"
   ]
  },
  {
   "cell_type": "code",
   "execution_count": 13,
   "metadata": {
    "id": "dw2P0W8ygMtM"
   },
   "outputs": [],
   "source": [
    "# Initialize new data points\n",
    "\n",
    "p1 = [5,4]\n",
    "p2 = [10,6]"
   ]
  },
  {
   "cell_type": "code",
   "execution_count": 14,
   "metadata": {
    "id": "RAw0lfwngMtM",
    "outputId": "948eaa9b-79bb-49cf-ce55-ce8d86f5a3ff"
   },
   "outputs": [
    {
     "data": {
      "text/plain": [
       "([5, 4], [10, 6])"
      ]
     },
     "execution_count": 14,
     "metadata": {},
     "output_type": "execute_result"
    }
   ],
   "source": [
    "p1,p2"
   ]
  },
  {
   "cell_type": "code",
   "execution_count": 15,
   "metadata": {
    "id": "8CsQHVt9gMtN",
    "outputId": "6f72c7a8-0771-4d39-d8af-c676f3797757"
   },
   "outputs": [
    {
     "data": {
      "text/plain": [
       "5.385164807134504"
      ]
     },
     "execution_count": 15,
     "metadata": {},
     "output_type": "execute_result"
    }
   ],
   "source": [
    "distance.euclidean(p1,p2)"
   ]
  },
  {
   "cell_type": "code",
   "execution_count": 16,
   "metadata": {
    "id": "V8_vQ9QKgMtN",
    "outputId": "c572f835-98d9-4fea-ba33-ddd173a5f20b"
   },
   "outputs": [
    {
     "data": {
      "text/plain": [
       "1.0"
      ]
     },
     "execution_count": 16,
     "metadata": {},
     "output_type": "execute_result"
    }
   ],
   "source": [
    "distance.hamming(p1,p2)"
   ]
  },
  {
   "cell_type": "raw",
   "metadata": {},
   "source": [
    "KNN is to assign the new data points to that category for which the count of the neighbor is maximum."
   ]
  }
 ],
 "metadata": {
  "colab": {
   "name": "M_kNN.ipynb",
   "provenance": []
  },
  "kernelspec": {
   "display_name": "Python 3",
   "language": "python",
   "name": "python3"
  },
  "language_info": {
   "codemirror_mode": {
    "name": "ipython",
    "version": 3
   },
   "file_extension": ".py",
   "mimetype": "text/x-python",
   "name": "python",
   "nbconvert_exporter": "python",
   "pygments_lexer": "ipython3",
   "version": "3.8.8"
  }
 },
 "nbformat": 4,
 "nbformat_minor": 1
}
