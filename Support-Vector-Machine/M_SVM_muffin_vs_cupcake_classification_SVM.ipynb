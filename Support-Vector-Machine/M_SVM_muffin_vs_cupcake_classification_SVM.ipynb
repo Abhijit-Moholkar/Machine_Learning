{
 "cells": [
  {
   "cell_type": "markdown",
   "metadata": {},
   "source": [
    "# Support vector machine\n",
    "- It is used for regression as well as classification, primarily for classification.\n",
    "- The goal of the SVM algorithm is to create the best line or decision boundary that can segregate n-dimensional space into classes so that we can easily put the new data point in the correct category in the future. This best decision boundary is called a hyperplane.\n",
    "- SVM chooses the extreme points/vectors that help in creating the hyperplane. These extreme cases are called as support vectors, and hence algorithm is termed as Support Vector Machine.\n",
    "\n",
    "**Linear SVM:** Linear SVM is used for linearly separable data, which means if a dataset can be classified into two classes by using a single straight line, then such data is termed as linearly separable data, and classifier is used called as Linear SVM classifier.    \n",
    "**Non-linear SVM:** Non-Linear SVM is used for non-linearly separated data, which means if a dataset cannot be classified by using a straight line, then such data is termed as non-linear data and classifier used is called as Non-linear SVM classifier.\n"
   ]
  },
  {
   "cell_type": "code",
   "execution_count": 1,
   "metadata": {},
   "outputs": [
    {
     "data": {
      "text/html": [
       " <img src=\"svm.png\" alt=\"RF\" width=\"500\" height=\"600\"> \n"
      ],
      "text/plain": [
       "<IPython.core.display.HTML object>"
      ]
     },
     "metadata": {},
     "output_type": "display_data"
    }
   ],
   "source": [
    "%%HTML\n",
    " <img src=\"svm.png\" alt=\"RF\" width=\"500\" height=\"600\"> "
   ]
  },
  {
   "cell_type": "markdown",
   "metadata": {
    "id": "7YJEQim-Bjl3"
   },
   "source": [
    "## Classifying Muffins and Cupcakes with SVM"
   ]
  },
  {
   "cell_type": "markdown",
   "metadata": {
    "id": "agySIxOxBjl9"
   },
   "source": [
    "##### Import required libraries"
   ]
  },
  {
   "cell_type": "code",
   "execution_count": 2,
   "metadata": {
    "id": "SqLW2R0pBjmC"
   },
   "outputs": [],
   "source": [
    "import numpy as np\n",
    "import pandas as pd\n",
    "from sklearn import svm\n",
    "import warnings\n",
    "warnings.filterwarnings('ignore')\n",
    "\n",
    "import matplotlib.pyplot as plt\n",
    "import seaborn as sns; sns.set(font_scale=1.2)\n",
    "\n",
    "# Allows charts to appear in the notebook\n",
    "\n",
    "%matplotlib inline"
   ]
  },
  {
   "cell_type": "markdown",
   "metadata": {
    "id": "guQF-2-VBjmE"
   },
   "source": [
    " ##### Read data from csv file "
   ]
  },
  {
   "cell_type": "code",
   "execution_count": 3,
   "metadata": {
    "id": "Zdgqpr0UBjmE",
    "outputId": "45fd2812-f31b-47af-ee59-6ac62ac8366e"
   },
   "outputs": [
    {
     "data": {
      "text/html": [
       "<div>\n",
       "<style scoped>\n",
       "    .dataframe tbody tr th:only-of-type {\n",
       "        vertical-align: middle;\n",
       "    }\n",
       "\n",
       "    .dataframe tbody tr th {\n",
       "        vertical-align: top;\n",
       "    }\n",
       "\n",
       "    .dataframe thead th {\n",
       "        text-align: right;\n",
       "    }\n",
       "</style>\n",
       "<table border=\"1\" class=\"dataframe\">\n",
       "  <thead>\n",
       "    <tr style=\"text-align: right;\">\n",
       "      <th></th>\n",
       "      <th>Type</th>\n",
       "      <th>Flour</th>\n",
       "      <th>Milk</th>\n",
       "      <th>Sugar</th>\n",
       "      <th>Butter</th>\n",
       "      <th>Egg</th>\n",
       "      <th>Baking Powder</th>\n",
       "      <th>Vanilla</th>\n",
       "      <th>Salt</th>\n",
       "    </tr>\n",
       "  </thead>\n",
       "  <tbody>\n",
       "    <tr>\n",
       "      <th>0</th>\n",
       "      <td>Muffin</td>\n",
       "      <td>55</td>\n",
       "      <td>28</td>\n",
       "      <td>3</td>\n",
       "      <td>7</td>\n",
       "      <td>5</td>\n",
       "      <td>2</td>\n",
       "      <td>0</td>\n",
       "      <td>0</td>\n",
       "    </tr>\n",
       "    <tr>\n",
       "      <th>1</th>\n",
       "      <td>Muffin</td>\n",
       "      <td>47</td>\n",
       "      <td>24</td>\n",
       "      <td>12</td>\n",
       "      <td>6</td>\n",
       "      <td>9</td>\n",
       "      <td>1</td>\n",
       "      <td>0</td>\n",
       "      <td>0</td>\n",
       "    </tr>\n",
       "    <tr>\n",
       "      <th>2</th>\n",
       "      <td>Muffin</td>\n",
       "      <td>47</td>\n",
       "      <td>23</td>\n",
       "      <td>18</td>\n",
       "      <td>6</td>\n",
       "      <td>4</td>\n",
       "      <td>1</td>\n",
       "      <td>0</td>\n",
       "      <td>0</td>\n",
       "    </tr>\n",
       "    <tr>\n",
       "      <th>3</th>\n",
       "      <td>Muffin</td>\n",
       "      <td>45</td>\n",
       "      <td>11</td>\n",
       "      <td>17</td>\n",
       "      <td>17</td>\n",
       "      <td>8</td>\n",
       "      <td>1</td>\n",
       "      <td>0</td>\n",
       "      <td>0</td>\n",
       "    </tr>\n",
       "    <tr>\n",
       "      <th>4</th>\n",
       "      <td>Muffin</td>\n",
       "      <td>50</td>\n",
       "      <td>25</td>\n",
       "      <td>12</td>\n",
       "      <td>6</td>\n",
       "      <td>5</td>\n",
       "      <td>2</td>\n",
       "      <td>1</td>\n",
       "      <td>0</td>\n",
       "    </tr>\n",
       "  </tbody>\n",
       "</table>\n",
       "</div>"
      ],
      "text/plain": [
       "     Type  Flour  Milk  Sugar  Butter  Egg  Baking Powder  Vanilla  Salt\n",
       "0  Muffin     55    28      3       7    5              2        0     0\n",
       "1  Muffin     47    24     12       6    9              1        0     0\n",
       "2  Muffin     47    23     18       6    4              1        0     0\n",
       "3  Muffin     45    11     17      17    8              1        0     0\n",
       "4  Muffin     50    25     12       6    5              2        1     0"
      ]
     },
     "execution_count": 3,
     "metadata": {},
     "output_type": "execute_result"
    }
   ],
   "source": [
    "# Read in muffin and cupcake ingredient data\n",
    "\n",
    "recipes = pd.read_csv('recipes_muffins_cupcakes.csv')\n",
    "recipes.head(5)"
   ]
  },
  {
   "cell_type": "raw",
   "metadata": {},
   "source": [
    "Muffins are hard in texture while Cupcakes are more swit"
   ]
  },
  {
   "cell_type": "markdown",
   "metadata": {
    "id": "Zl3wgpp0BjmF"
   },
   "source": [
    "##### Prepare data"
   ]
  },
  {
   "cell_type": "code",
   "execution_count": 4,
   "metadata": {
    "id": "zTt12auFBjmG",
    "outputId": "46ae42eb-14d9-4f66-af37-05ad0123e7fa",
    "scrolled": true
   },
   "outputs": [
    {
     "data": {
      "image/png": "[encoded data removed]",
      "text/plain": [
       "<Figure size 459.77x360 with 1 Axes>"
      ]
     },
     "metadata": {
      "needs_background": "light"
     },
     "output_type": "display_data"
    }
   ],
   "source": [
    "# Plot two ingredients\n",
    "\n",
    "sns.lmplot('Flour', 'Sugar', data=recipes, hue='Type', palette='Set1')\n",
    "plt.show()"
   ]
  },
  {
   "cell_type": "raw",
   "metadata": {},
   "source": [
    "plot represent seperatio of hyperplanes by margin. Here you may select all columns, but two are sufficient"
   ]
  },
  {
   "cell_type": "code",
   "execution_count": 5,
   "metadata": {
    "id": "ayAQYwV4BjmI",
    "outputId": "353bf285-59dc-42ee-ba39-4e9ca89fb9fd"
   },
   "outputs": [
    {
     "data": {
      "image/png": "[encoded data removed]",
      "text/plain": [
       "<Figure size 432x288 with 1 Axes>"
      ]
     },
     "metadata": {
      "needs_background": "light"
     },
     "output_type": "display_data"
    }
   ],
   "source": [
    "# See scater plot to visualize the data distribution\n",
    "\n",
    "plt.scatter(recipes.Sugar,recipes.Flour)\n",
    "plt.show()"
   ]
  },
  {
   "cell_type": "raw",
   "metadata": {},
   "source": [
    "scater plot is linear in nature"
   ]
  },
  {
   "cell_type": "code",
   "execution_count": 6,
   "metadata": {
    "id": "r4WTn4QVBjmJ",
    "outputId": "749b390a-e942-4ca8-e6e1-21c7a6d52ee9",
    "scrolled": false
   },
   "outputs": [
    {
     "data": {
      "text/html": [
       "<div>\n",
       "<style scoped>\n",
       "    .dataframe tbody tr th:only-of-type {\n",
       "        vertical-align: middle;\n",
       "    }\n",
       "\n",
       "    .dataframe tbody tr th {\n",
       "        vertical-align: top;\n",
       "    }\n",
       "\n",
       "    .dataframe thead th {\n",
       "        text-align: right;\n",
       "    }\n",
       "</style>\n",
       "<table border=\"1\" class=\"dataframe\">\n",
       "  <thead>\n",
       "    <tr style=\"text-align: right;\">\n",
       "      <th></th>\n",
       "      <th>Flour</th>\n",
       "      <th>Sugar</th>\n",
       "    </tr>\n",
       "  </thead>\n",
       "  <tbody>\n",
       "    <tr>\n",
       "      <th>0</th>\n",
       "      <td>55</td>\n",
       "      <td>3</td>\n",
       "    </tr>\n",
       "    <tr>\n",
       "      <th>1</th>\n",
       "      <td>47</td>\n",
       "      <td>12</td>\n",
       "    </tr>\n",
       "    <tr>\n",
       "      <th>2</th>\n",
       "      <td>47</td>\n",
       "      <td>18</td>\n",
       "    </tr>\n",
       "  </tbody>\n",
       "</table>\n",
       "</div>"
      ],
      "text/plain": [
       "   Flour  Sugar\n",
       "0     55      3\n",
       "1     47     12\n",
       "2     47     18"
      ]
     },
     "execution_count": 6,
     "metadata": {},
     "output_type": "execute_result"
    }
   ],
   "source": [
    "# Specify inputs for the model\n",
    "\n",
    "ingredients = recipes[['Flour','Sugar']]\n",
    "ingredients[:3]"
   ]
  },
  {
   "cell_type": "code",
   "execution_count": 7,
   "metadata": {
    "id": "arTnnuXuBjmJ",
    "outputId": "ee2a0d32-8cb0-48a2-a99c-aacea43beaf4"
   },
   "outputs": [
    {
     "data": {
      "text/plain": [
       "0    Muffin\n",
       "1    Muffin\n",
       "Name: Type, dtype: object"
      ]
     },
     "execution_count": 7,
     "metadata": {},
     "output_type": "execute_result"
    }
   ],
   "source": [
    "recipes.Type[:2]"
   ]
  },
  {
   "cell_type": "raw",
   "metadata": {},
   "source": [
    "Target having categorical data. so, convert it to numeric one"
   ]
  },
  {
   "cell_type": "code",
   "execution_count": 8,
   "metadata": {
    "id": "3Y4A9okVBjmK"
   },
   "outputs": [],
   "source": [
    "# Output y ==> convert muffin as 0 and Cupcake as 1\n",
    "\n",
    "type_label = np.where(recipes['Type']=='Muffin', 0, 1)"
   ]
  },
  {
   "cell_type": "code",
   "execution_count": 9,
   "metadata": {
    "id": "vWTvqd8UBjmL",
    "outputId": "b102c2ec-ea53-4b2c-e5cd-c64111ff5b37"
   },
   "outputs": [
    {
     "data": {
      "text/plain": [
       "array([0, 0, 0])"
      ]
     },
     "execution_count": 9,
     "metadata": {},
     "output_type": "execute_result"
    }
   ],
   "source": [
    "type_label[:3]"
   ]
  },
  {
   "cell_type": "markdown",
   "metadata": {
    "id": "tKlYgJACBjmL"
   },
   "source": [
    "##### Train the model\n",
    "As scater plot is linear in nature use linear kernel"
   ]
  },
  {
   "cell_type": "code",
   "execution_count": 10,
   "metadata": {
    "id": "3voEaFSjBjmN",
    "outputId": "941a37b4-c073-4d73-8c25-5f78ca276f63"
   },
   "outputs": [
    {
     "data": {
      "text/plain": [
       "SVC(kernel='linear')"
      ]
     },
     "execution_count": 10,
     "metadata": {},
     "output_type": "execute_result"
    }
   ],
   "source": [
    "model = svm.SVC(kernel='linear') \n",
    "model.fit(ingredients, type_label)"
   ]
  },
  {
   "cell_type": "code",
   "execution_count": 11,
   "metadata": {
    "id": "aYOYMGjGBjmN",
    "outputId": "014db26a-afe9-42e8-eb43-1d5191856321"
   },
   "outputs": [
    {
     "data": {
      "text/plain": [
       "100.0"
      ]
     },
     "execution_count": 11,
     "metadata": {},
     "output_type": "execute_result"
    }
   ],
   "source": [
    "# Check data accuracy\n",
    "\n",
    "model.score(ingredients, type_label)*100"
   ]
  },
  {
   "cell_type": "raw",
   "metadata": {},
   "source": [
    "As target is having two classes, it can be a classification problem. Train classification model on data and check accuracy for Gaussian distribution, using default kernel = rbf "
   ]
  },
  {
   "cell_type": "code",
   "execution_count": 12,
   "metadata": {
    "id": "Efu6jAeFBjmO",
    "outputId": "1fb9f1de-4c6b-4274-dfcc-f67e4cc703b3"
   },
   "outputs": [
    {
     "data": {
      "text/plain": [
       "95.0"
      ]
     },
     "execution_count": 12,
     "metadata": {},
     "output_type": "execute_result"
    }
   ],
   "source": [
    "# Fit the SVM model\n",
    "\n",
    "model2 = svm.SVC()\n",
    "model2.fit(ingredients, type_label)\n",
    "\n",
    "# check data accuracy\n",
    "model2.score(ingredients, type_label)*100"
   ]
  },
  {
   "cell_type": "raw",
   "metadata": {},
   "source": [
    "As data has lnear distribution it gives better accuracy while using linear kernel"
   ]
  },
  {
   "cell_type": "markdown",
   "metadata": {
    "id": "rjX3trQyBjmP"
   },
   "source": [
    "##### Visualize Results"
   ]
  },
  {
   "cell_type": "code",
   "execution_count": 13,
   "metadata": {
    "id": "xguKSqk3BjmP",
    "outputId": "888568a0-160d-4656-d715-cf8b6b397963"
   },
   "outputs": [
    {
     "data": {
      "text/plain": [
       "array([[-6.66503014e-01, -7.77156117e-16]])"
      ]
     },
     "execution_count": 13,
     "metadata": {},
     "output_type": "execute_result"
    }
   ],
   "source": [
    "# Get coefficient of line\n",
    "\n",
    "model.coef_"
   ]
  },
  {
   "cell_type": "code",
   "execution_count": 14,
   "metadata": {
    "id": "qVtCNzQwBjmP",
    "outputId": "59499a3a-f887-484d-ba56-3790f71a50fc"
   },
   "outputs": [
    {
     "data": {
      "text/plain": [
       "array([28.99296292])"
      ]
     },
     "execution_count": 14,
     "metadata": {},
     "output_type": "execute_result"
    }
   ],
   "source": [
    "# Get intercept of line\n",
    "\n",
    "model.intercept_"
   ]
  },
  {
   "cell_type": "code",
   "execution_count": 15,
   "metadata": {
    "id": "XH2qvAAWBjmQ",
    "outputId": "84cf8412-a5d7-4395-8799-b4aef16f98c8"
   },
   "outputs": [
    {
     "data": {
      "text/plain": [
       "array([1])"
      ]
     },
     "execution_count": 15,
     "metadata": {},
     "output_type": "execute_result"
    }
   ],
   "source": [
    "# Prediction\n",
    "\n",
    "model.predict([[42,20]])"
   ]
  },
  {
   "cell_type": "code",
   "execution_count": 16,
   "metadata": {
    "id": "fn516-sIBjmR",
    "outputId": "4ce7849b-07b1-4249-aef7-49a7492e6e0c"
   },
   "outputs": [
    {
     "data": {
      "text/plain": [
       "array([[45., 17.],\n",
       "       [42., 16.],\n",
       "       [42., 25.]])"
      ]
     },
     "execution_count": 16,
     "metadata": {},
     "output_type": "execute_result"
    }
   ],
   "source": [
    "# Get support vectors\n",
    "\n",
    "model.support_vectors_"
   ]
  },
  {
   "cell_type": "code",
   "execution_count": 17,
   "metadata": {
    "id": "hoN8-7WLBjmR",
    "outputId": "1ff4663b-1acc-4133-e8d7-348530662c58"
   },
   "outputs": [
    {
     "data": {
      "text/plain": [
       "array([30.        , 30.6122449 , 31.2244898 , 31.83673469, 32.44897959,\n",
       "       33.06122449, 33.67346939, 34.28571429, 34.89795918, 35.51020408,\n",
       "       36.12244898, 36.73469388, 37.34693878, 37.95918367, 38.57142857,\n",
       "       39.18367347, 39.79591837, 40.40816327, 41.02040816, 41.63265306,\n",
       "       42.24489796, 42.85714286, 43.46938776, 44.08163265, 44.69387755,\n",
       "       45.30612245, 45.91836735, 46.53061224, 47.14285714, 47.75510204,\n",
       "       48.36734694, 48.97959184, 49.59183673, 50.20408163, 50.81632653,\n",
       "       51.42857143, 52.04081633, 52.65306122, 53.26530612, 53.87755102,\n",
       "       54.48979592, 55.10204082, 55.71428571, 56.32653061, 56.93877551,\n",
       "       57.55102041, 58.16326531, 58.7755102 , 59.3877551 , 60.        ])"
      ]
     },
     "execution_count": 17,
     "metadata": {},
     "output_type": "execute_result"
    }
   ],
   "source": [
    "# Use numpy to get linearly distributed data point values\n",
    "\n",
    "np.linspace(30, 60)"
   ]
  },
  {
   "cell_type": "code",
   "execution_count": 18,
   "metadata": {
    "id": "S-hW4PbsBjmR"
   },
   "outputs": [
    {
     "name": "stdout",
     "output_type": "stream",
     "text": [
      "[-6.66503014e-01 -7.77156117e-16]\n"
     ]
    }
   ],
   "source": [
    "# Get the separating hyperplane\n",
    "\n",
    "w = model.coef_[0]\n",
    "print(w)\n",
    "a = -w[0] / w[1]\n",
    "xx = np.linspace(30, 60)\n",
    "yy = a * xx - (model.intercept_[0]) / w[1]\n",
    "\n",
    "# Plot the parallels to the separating hyperplane that pass through the support vectors\n",
    "\n",
    "b = model.support_vectors_[0]\n",
    "yy_down = a * xx + (b[1] - a * b[0])\n",
    "b = model.support_vectors_[-1]\n",
    "yy_up = a * xx + (b[1] - a * b[0])"
   ]
  },
  {
   "cell_type": "code",
   "execution_count": 19,
   "metadata": {
    "id": "RbO6xR8dBjmS",
    "outputId": "71eaa09a-2371-49b4-f244-5ed23d37f6a7"
   },
   "outputs": [
    {
     "data": {
      "image/png": "[encoded data removed]",
      "text/plain": [
       "<Figure size 459.77x360 with 1 Axes>"
      ]
     },
     "metadata": {
      "needs_background": "light"
     },
     "output_type": "display_data"
    }
   ],
   "source": [
    "# Plot the hyperplane\n",
    "sns.lmplot('Flour', 'Sugar', data=recipes, hue='Type', palette='Set1', fit_reg=False, scatter_kws={\"s\": 70})\n",
    "plt.plot(xx, yy, linewidth=2, color='black');"
   ]
  },
  {
   "cell_type": "code",
   "execution_count": 20,
   "metadata": {
    "id": "_0laubJ1BjmT",
    "outputId": "e0133585-6910-468b-b1c8-7bcf057817d3"
   },
   "outputs": [
    {
     "data": {
      "text/plain": [
       "array([17., 16., 25.])"
      ]
     },
     "execution_count": 20,
     "metadata": {},
     "output_type": "execute_result"
    }
   ],
   "source": [
    "model.support_vectors_[:,1]"
   ]
  },
  {
   "cell_type": "code",
   "execution_count": 21,
   "metadata": {
    "id": "Agx4BOwGBjmT",
    "outputId": "750d3fbf-2cbf-43f5-8173-049d46e8b597"
   },
   "outputs": [
    {
     "data": {
      "image/png": "[encoded data removed]",
      "text/plain": [
       "<Figure size 459.77x360 with 1 Axes>"
      ]
     },
     "metadata": {
      "needs_background": "light"
     },
     "output_type": "display_data"
    }
   ],
   "source": [
    "# Look at the margins and support vectors\n",
    "# data samples\n",
    "sns.lmplot('Flour', 'Sugar', data=recipes, hue='Type', palette='Set1', fit_reg=False, scatter_kws={\"s\": 70})\n",
    "\n",
    "plt.plot(xx, yy, linewidth=2, color='black') # Hyperplane\n",
    "plt.plot(xx, yy_down, 'k--') # MarginLine1\n",
    "plt.plot(xx, yy_up, 'k--') # MargineLine2\n",
    "plt.scatter(model.support_vectors_[:, 0], model.support_vectors_[:, 1],\n",
    "            s=80, facecolors='black');"
   ]
  },
  {
   "cell_type": "markdown",
   "metadata": {
    "id": "vA-v05SFBjmU"
   },
   "source": [
    "##### Predict New Case"
   ]
  },
  {
   "cell_type": "code",
   "execution_count": 22,
   "metadata": {
    "id": "gEvp-TXDBjmU"
   },
   "outputs": [],
   "source": [
    "# Create a function to guess when a recipe is a muffin or a cupcake\n",
    "\n",
    "def muffin_or_cupcake(flour, sugar):\n",
    "    if(model.predict([[flour, sugar]]))==0:\n",
    "        print('You\\'re looking at a muffin recipe!')\n",
    "    else:\n",
    "        print('You\\'re looking at a cupcake recipe!')"
   ]
  },
  {
   "cell_type": "code",
   "execution_count": 23,
   "metadata": {
    "id": "AkLgSV9EBjmU",
    "outputId": "c933c0c2-294b-483f-c086-2e33cf954ca0"
   },
   "outputs": [
    {
     "name": "stdout",
     "output_type": "stream",
     "text": [
      "You're looking at a cupcake recipe!\n"
     ]
    }
   ],
   "source": [
    "# Predict if 20 parts flour and 30 parts sugar\n",
    "\n",
    "muffin_or_cupcake(20,30)"
   ]
  },
  {
   "cell_type": "code",
   "execution_count": 24,
   "metadata": {
    "id": "_bTP5qliBjmV",
    "outputId": "e1c1acd2-0f96-4a4f-a2a3-0020fe67b8e8"
   },
   "outputs": [
    {
     "data": {
      "image/png": "[encoded data removed]",
      "text/plain": [
       "<Figure size 459.77x360 with 1 Axes>"
      ]
     },
     "metadata": {
      "needs_background": "light"
     },
     "output_type": "display_data"
    }
   ],
   "source": [
    "# Plot the point to visually see where the point lies\n",
    "\n",
    "sns.lmplot('Flour', 'Sugar', data=recipes, hue='Type', palette='Set1', fit_reg=False, scatter_kws={\"s\": 70})\n",
    "plt.plot(xx, yy, linewidth=2, color='black')\n",
    "plt.plot(20, 30, 'ko', markersize='12');"
   ]
  },
  {
   "cell_type": "raw",
   "metadata": {
    "id": "1ViOGoQiBjmV"
   },
   "source": [
    "Here, plot  indicates that if flour and sugar are of 20 and 30 respectivelly then it should be Cupcake"
   ]
  }
 ],
 "metadata": {
  "colab": {
   "name": "M_SVM_muffin_vs_cupcake_classification_SVM.ipynb",
   "provenance": []
  },
  "kernelspec": {
   "display_name": "Python 3",
   "language": "python",
   "name": "python3"
  },
  "language_info": {
   "codemirror_mode": {
    "name": "ipython",
    "version": 3
   },
   "file_extension": ".py",
   "mimetype": "text/x-python",
   "name": "python",
   "nbconvert_exporter": "python",
   "pygments_lexer": "ipython3",
   "version": "3.8.8"
  },
  "toc": {
   "colors": {
    "hover_highlight": "#DAA520",
    "navigate_num": "#000000",
    "navigate_text": "#333333",
    "running_highlight": "#FF0000",
    "selected_highlight": "#FFD700",
    "sidebar_border": "#EEEEEE",
    "wrapper_background": "#FFFFFF"
   },
   "moveMenuLeft": true,
   "nav_menu": {
    "height": "12px",
    "width": "252px"
   },
   "navigate_menu": true,
   "number_sections": true,
   "sideBar": true,
   "threshold": 4,
   "toc_cell": false,
   "toc_section_display": "block",
   "toc_window_display": false,
   "widenNotebook": false
  }
 },
 "nbformat": 4,
 "nbformat_minor": 1
}
